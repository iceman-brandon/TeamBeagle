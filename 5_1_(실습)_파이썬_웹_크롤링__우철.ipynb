{
  "nbformat": 4,
  "nbformat_minor": 0,
  "metadata": {
    "colab": {
      "name": "5-1.(실습) 파이썬 웹 크롤링._우철",
      "provenance": [],
      "collapsed_sections": []
    },
    "kernelspec": {
      "name": "python3",
      "display_name": "Python 3"
    }
  },
  "cells": [
    {
      "cell_type": "markdown",
      "metadata": {
        "id": "SqAmRSmBsZyQ"
      },
      "source": [
        "# 기본 웹 페이지 실습1"
      ]
    },
    {
      "cell_type": "markdown",
      "metadata": {
        "id": "63jegnCQsgpu"
      },
      "source": [
        "* http://ocial.dothome.co.kr/test.html"
      ]
    },
    {
      "cell_type": "code",
      "metadata": {
        "id": "Q7HElQKksfz1",
        "colab": {
          "base_uri": "https://localhost:8080/"
        },
        "outputId": "d0ddcc4b-0eb2-4338-f41b-2fc5c2342c7e"
      },
      "source": [
        "# requests, BeautifulSoup 라이브러리 불러오기\n",
        "!pip install beautifulsoup4\n",
        "!pip install requests\n",
        "\n",
        "# 불러오기\n",
        "import requests\n",
        "from bs4 import BeautifulSoup"
      ],
      "execution_count": null,
      "outputs": [
        {
          "output_type": "stream",
          "text": [
            "Requirement already satisfied: beautifulsoup4 in /usr/local/lib/python3.7/dist-packages (4.6.3)\n",
            "Requirement already satisfied: requests in /usr/local/lib/python3.7/dist-packages (2.23.0)\n",
            "Requirement already satisfied: chardet<4,>=3.0.2 in /usr/local/lib/python3.7/dist-packages (from requests) (3.0.4)\n",
            "Requirement already satisfied: certifi>=2017.4.17 in /usr/local/lib/python3.7/dist-packages (from requests) (2020.12.5)\n",
            "Requirement already satisfied: idna<3,>=2.5 in /usr/local/lib/python3.7/dist-packages (from requests) (2.10)\n",
            "Requirement already satisfied: urllib3!=1.25.0,!=1.25.1,<1.26,>=1.21.1 in /usr/local/lib/python3.7/dist-packages (from requests) (1.24.3)\n"
          ],
          "name": "stdout"
        }
      ]
    },
    {
      "cell_type": "code",
      "metadata": {
        "id": "YA3En_xBsUkv",
        "colab": {
          "base_uri": "https://localhost:8080/"
        },
        "outputId": "59fa44ab-4e75-4058-aea7-d07c34f9e443"
      },
      "source": [
        "# requests 라이브러리로 HTTP 요청\n",
        "res = requests.get('http://ocial.dothome.co.kr/test.html')\n",
        "res "
      ],
      "execution_count": null,
      "outputs": [
        {
          "output_type": "execute_result",
          "data": {
            "text/plain": [
              "<Response [200]>"
            ]
          },
          "metadata": {
            "tags": []
          },
          "execution_count": 4
        }
      ]
    },
    {
      "cell_type": "code",
      "metadata": {
        "id": "7cdTgZ4usw8j",
        "colab": {
          "base_uri": "https://localhost:8080/"
        },
        "outputId": "e3a4b271-7e26-4e12-f4f4-2dc728936ddc"
      },
      "source": [
        "# res 에서 텍스트 추출 후 출력\n",
        "data = res.text\n",
        "print(data)"
      ],
      "execution_count": null,
      "outputs": [
        {
          "output_type": "stream",
          "text": [
            "<!DOCTYPE html>\n",
            "<html>\n",
            "    <head>\n",
            "        <title>Very Simple HTML Code by PinkWink</title>\n",
            "    </head>\n",
            "    <body>\n",
            "        <div>\n",
            "            <p class=\"inner-text first-item\" id=\"first\">\n",
            "                Happy PinkWink.\n",
            "                <a href=\"http://www.pinkwink.kr\" id=\"pw-link\">PinkWink</a>\n",
            "            </p>\n",
            "            <p class=\"inner-text second-item\">\n",
            "                Happy Data Science.\n",
            "                <a href=\"https://www.python.org\" id=\"py-link\">Python</a>\n",
            "            </p>\n",
            "        </div>\n",
            "        <p class=\"outer-text first-item\" id=\"second\">\n",
            "            <b>\n",
            "                Data Science is funny.\n",
            "            </b>\n",
            "        </p>\n",
            "        <p class=\"outer-text\">\n",
            "            <b>\n",
            "                All I need is Love.\n",
            "            </b>\n",
            "        </p>\n",
            "    </body>\n",
            "</html>\n"
          ],
          "name": "stdout"
        }
      ]
    },
    {
      "cell_type": "code",
      "metadata": {
        "id": "M4rYOlsOs35O",
        "colab": {
          "base_uri": "https://localhost:8080/"
        },
        "outputId": "3ef86b52-c2da-463d-d359-61deae1a98bf"
      },
      "source": [
        "# BeautifulSoup 라이브러리를 사용한 html 파싱\n",
        "soup = BeautifulSoup(data, 'html.parser')\n",
        "type(soup)"
      ],
      "execution_count": null,
      "outputs": [
        {
          "output_type": "execute_result",
          "data": {
            "text/plain": [
              "bs4.BeautifulSoup"
            ]
          },
          "metadata": {
            "tags": []
          },
          "execution_count": 6
        }
      ]
    },
    {
      "cell_type": "code",
      "metadata": {
        "id": "dSEZVCogtCmO",
        "colab": {
          "base_uri": "https://localhost:8080/"
        },
        "outputId": "3e8222ca-7e91-434f-bdff-20efb8070a5f"
      },
      "source": [
        "# <title> 태그 가져오기 (find 사용)\n",
        "title_elements = soup.find('title')\n",
        "print(title_elements)"
      ],
      "execution_count": null,
      "outputs": [
        {
          "output_type": "stream",
          "text": [
            "<title>Very Simple HTML Code by PinkWink</title>\n"
          ],
          "name": "stdout"
        }
      ]
    },
    {
      "cell_type": "code",
      "metadata": {
        "id": "XmJFW7-rtgO_",
        "colab": {
          "base_uri": "https://localhost:8080/"
        },
        "outputId": "d415a2bc-cf98-4742-d0c3-10a5bd2f0d2c"
      },
      "source": [
        "# <title> 태그의 가져와서 text만 출력하기 (select 사용)\n",
        "title_elements = soup.select('title')\n",
        "title_text = title_elements[0].text\n",
        "print(title_text)"
      ],
      "execution_count": null,
      "outputs": [
        {
          "output_type": "stream",
          "text": [
            "Very Simple HTML Code by PinkWink\n"
          ],
          "name": "stdout"
        }
      ]
    },
    {
      "cell_type": "code",
      "metadata": {
        "id": "7gRoWI0OtSXo",
        "colab": {
          "base_uri": "https://localhost:8080/"
        },
        "outputId": "264aa271-95a2-47d5-aa7a-ee826ff29266"
      },
      "source": [
        "# <div> 태그 가져오기 \n",
        "div_elements = soup.find('div')\n",
        "print(div_elements)"
      ],
      "execution_count": null,
      "outputs": [
        {
          "output_type": "stream",
          "text": [
            "<div>\n",
            "<p class=\"inner-text first-item\" id=\"first\">\n",
            "                Happy PinkWink.\n",
            "                <a href=\"http://www.pinkwink.kr\" id=\"pw-link\">PinkWink</a>\n",
            "</p>\n",
            "<p class=\"inner-text second-item\">\n",
            "                Happy Data Science.\n",
            "                <a href=\"https://www.python.org\" id=\"py-link\">Python</a>\n",
            "</p>\n",
            "</div>\n"
          ],
          "name": "stdout"
        }
      ]
    },
    {
      "cell_type": "code",
      "metadata": {
        "id": "Tlmj8wIvuHOL",
        "colab": {
          "base_uri": "https://localhost:8080/"
        },
        "outputId": "0e67055d-9333-44d3-d5b1-e76adf840800"
      },
      "source": [
        "# <p> 태그 중 id=\"second\" 인 태그 가져오기\n",
        "p_elements = soup.select('p#second')\n",
        "print(p_elements)"
      ],
      "execution_count": null,
      "outputs": [
        {
          "output_type": "stream",
          "text": [
            "[<p class=\"outer-text first-item\" id=\"second\">\n",
            "<b>\n",
            "                Data Science is funny.\n",
            "            </b>\n",
            "</p>]\n"
          ],
          "name": "stdout"
        }
      ]
    },
    {
      "cell_type": "code",
      "metadata": {
        "id": "5BljQtRsvRJH",
        "colab": {
          "base_uri": "https://localhost:8080/"
        },
        "outputId": "b8b728d0-13da-4c1e-f33e-c8856a5ea79c"
      },
      "source": [
        "# <p> 태그 중 class=\"inner-text second-item\" 인 태그 가져오기\n",
        "p_elements = soup.select('p.inner-text.second-item')\n",
        "print(p_elements)"
      ],
      "execution_count": null,
      "outputs": [
        {
          "output_type": "stream",
          "text": [
            "[<p class=\"inner-text second-item\">\n",
            "                Happy Data Science.\n",
            "                <a href=\"https://www.python.org\" id=\"py-link\">Python</a>\n",
            "</p>]\n"
          ],
          "name": "stdout"
        }
      ]
    },
    {
      "cell_type": "code",
      "metadata": {
        "id": "dtnNkewPveDB",
        "colab": {
          "base_uri": "https://localhost:8080/"
        },
        "outputId": "9f4d2e4f-4bc2-41d3-e886-160e5e001a29"
      },
      "source": [
        "# <p> 태그 중 id=\"first\" 인 태그 안에서 <a> 태그 가져오기\n",
        "a_elements = soup.select('p.first-item > a')\n",
        "print(a_elements)"
      ],
      "execution_count": null,
      "outputs": [
        {
          "output_type": "stream",
          "text": [
            "[<a href=\"http://www.pinkwink.kr\" id=\"pw-link\">PinkWink</a>]\n"
          ],
          "name": "stdout"
        }
      ]
    },
    {
      "cell_type": "code",
      "metadata": {
        "id": "3j3qdSsiv3SH",
        "colab": {
          "base_uri": "https://localhost:8080/"
        },
        "outputId": "e37abef1-5d2f-486e-a928-86ba98583420"
      },
      "source": [
        "# 가져온 <a> 태그에서 text 확인\n",
        "a_text = a_elements[0].text\n",
        "print(a_text)"
      ],
      "execution_count": null,
      "outputs": [
        {
          "output_type": "stream",
          "text": [
            "PinkWink\n"
          ],
          "name": "stdout"
        }
      ]
    },
    {
      "cell_type": "code",
      "metadata": {
        "id": "pu2cEvppwBjW",
        "colab": {
          "base_uri": "https://localhost:8080/"
        },
        "outputId": "fae3648b-e190-4f97-818c-239407359ab5"
      },
      "source": [
        "# 가져온 <a> 태그에서 url 주소(href) 확인\n",
        "a_href = a_elements[0].attrs.get('href')\n",
        "print(a_href)"
      ],
      "execution_count": null,
      "outputs": [
        {
          "output_type": "stream",
          "text": [
            "http://www.pinkwink.kr\n"
          ],
          "name": "stdout"
        }
      ]
    },
    {
      "cell_type": "markdown",
      "metadata": {
        "id": "zYZ5bHACwMWe"
      },
      "source": [
        "# 기본 웹 페이지 실습2"
      ]
    },
    {
      "cell_type": "markdown",
      "metadata": {
        "id": "2Opv7wMw3Lj_"
      },
      "source": [
        "* http://ocial.dothome.co.kr/first.html"
      ]
    },
    {
      "cell_type": "code",
      "metadata": {
        "id": "7dcRnQX1wPdD"
      },
      "source": [
        "# requests, BeautifulSoup 라이브러리 불러오기\n",
        "import requests\n",
        "from bs4 import BeautifulSoup"
      ],
      "execution_count": null,
      "outputs": []
    },
    {
      "cell_type": "code",
      "metadata": {
        "id": "knid6wTK3PaT"
      },
      "source": [
        "url = 'http://ocial.dothome.co.kr/first.html'  # url 변수에 실습 페이지 url 입력(단순 실행)"
      ],
      "execution_count": null,
      "outputs": []
    },
    {
      "cell_type": "code",
      "metadata": {
        "id": "I7gRLC9u3Z5k"
      },
      "source": [
        "# requests, BeautifulSoup 라이브러리 사용하여 soup 객체 만들기\n",
        "res = requests.get('http://ocial.dothome.co.kr/first.html')\n",
        "res.encoding='utf-8'  # 한글 깨짐 현상 해결\n",
        "\n",
        "data = res.text\n",
        "soup = BeautifulSoup(data, 'html.parser')"
      ],
      "execution_count": null,
      "outputs": []
    },
    {
      "cell_type": "code",
      "metadata": {
        "id": "YYemofgL3qZV"
      },
      "source": [
        "# <img> 태그 가져오기\n",
        "img_elements = soup.select('img')"
      ],
      "execution_count": null,
      "outputs": []
    },
    {
      "cell_type": "code",
      "metadata": {
        "id": "RKbk2LdA3yLK"
      },
      "source": [
        "# <img> 태그에서 src 추출하기\n",
        "img_src = img_elements[0].attrs.get('src')"
      ],
      "execution_count": null,
      "outputs": []
    },
    {
      "cell_type": "code",
      "metadata": {
        "id": "FACXcbDl37mS",
        "colab": {
          "base_uri": "https://localhost:8080/",
          "height": 35
        },
        "outputId": "694a7d83-496e-405b-b373-154d1c2e9b23"
      },
      "source": [
        "# 이미지 url 생성 및 결과 확인\n",
        "'http://ocial.dothome.co.kr/' + img_src"
      ],
      "execution_count": null,
      "outputs": [
        {
          "output_type": "execute_result",
          "data": {
            "application/vnd.google.colaboratory.intrinsic+json": {
              "type": "string"
            },
            "text/plain": [
              "'http://ocial.dothome.co.kr/images/first.jpg'"
            ]
          },
          "metadata": {
            "tags": []
          },
          "execution_count": 14
        }
      ]
    },
    {
      "cell_type": "markdown",
      "metadata": {
        "id": "UqeMDBR24JYc"
      },
      "source": [
        "# 네이트 실시간 이슈 키워드 크롤링 실습"
      ]
    },
    {
      "cell_type": "code",
      "metadata": {
        "id": "xOEQaGPbcgYQ"
      },
      "source": [
        "import requests\n",
        "from bs4 import BeautifulSoup"
      ],
      "execution_count": null,
      "outputs": []
    },
    {
      "cell_type": "code",
      "metadata": {
        "id": "12flKjuI4L9j"
      },
      "source": [
        "url = 'https://www.nate.com/'"
      ],
      "execution_count": null,
      "outputs": []
    },
    {
      "cell_type": "code",
      "metadata": {
        "id": "se7pjTb54Ox_"
      },
      "source": [
        "# 실습\n",
        "res = requests.get(url)\n",
        "\n",
        "data = res.text\n",
        "soup = BeautifulSoup(data, 'html.parser')"
      ],
      "execution_count": null,
      "outputs": []
    },
    {
      "cell_type": "code",
      "metadata": {
        "id": "wVyJKXNf4VmX"
      },
      "source": [
        "nate_rank = soup.select('span.txt_rank')"
      ],
      "execution_count": null,
      "outputs": []
    },
    {
      "cell_type": "code",
      "metadata": {
        "id": "X4Sv1bNc4Vi5",
        "colab": {
          "base_uri": "https://localhost:8080/"
        },
        "outputId": "d77aeb01-8b81-416f-b53a-40b74159e789"
      },
      "source": [
        "len(nate_rank)"
      ],
      "execution_count": null,
      "outputs": [
        {
          "output_type": "execute_result",
          "data": {
            "text/plain": [
              "5"
            ]
          },
          "metadata": {
            "tags": []
          },
          "execution_count": 20
        }
      ]
    },
    {
      "cell_type": "code",
      "metadata": {
        "id": "EGlByNv-4Vd0",
        "colab": {
          "base_uri": "https://localhost:8080/",
          "height": 35
        },
        "outputId": "3782f33f-b0b5-4aa6-d180-978599fbb119"
      },
      "source": [
        "nate_rank[0].text"
      ],
      "execution_count": null,
      "outputs": [
        {
          "output_type": "execute_result",
          "data": {
            "application/vnd.google.colaboratory.intrinsic+json": {
              "type": "string"
            },
            "text/plain": [
              "'김동성'"
            ]
          },
          "metadata": {
            "tags": []
          },
          "execution_count": 21
        }
      ]
    },
    {
      "cell_type": "code",
      "metadata": {
        "id": "pUc1ikiX4VGR",
        "colab": {
          "base_uri": "https://localhost:8080/"
        },
        "outputId": "a3a5d626-8ad2-467c-dcb8-a3b5212903ba"
      },
      "source": [
        "for kwd_element in nate_rank:\n",
        "    print(kwd_element.text)"
      ],
      "execution_count": null,
      "outputs": [
        {
          "output_type": "stream",
          "text": [
            "김동성\n",
            "펜트하우스 2 김소연\n",
            "백신 접종 2만 322명\n",
            "장제원\n",
            "코로나19 확진자 356명 300명대\n"
          ],
          "name": "stdout"
        }
      ]
    },
    {
      "cell_type": "markdown",
      "metadata": {
        "id": "nSuIr0UcdB5i"
      },
      "source": [
        "yes24 월별 베스트도서 크롤링"
      ]
    },
    {
      "cell_type": "code",
      "metadata": {
        "id": "zrDRQ4_mewQW"
      },
      "source": [
        "'http://www.yes24.com/24/category/bestseller    ?CategoryNumber=001    &sumgb=09    &year=2021    &month=1'"
      ],
      "execution_count": null,
      "outputs": []
    },
    {
      "cell_type": "code",
      "metadata": {
        "id": "9qtAc0MudFol"
      },
      "source": [
        "# url에 매개변수가 필요한 경우\n",
        "pre_url = 'http://www.yes24.com/24/category/bestseller'\n",
        "parameter = {'CategoryNumber':'001',\n",
        "             'sumgb':'09',\n",
        "             'year':'2021',\n",
        "             'month':'1'}\n",
        "\n",
        "res = requests.get(pre_url, params = parameter)"
      ],
      "execution_count": null,
      "outputs": []
    },
    {
      "cell_type": "code",
      "metadata": {
        "colab": {
          "base_uri": "https://localhost:8080/"
        },
        "id": "ULXziXtzerod",
        "outputId": "70eb36ec-90ed-475e-b34f-fbabb30e4f22"
      },
      "source": [
        "res"
      ],
      "execution_count": null,
      "outputs": [
        {
          "output_type": "execute_result",
          "data": {
            "text/plain": [
              "<Response [200]>"
            ]
          },
          "metadata": {
            "tags": []
          },
          "execution_count": 105
        }
      ]
    },
    {
      "cell_type": "code",
      "metadata": {
        "colab": {
          "base_uri": "https://localhost:8080/",
          "height": 35
        },
        "id": "iDJPSS-oex8c",
        "outputId": "1f667e72-b539-4274-ef87-b1e2d91f6341"
      },
      "source": [
        "res.url # 전체 url 확인"
      ],
      "execution_count": null,
      "outputs": [
        {
          "output_type": "execute_result",
          "data": {
            "application/vnd.google.colaboratory.intrinsic+json": {
              "type": "string"
            },
            "text/plain": [
              "'http://www.yes24.com/24/category/bestseller?CategoryNumber=001&sumgb=09&year=2021&month=1'"
            ]
          },
          "metadata": {
            "tags": []
          },
          "execution_count": 106
        }
      ]
    },
    {
      "cell_type": "code",
      "metadata": {
        "id": "FtVAyytSe6tJ"
      },
      "source": [
        "data = res.text\n",
        "soup = BeautifulSoup(data, 'html.parser')"
      ],
      "execution_count": null,
      "outputs": []
    },
    {
      "cell_type": "code",
      "metadata": {
        "id": "1BnCkq5qfCYl"
      },
      "source": [
        "best_lists = soup.select('td.goodsTxtInfo > p > a')"
      ],
      "execution_count": null,
      "outputs": []
    },
    {
      "cell_type": "code",
      "metadata": {
        "id": "yIEACdmngCAw"
      },
      "source": [
        "total_list = []\n",
        "for i in range(len(best_lists)):\n",
        "    total_list.append(best_lists[i].text)"
      ],
      "execution_count": null,
      "outputs": []
    },
    {
      "cell_type": "code",
      "metadata": {
        "id": "66GreQ7NgOg6"
      },
      "source": [
        "import pandas as pd"
      ],
      "execution_count": null,
      "outputs": []
    },
    {
      "cell_type": "code",
      "metadata": {
        "id": "6qE15B_2gQrb"
      },
      "source": [
        "df = pd.DataFrame(total_list, columns=['best'])"
      ],
      "execution_count": null,
      "outputs": []
    },
    {
      "cell_type": "code",
      "metadata": {
        "id": "DLqo9ouXgYWt"
      },
      "source": [
        "df = df[df['best'] != ''].reset_index(drop=True)"
      ],
      "execution_count": null,
      "outputs": []
    },
    {
      "cell_type": "code",
      "metadata": {
        "colab": {
          "base_uri": "https://localhost:8080/",
          "height": 669
        },
        "id": "GHMByY4ggw-z",
        "outputId": "18d23777-4532-4b66-e4b6-7ced7af6b27c"
      },
      "source": [
        "df[::2].reset_index(drop=True)"
      ],
      "execution_count": null,
      "outputs": [
        {
          "output_type": "execute_result",
          "data": {
            "text/html": [
              "<div>\n",
              "<style scoped>\n",
              "    .dataframe tbody tr th:only-of-type {\n",
              "        vertical-align: middle;\n",
              "    }\n",
              "\n",
              "    .dataframe tbody tr th {\n",
              "        vertical-align: top;\n",
              "    }\n",
              "\n",
              "    .dataframe thead th {\n",
              "        text-align: right;\n",
              "    }\n",
              "</style>\n",
              "<table border=\"1\" class=\"dataframe\">\n",
              "  <thead>\n",
              "    <tr style=\"text-align: right;\">\n",
              "      <th></th>\n",
              "      <th>best</th>\n",
              "    </tr>\n",
              "  </thead>\n",
              "  <tbody>\n",
              "    <tr>\n",
              "      <th>0</th>\n",
              "      <td>달러구트 꿈 백화점</td>\n",
              "    </tr>\n",
              "    <tr>\n",
              "      <th>1</th>\n",
              "      <td>어떻게 말해줘야 할까</td>\n",
              "    </tr>\n",
              "    <tr>\n",
              "      <th>2</th>\n",
              "      <td>트렌드 코리아 2021</td>\n",
              "    </tr>\n",
              "    <tr>\n",
              "      <th>3</th>\n",
              "      <td>공정하다는 착각</td>\n",
              "    </tr>\n",
              "    <tr>\n",
              "      <th>4</th>\n",
              "      <td>일인칭 단수</td>\n",
              "    </tr>\n",
              "    <tr>\n",
              "      <th>5</th>\n",
              "      <td>위기의 시대, 돈의 미래</td>\n",
              "    </tr>\n",
              "    <tr>\n",
              "      <th>6</th>\n",
              "      <td>마음챙김의 시</td>\n",
              "    </tr>\n",
              "    <tr>\n",
              "      <th>7</th>\n",
              "      <td>이토록 공부가 재미있어지는 순간</td>\n",
              "    </tr>\n",
              "    <tr>\n",
              "      <th>8</th>\n",
              "      <td>미스터 마켓 2021</td>\n",
              "    </tr>\n",
              "    <tr>\n",
              "      <th>9</th>\n",
              "      <td>이상한 과자 가게 전천당 9</td>\n",
              "    </tr>\n",
              "    <tr>\n",
              "      <th>10</th>\n",
              "      <td>나의 하루는 4시 30분에 시작된다</td>\n",
              "    </tr>\n",
              "    <tr>\n",
              "      <th>11</th>\n",
              "      <td>돈의 속성</td>\n",
              "    </tr>\n",
              "    <tr>\n",
              "      <th>12</th>\n",
              "      <td>주식투자 무작정 따라하기</td>\n",
              "    </tr>\n",
              "    <tr>\n",
              "      <th>13</th>\n",
              "      <td>방구석 미술관</td>\n",
              "    </tr>\n",
              "    <tr>\n",
              "      <th>14</th>\n",
              "      <td>흔한남매 별난 방탈출 1</td>\n",
              "    </tr>\n",
              "    <tr>\n",
              "      <th>15</th>\n",
              "      <td>방구석 미술관 2 : 한국</td>\n",
              "    </tr>\n",
              "    <tr>\n",
              "      <th>16</th>\n",
              "      <td>5년 후 나에게 Q&amp;A a day (2021 메모리아 화이트 Gift Edition)</td>\n",
              "    </tr>\n",
              "    <tr>\n",
              "      <th>17</th>\n",
              "      <td>엑시트 EXIT</td>\n",
              "    </tr>\n",
              "    <tr>\n",
              "      <th>18</th>\n",
              "      <td>셀트리오니즘</td>\n",
              "    </tr>\n",
              "    <tr>\n",
              "      <th>19</th>\n",
              "      <td>흔한남매의 흔한 호기심 2</td>\n",
              "    </tr>\n",
              "  </tbody>\n",
              "</table>\n",
              "</div>"
            ],
            "text/plain": [
              "                                               best\n",
              "0                                        달러구트 꿈 백화점\n",
              "1                                       어떻게 말해줘야 할까\n",
              "2                                      트렌드 코리아 2021\n",
              "3                                          공정하다는 착각\n",
              "4                                            일인칭 단수\n",
              "5                                     위기의 시대, 돈의 미래\n",
              "6                                           마음챙김의 시\n",
              "7                                 이토록 공부가 재미있어지는 순간\n",
              "8                                       미스터 마켓 2021\n",
              "9                                   이상한 과자 가게 전천당 9\n",
              "10                              나의 하루는 4시 30분에 시작된다\n",
              "11                                           돈의 속성 \n",
              "12                                    주식투자 무작정 따라하기\n",
              "13                                          방구석 미술관\n",
              "14                                    흔한남매 별난 방탈출 1\n",
              "15                                   방구석 미술관 2 : 한국\n",
              "16  5년 후 나에게 Q&A a day (2021 메모리아 화이트 Gift Edition)\n",
              "17                                         엑시트 EXIT\n",
              "18                                           셀트리오니즘\n",
              "19                                   흔한남매의 흔한 호기심 2"
            ]
          },
          "metadata": {
            "tags": []
          },
          "execution_count": 113
        }
      ]
    },
    {
      "cell_type": "markdown",
      "metadata": {
        "id": "XgtrBZ5LhVsN"
      },
      "source": [
        "멜론 인기차트"
      ]
    },
    {
      "cell_type": "code",
      "metadata": {
        "id": "RJboz_YVhW9F"
      },
      "source": [
        "url = 'https://www.melon.com/chart/day/index.htm'\n",
        "headers = {'User-Agent':'Mozilla/5.0 (Windows NT 6.3; Win64; x64) AppleWebKit/537.36 (KHTML, like Gecko) Chrome/63.0.3239.132 Safari/537.36'}\n",
        "\n",
        "res = requests.get(url, headers = headers)"
      ],
      "execution_count": null,
      "outputs": []
    },
    {
      "cell_type": "code",
      "metadata": {
        "colab": {
          "base_uri": "https://localhost:8080/"
        },
        "id": "FWlZb_sdh_zj",
        "outputId": "0d16d3ef-e320-433e-8c74-fc2e2e5fdfac"
      },
      "source": [
        "res"
      ],
      "execution_count": null,
      "outputs": [
        {
          "output_type": "execute_result",
          "data": {
            "text/plain": [
              "<Response [200]>"
            ]
          },
          "metadata": {
            "tags": []
          },
          "execution_count": 115
        }
      ]
    },
    {
      "cell_type": "code",
      "metadata": {
        "id": "bghs_QMCiAxc"
      },
      "source": [
        "data = res.text\n",
        "soup = BeautifulSoup(data, 'html.parser')"
      ],
      "execution_count": null,
      "outputs": []
    },
    {
      "cell_type": "code",
      "metadata": {
        "id": "0_maP68_iHAn"
      },
      "source": [
        "melon_list = soup.select('div.wrap_song_info > div > span > a')"
      ],
      "execution_count": null,
      "outputs": []
    },
    {
      "cell_type": "code",
      "metadata": {
        "id": "UAmvnVRJiObg"
      },
      "source": [
        "melon_chart = []\n",
        "for title in melon_list:\n",
        "    melon_chart.append(title.text)"
      ],
      "execution_count": null,
      "outputs": []
    },
    {
      "cell_type": "code",
      "metadata": {
        "id": "RdbLnhXKiUdA"
      },
      "source": [
        "df = pd.DataFrame(melon_chart, columns=['chart'])"
      ],
      "execution_count": null,
      "outputs": []
    },
    {
      "cell_type": "code",
      "metadata": {
        "colab": {
          "base_uri": "https://localhost:8080/",
          "height": 359
        },
        "id": "_dMzTE7-iaPG",
        "outputId": "edcb384c-43b5-46da-ba8a-77e13ef2866b"
      },
      "source": [
        "df.head(10)"
      ],
      "execution_count": null,
      "outputs": [
        {
          "output_type": "execute_result",
          "data": {
            "text/html": [
              "<div>\n",
              "<style scoped>\n",
              "    .dataframe tbody tr th:only-of-type {\n",
              "        vertical-align: middle;\n",
              "    }\n",
              "\n",
              "    .dataframe tbody tr th {\n",
              "        vertical-align: top;\n",
              "    }\n",
              "\n",
              "    .dataframe thead th {\n",
              "        text-align: right;\n",
              "    }\n",
              "</style>\n",
              "<table border=\"1\" class=\"dataframe\">\n",
              "  <thead>\n",
              "    <tr style=\"text-align: right;\">\n",
              "      <th></th>\n",
              "      <th>chart</th>\n",
              "    </tr>\n",
              "  </thead>\n",
              "  <tbody>\n",
              "    <tr>\n",
              "      <th>0</th>\n",
              "      <td>Celebrity</td>\n",
              "    </tr>\n",
              "    <tr>\n",
              "      <th>1</th>\n",
              "      <td>아이유</td>\n",
              "    </tr>\n",
              "    <tr>\n",
              "      <th>2</th>\n",
              "      <td>밤하늘의 별을(2020)</td>\n",
              "    </tr>\n",
              "    <tr>\n",
              "      <th>3</th>\n",
              "      <td>경서</td>\n",
              "    </tr>\n",
              "    <tr>\n",
              "      <th>4</th>\n",
              "      <td>Dynamite</td>\n",
              "    </tr>\n",
              "    <tr>\n",
              "      <th>5</th>\n",
              "      <td>방탄소년단</td>\n",
              "    </tr>\n",
              "    <tr>\n",
              "      <th>6</th>\n",
              "      <td>VVS (Feat. JUSTHIS) (Prod. GroovyRoom)</td>\n",
              "    </tr>\n",
              "    <tr>\n",
              "      <th>7</th>\n",
              "      <td>미란이 (Mirani)</td>\n",
              "    </tr>\n",
              "    <tr>\n",
              "      <th>8</th>\n",
              "      <td>먼치맨(MUNCHMAN)</td>\n",
              "    </tr>\n",
              "    <tr>\n",
              "      <th>9</th>\n",
              "      <td>Khundi Panda</td>\n",
              "    </tr>\n",
              "  </tbody>\n",
              "</table>\n",
              "</div>"
            ],
            "text/plain": [
              "                                    chart\n",
              "0                               Celebrity\n",
              "1                                     아이유\n",
              "2                           밤하늘의 별을(2020)\n",
              "3                                      경서\n",
              "4                                Dynamite\n",
              "5                                   방탄소년단\n",
              "6  VVS (Feat. JUSTHIS) (Prod. GroovyRoom)\n",
              "7                            미란이 (Mirani)\n",
              "8                           먼치맨(MUNCHMAN)\n",
              "9                            Khundi Panda"
            ]
          },
          "metadata": {
            "tags": []
          },
          "execution_count": 120
        }
      ]
    }
  ]
}