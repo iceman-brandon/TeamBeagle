{
  "nbformat": 4,
  "nbformat_minor": 0,
  "metadata": {
    "colab": {
      "name": "로또 추첨기",
      "provenance": [],
      "collapsed_sections": [],
      "authorship_tag": "ABX9TyN9quL+CYj9nC/odwAV/oh+"
    },
    "kernelspec": {
      "name": "python3",
      "display_name": "Python 3"
    }
  },
  "cells": [
    {
      "cell_type": "code",
      "metadata": {
        "id": "090A4qKqNaHL"
      },
      "source": [
        "import random"
      ],
      "execution_count": null,
      "outputs": []
    },
    {
      "cell_type": "code",
      "metadata": {
        "colab": {
          "base_uri": "https://localhost:8080/"
        },
        "id": "7NSjuqsPOm0l",
        "outputId": "bdadf56d-c0e6-4130-e4c6-5a850952b785"
      },
      "source": [
        "my_answer = input('원하는 번호 6개를 입력해주세요(쉼표로 구분) : ')\n",
        "my_answer = my_answer.split(', ')\n",
        "my_answer = list(map(int, my_answer))\n",
        "print(my_answer)\n",
        "\n",
        "lotto_answer = random.sample(range(1,46), k = 6)\n",
        "lotto_answer.sort()\n",
        "print(lotto_answer)\n",
        "\n",
        "answer_count = len(set(lotto_answer) & set(my_answer))\n",
        "print('맞춘 개수는: ', answer_count)\n",
        "\n",
        "if answer_count == 6:\n",
        "    print('1등입니다. 축하합니다. 당첨금: 20억')\n",
        "elif answer_count == 5:\n",
        "    print('2등입니다. 축하합니다. 당첨금: 5천만원')\n",
        "elif answer_count == 4:\n",
        "    print('3등입니다. 축하합니다. 당첨금: 100만원')\n",
        "elif answer_count == 3:\n",
        "    print('4등입니다. 축하합니다. 당첨금: 5만원')\n",
        "else:\n",
        "    print('꽝! 다음 기회에...')"
      ],
      "execution_count": null,
      "outputs": [
        {
          "output_type": "stream",
          "text": [
            "원하는 번호 6개를 입력해주세요(쉼표로 구분) : 1, 2, 3, 4, 5, 40\n",
            "[1, 2, 3, 4, 5, 40]\n",
            "[3, 9, 18, 23, 34, 36]\n",
            "맞춘 개수는:  1\n",
            "꽝! 다음 기회에...\n"
          ],
          "name": "stdout"
        }
      ]
    }
