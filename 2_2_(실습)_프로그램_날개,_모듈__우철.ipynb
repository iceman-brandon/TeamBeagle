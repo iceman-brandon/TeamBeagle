{
  "nbformat": 4,
  "nbformat_minor": 0,
  "metadata": {
    "colab": {
      "name": "2-2. (실습) 프로그램 날개, 모듈._우철",
      "provenance": [],
      "collapsed_sections": []
    },
    "kernelspec": {
      "name": "python3",
      "display_name": "Python 3"
    }
  },
  "cells": [
    {
      "cell_type": "markdown",
      "metadata": {
        "id": "_XnLaygWR7e6"
      },
      "source": [
        "# STEP 1. 절대시감 프로그램 만들기\n",
        "\n",
        "모듈과 함수를 활용하고 다루어 절대시감 프로그램을 만들어본다."
      ]
    },
    {
      "cell_type": "markdown",
      "metadata": {
        "id": "emuaRtixTAP0"
      },
      "source": [
        "<프로그램 예시>    \n",
        "*    절대시감(絶對時感) 프로그램\n",
        "*    특정 시간에 맞게 버튼을 눌러 타이머를 정지시켜 기준시간에 맞추는 프로그램\n",
        "\n",
        "조건\n",
        "1.   criteria_time 변수에는 맞추고자하는 기준시간을 넣어준다.\n",
        "2.   엔터를 눌러서 시작하면 프로그램 내부적으로 시간이 흐른다.\n",
        "3.   흐르는 시간을 변수에 담는다.\n",
        "4.   기준 시간이 되었다고 생각하면 다시 엔터를 누른다.\n",
        "5.   흐른 시간과 멈춘 시간의 차이를 출력한다.\n",
        "6.   내가 선택한 시간이 기준시간보다 짧으면 음수로 출력, 기준시간보다 길면 양수로 출력\n",
        "\n",
        "출력형식\n",
        "*    기준시간 = 5초, 멈춘시간 = 6초 일 때,\n",
        "            \"기준시간과의 차이는 1초 입니다.\""
      ]
    },
    {
      "cell_type": "code",
      "metadata": {
        "id": "qOFK4fbG95kg"
      },
      "source": [
        "### <사용할 모듈 불러오기> ###\n",
        "import time  # 시간 관련되어 사용하는 모듈\n",
        "\n",
        "\n",
        "### <전역변수 정의하기> ###\n",
        "criteria_time = 5  # 기준시간은 5초로 정의\n",
        "\n",
        "\n",
        "### <함수 정의하기> ###\n",
        "def sense_of_time(criteria_time):\n",
        "    input('엔터를 누르면 시작됩니다!')  # 이벤트 시작을 위해 입력함수를 사용(입력값을 사용하지는 않음)\n",
        "    print('절대시감 시작!!!')\n",
        "\n",
        "    start_time = time.time()  # 현재시간을 start_time 변수에 저장(시작시간)\n",
        "\n",
        "    input(f'{criteria_time}초라고 생각되면 엔터를 누르세요!')\n",
        "\n",
        "    end_time = time.time()  # 현재시간을 end_time 변수에 저장(종료시간)\n",
        "\n",
        "    my_time = int(end_time - start_time)  # 종료시간 - 시작시간 = 흐른시간(내가 선택한 시간)\n",
        "\n",
        "    time_gap = my_time - criteria_time  # 내가 선택한 시간 - 기준시간 = 시간차이 \n",
        "    print(f'기준시간과의 차이는 {time_gap}초 입니다.')\n",
        "\n",
        "\n",
        "### <함수 실행하기> ###\n",
        "sense_of_time(criteria_time)"
      ],
      "execution_count": null,
      "outputs": []
    },
    {
      "cell_type": "markdown",
      "metadata": {
        "id": "yYbZQFYUbeeO"
      },
      "source": [
        "<프로그램 개선하기>\n",
        "*    절대시감(絶對時感) 프로그램 플러스\n",
        "*    특정 시간에 맞게 버튼을 눌러 타이머를 정지시켜 기준시간에 맞추는 프로그램\n",
        "\n",
        "추가조건\n",
        "1.   기존 절대시감 프로그램은 정수만 출력했으나 소수점 2자리까지 나오도록 개선한다.\n",
        "2.   시간 차이별로 등급을 선정한다. (시간 차이는 절대값으로 설정)\n",
        "    - 0.0 ≤ |시간차이| ＜ 1.0 : \"절대감각이네요!\"\n",
        "    - 1.0 ≤ |시간차이| ＜ 1.5 : \"시간 감각 우수\"\n",
        "    - 1.5 ≤ |시간차이| ＜ 2.0 : \"시간 감각 일반\"\n",
        "    - 2.0 ≤ |시간차이|        : \"약속시간을 잘 지킵시다!\"\n",
        "\n",
        "출력형식\n",
        "*    기준시간 = 5.0초, 멈춘시간 = 4.5초 일 때,\n",
        "            \"기준시간과의 차이는 0.5초 입니다.\"\n",
        "            \"절대감각이네요!\"\n",
        "\n",
        "Hint\n",
        "*    입출력 함수, 문자열 포매팅, math 모듈(abs 절대값 함수), 조건문, float 자료형, round 함수"
      ]
    },
    {
      "cell_type": "code",
      "metadata": {
        "id": "G-zeOBZ3bb97",
        "colab": {
          "base_uri": "https://localhost:8080/"
        },
        "outputId": "e5dbf1eb-1933-4322-94c8-864f12a05f72"
      },
      "source": [
        "##### 아래 코드를 수정하여 개선된 프로그램을 만들어보세요 #####\n",
        "\n",
        "### <사용할 모듈 불러오기> ###\n",
        "import time # 사용할 모듈 불러오기\n",
        "\n",
        "\n",
        "### <전역변수 정의하기> ###\n",
        "criteria_time = float(5) # 기준시간 넣기\n",
        "\n",
        "\n",
        "### <함수 정의하기> ###\n",
        "def sense_of_time(criteria_time):\n",
        "    input('엔터를 누르면 시작됩니다!')  # 이벤트 시작을 위해 입력함수를 사용(입력값을 사용하지는 않음)\n",
        "    print('절대시감 시작!!!')\n",
        "\n",
        "    start_time = time.time()  # 현재시간을 start_time 변수에 저장(시작시간)\n",
        "\n",
        "    input(f'{criteria_time}초라고 생각되면 엔터를 누르세요!')\n",
        "\n",
        "    end_time = time.time()  # 현재시간을 end_time 변수에 저장(종료시간)\n",
        "\n",
        "    my_time = float(end_time - start_time)  # 종료시간 - 시작시간 = 흐른시간(내가 선택한 시간)\n",
        "\n",
        "    time_gap = my_time - criteria_time  # 내가 선택한 시간 - 기준시간 = 시간차이 \n",
        "    print(f'기준시간과의 차이는 {round(abs(time_gap), 2)}초 입니다.')\n",
        "\n",
        "    if 0.0 <= time_gap < 1.0:\n",
        "        print('절대감각이네요!')\n",
        "    elif 1.0 <= time_gap < 1.5:\n",
        "        print('시간 감각 우수')\n",
        "    elif 1.5 <= time_gap < 2.0:\n",
        "        print('시간 감각 일반')\n",
        "    else:\n",
        "        print('약속시간을 잘 지킵시다!')\n",
        "\n",
        "### <함수 실행하기> ###\n",
        "sense_of_time(criteria_time)"
      ],
      "execution_count": null,
      "outputs": [
        {
          "output_type": "stream",
          "text": [
            "엔터를 누르면 시작됩니다!\n",
            "절대시감 시작!!!\n",
            "5.0초라고 생각되면 엔터를 누르세요!\n",
            "기준시간과의 차이는 1.53초 입니다.\n",
            "시간 감각 일반\n"
          ],
          "name": "stdout"
        }
      ]
    },
    {
      "cell_type": "markdown",
      "metadata": {
        "id": "ubz8g5wZfK44"
      },
      "source": [
        "# STEP 2. 로또숫자 추천 프로그램 만들기\n",
        "\n",
        "모듈과 함수를 활용하고 다루어 로또숫자 추천 프로그램을 만들어본다."
      ]
    },
    {
      "cell_type": "markdown",
      "metadata": {
        "id": "bvOTJM8jfgrj"
      },
      "source": [
        "<프로그램 예시>    \n",
        "*    로또숫자 추천 프로그램\n",
        "*    로또번호 6자리를 추천해주는 프로그램\n",
        "\n",
        "조건\n",
        "1.   로또번호는 1~45까지의 숫자 중 중복되지 않고 6자리를 선택해야한다.\n",
        "\n",
        "출력형식\n",
        "*    뽑힌 숫자가 1, 3, 21, 36, 40, 45인 경우,\n",
        "            \"로또 추천 번호는 1, 3, 21, 36, 40, 45 입니다.\""
      ]
    },
    {
      "cell_type": "code",
      "metadata": {
        "id": "CqGYNNLdZid5"
      },
      "source": [
        "### <사용할 모듈 불러오기> ###\n",
        "import random\n",
        "import time\n",
        "\n",
        "### <전역변수 정의하기> ###\n",
        "lotto_set = list(range(1, 46))  # 1 ~ 45까지 담겨있는 리스트 정의\n",
        "\n",
        "\n",
        "### <함수 정의하기> ###\n",
        "def choice_lotto(lotto_set):\n",
        "    input('엔터를 누르면 추천이 시작됩니다.')  # 이벤트 시작을 위해 입력함수를 사용(입력값을 사용하지는 않음)\n",
        "    print('로또 추천 시작!!!')\n",
        "\n",
        "    choice_lotto = []  # 뽑은 로또 번호를 담는 리스트\n",
        "    for i in range(6):\n",
        "        random_index = random.randint(0, len(lotto_set))  # 현재 로또 셋에서 랜덤하게 인덱스를 가져오기\n",
        "        pop_number = lotto_set.pop(random_index)  # 랜덤한 인덱스를 가지고 로또 셋에서 pop을 통해 번호 추출하기\n",
        "        choice_lotto.append(pop_number)  # 뽑은 번호를 담는 리스트에 번호 저장하기\n",
        "\n",
        "        print(f'{i+1}번째 번호 : {pop_number}')\n",
        "        time.sleep(0.5)\n",
        "    \n",
        "    result_lotto = ' '.join(map(str, choice_lotto))\n",
        "    print(f'로또 추천 번호는 {result_lotto} 입니다.')\n",
        "\n",
        "\n",
        "### <함수 실행하기> ###\n",
        "choice_lotto(lotto_set)"
      ],
      "execution_count": null,
      "outputs": []
    },
    {
      "cell_type": "markdown",
      "metadata": {
        "id": "HNneJsx4fMMv"
      },
      "source": [
        "# 새 섹션"
      ]
    }
  ]
}