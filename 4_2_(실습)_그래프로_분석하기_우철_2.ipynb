{
  "nbformat": 4,
  "nbformat_minor": 0,
  "metadata": {
    "colab": {
      "name": "4-2.(실습) 그래프로 분석하기.우철_2",
      "provenance": [],
      "collapsed_sections": [],
      "toc_visible": true
    },
    "kernelspec": {
      "name": "python3",
      "display_name": "Python 3"
    }
  },
  "cells": [
    {
      "cell_type": "markdown",
      "metadata": {
        "id": "Q6qXwpwfxkkG"
      },
      "source": [
        "## 코랩 한글 설정"
      ]
    },
    {
      "cell_type": "code",
      "metadata": {
        "colab": {
          "base_uri": "https://localhost:8080/"
        },
        "id": "zhpo6BS-xkUp",
        "outputId": "0ba7437d-5a84-4eb0-f81b-6ed9b07f55be"
      },
      "source": [
        "!sudo apt-get install -y fonts-nanum\n",
        "!sudo fc-cache -fv\n",
        "!rm ~/.cache/matplotlib -rf"
      ],
      "execution_count": null,
      "outputs": [
        {
          "output_type": "stream",
          "text": [
            "Reading package lists... Done\n",
            "Building dependency tree       \n",
            "Reading state information... Done\n",
            "The following NEW packages will be installed:\n",
            "  fonts-nanum\n",
            "0 upgraded, 1 newly installed, 0 to remove and 10 not upgraded.\n",
            "Need to get 9,604 kB of archives.\n",
            "After this operation, 29.5 MB of additional disk space will be used.\n",
            "Get:1 http://archive.ubuntu.com/ubuntu bionic/universe amd64 fonts-nanum all 20170925-1 [9,604 kB]\n",
            "Fetched 9,604 kB in 1s (8,769 kB/s)\n",
            "debconf: unable to initialize frontend: Dialog\n",
            "debconf: (No usable dialog-like program is installed, so the dialog based frontend cannot be used. at /usr/share/perl5/Debconf/FrontEnd/Dialog.pm line 76, <> line 1.)\n",
            "debconf: falling back to frontend: Readline\n",
            "debconf: unable to initialize frontend: Readline\n",
            "debconf: (This frontend requires a controlling tty.)\n",
            "debconf: falling back to frontend: Teletype\n",
            "dpkg-preconfigure: unable to re-open stdin: \n",
            "Selecting previously unselected package fonts-nanum.\n",
            "(Reading database ... 146442 files and directories currently installed.)\n",
            "Preparing to unpack .../fonts-nanum_20170925-1_all.deb ...\n",
            "Unpacking fonts-nanum (20170925-1) ...\n",
            "Setting up fonts-nanum (20170925-1) ...\n",
            "Processing triggers for fontconfig (2.12.6-0ubuntu2) ...\n",
            "/usr/share/fonts: caching, new cache contents: 0 fonts, 1 dirs\n",
            "/usr/share/fonts/truetype: caching, new cache contents: 0 fonts, 3 dirs\n",
            "/usr/share/fonts/truetype/humor-sans: caching, new cache contents: 1 fonts, 0 dirs\n",
            "/usr/share/fonts/truetype/liberation: caching, new cache contents: 16 fonts, 0 dirs\n",
            "/usr/share/fonts/truetype/nanum: caching, new cache contents: 10 fonts, 0 dirs\n",
            "/usr/local/share/fonts: caching, new cache contents: 0 fonts, 0 dirs\n",
            "/root/.local/share/fonts: skipping, no such directory\n",
            "/root/.fonts: skipping, no such directory\n",
            "/var/cache/fontconfig: cleaning cache directory\n",
            "/root/.cache/fontconfig: not cleaning non-existent cache directory\n",
            "/root/.fontconfig: not cleaning non-existent cache directory\n",
            "fc-cache: succeeded\n"
          ],
          "name": "stdout"
        }
      ]
    },
    {
      "cell_type": "markdown",
      "metadata": {
        "id": "FGr5-uZKp5vd"
      },
      "source": [
        "# CCTV 현황 그래프로 분석하기"
      ]
    },
    {
      "cell_type": "markdown",
      "metadata": {
        "id": "5xge7VXhq_6v"
      },
      "source": [
        "> 서울시 CCTV 현황(구별)<br>\n",
        "> 서울시 인구수(구별) 데이터 가져오기"
      ]
    },
    {
      "cell_type": "markdown",
      "metadata": {
        "id": "rgo7DcIlrEEg"
      },
      "source": [
        "* 사전에 파일을 코랩에 추가해야지 실행가능<br>좌측에 폴더모양 아이콘 클릭 후 업로드"
      ]
    },
    {
      "cell_type": "markdown",
      "metadata": {
        "id": "wuehZusMt-oE"
      },
      "source": [
        "## 데이터 불러오기"
      ]
    },
    {
      "cell_type": "code",
      "metadata": {
        "id": "8rLq1OJ5pskM"
      },
      "source": [
        "import pandas as pd"
      ],
      "execution_count": null,
      "outputs": []
    },
    {
      "cell_type": "code",
      "metadata": {
        "id": "wmeviYTVrbjj"
      },
      "source": [
        "# cctv 데이터 불러오기\n",
        "\n",
        "cctv_df = pd.read_excel('seoul_cctv.xlsx')\n",
        "\n",
        "\n",
        "# 인구 데이터 불러오기\n",
        "\n",
        "pop_df = pd.read_csv('seoul_population.csv', encoding='cp949')"
      ],
      "execution_count": null,
      "outputs": []
    },
    {
      "cell_type": "markdown",
      "metadata": {
        "id": "d8KZOdusuA9U"
      },
      "source": [
        "## 데이터 분석 및 정제 (실습파트)"
      ]
    },
    {
      "cell_type": "code",
      "metadata": {
        "id": "Vpa4R5UEsFi9",
        "colab": {
          "base_uri": "https://localhost:8080/",
          "height": 204
        },
        "outputId": "83c27d5b-b226-4f0f-bd2e-375a787ecb0b"
      },
      "source": [
        "# cctv 데이터 상단 5항목 보기\n",
        "\n",
        "cctv_df.head()"
      ],
      "execution_count": null,
      "outputs": [
        {
          "output_type": "execute_result",
          "data": {
            "text/html": [
              "<div>\n",
              "<style scoped>\n",
              "    .dataframe tbody tr th:only-of-type {\n",
              "        vertical-align: middle;\n",
              "    }\n",
              "\n",
              "    .dataframe tbody tr th {\n",
              "        vertical-align: top;\n",
              "    }\n",
              "\n",
              "    .dataframe thead th {\n",
              "        text-align: right;\n",
              "    }\n",
              "</style>\n",
              "<table border=\"1\" class=\"dataframe\">\n",
              "  <thead>\n",
              "    <tr style=\"text-align: right;\">\n",
              "      <th></th>\n",
              "      <th>기관명</th>\n",
              "      <th>소계</th>\n",
              "      <th>2011년 이전</th>\n",
              "      <th>2012년</th>\n",
              "      <th>2013년</th>\n",
              "      <th>2014년</th>\n",
              "      <th>2015년</th>\n",
              "      <th>2016년</th>\n",
              "      <th>2017년</th>\n",
              "      <th>2018년</th>\n",
              "    </tr>\n",
              "  </thead>\n",
              "  <tbody>\n",
              "    <tr>\n",
              "      <th>0</th>\n",
              "      <td>강남구</td>\n",
              "      <td>5221</td>\n",
              "      <td>1944.0</td>\n",
              "      <td>195.0</td>\n",
              "      <td>316.0</td>\n",
              "      <td>430</td>\n",
              "      <td>546</td>\n",
              "      <td>765</td>\n",
              "      <td>577</td>\n",
              "      <td>448</td>\n",
              "    </tr>\n",
              "    <tr>\n",
              "      <th>1</th>\n",
              "      <td>강동구</td>\n",
              "      <td>1879</td>\n",
              "      <td>303.0</td>\n",
              "      <td>387.0</td>\n",
              "      <td>134.0</td>\n",
              "      <td>59</td>\n",
              "      <td>144</td>\n",
              "      <td>194</td>\n",
              "      <td>273</td>\n",
              "      <td>385</td>\n",
              "    </tr>\n",
              "    <tr>\n",
              "      <th>2</th>\n",
              "      <td>강북구</td>\n",
              "      <td>1265</td>\n",
              "      <td>243.0</td>\n",
              "      <td>88.0</td>\n",
              "      <td>141.0</td>\n",
              "      <td>74</td>\n",
              "      <td>145</td>\n",
              "      <td>254</td>\n",
              "      <td>1</td>\n",
              "      <td>319</td>\n",
              "    </tr>\n",
              "    <tr>\n",
              "      <th>3</th>\n",
              "      <td>강서구</td>\n",
              "      <td>1617</td>\n",
              "      <td>219.0</td>\n",
              "      <td>155.0</td>\n",
              "      <td>118.0</td>\n",
              "      <td>230</td>\n",
              "      <td>187</td>\n",
              "      <td>190</td>\n",
              "      <td>264</td>\n",
              "      <td>254</td>\n",
              "    </tr>\n",
              "    <tr>\n",
              "      <th>4</th>\n",
              "      <td>관악구</td>\n",
              "      <td>3985</td>\n",
              "      <td>430.0</td>\n",
              "      <td>56.0</td>\n",
              "      <td>419.0</td>\n",
              "      <td>487</td>\n",
              "      <td>609</td>\n",
              "      <td>619</td>\n",
              "      <td>694</td>\n",
              "      <td>671</td>\n",
              "    </tr>\n",
              "  </tbody>\n",
              "</table>\n",
              "</div>"
            ],
            "text/plain": [
              "   기관명    소계  2011년 이전  2012년  2013년  2014년  2015년  2016년  2017년  2018년\n",
              "0  강남구  5221    1944.0  195.0  316.0    430    546    765    577    448\n",
              "1  강동구  1879     303.0  387.0  134.0     59    144    194    273    385\n",
              "2  강북구  1265     243.0   88.0  141.0     74    145    254      1    319\n",
              "3  강서구  1617     219.0  155.0  118.0    230    187    190    264    254\n",
              "4  관악구  3985     430.0   56.0  419.0    487    609    619    694    671"
            ]
          },
          "metadata": {
            "tags": []
          },
          "execution_count": 23
        }
      ]
    },
    {
      "cell_type": "code",
      "metadata": {
        "id": "Ler2WRV6sJLU"
      },
      "source": [
        "# 칼럼(열) 이름 바꾸기\n",
        "# '기관명' -> '구별', '소계' -> '총CCTV수'\n",
        "\n",
        "cctv_df.rename(columns={'기관명':'구별', '소계':'총CCTV수'}, inplace=True)"
      ],
      "execution_count": null,
      "outputs": []
    },
    {
      "cell_type": "code",
      "metadata": {
        "id": "1onMUF_XrmTF",
        "colab": {
          "base_uri": "https://localhost:8080/"
        },
        "outputId": "fcbb0eb2-88ed-4541-e0e2-3284e1bd5388"
      },
      "source": [
        "# cctv 데이터 전반적인 정보 확인 (Null 값 있는지 확인)\n",
        "\n",
        "cctv_df.info()"
      ],
      "execution_count": null,
      "outputs": [
        {
          "output_type": "stream",
          "text": [
            "<class 'pandas.core.frame.DataFrame'>\n",
            "RangeIndex: 25 entries, 0 to 24\n",
            "Data columns (total 10 columns):\n",
            " #   Column    Non-Null Count  Dtype  \n",
            "---  ------    --------------  -----  \n",
            " 0   구별        25 non-null     object \n",
            " 1   총CCTV수    25 non-null     int64  \n",
            " 2   2011년 이전  23 non-null     float64\n",
            " 3   2012년     23 non-null     float64\n",
            " 4   2013년     23 non-null     float64\n",
            " 5   2014년     25 non-null     int64  \n",
            " 6   2015년     25 non-null     int64  \n",
            " 7   2016년     25 non-null     int64  \n",
            " 8   2017년     25 non-null     int64  \n",
            " 9   2018년     25 non-null     int64  \n",
            "dtypes: float64(3), int64(6), object(1)\n",
            "memory usage: 2.1+ KB\n"
          ],
          "name": "stdout"
        }
      ]
    },
    {
      "cell_type": "code",
      "metadata": {
        "id": "cGdqBbCnstbr",
        "colab": {
          "base_uri": "https://localhost:8080/",
          "height": 824
        },
        "outputId": "c2d6389b-f0e3-4aa7-ca5d-bddb60c376ec"
      },
      "source": [
        "# Null값 0으로 채우고 확인 \n",
        "\n",
        "cctv_df.fillna(0, inplace=True)\n",
        "cctv_df"
      ],
      "execution_count": null,
      "outputs": [
        {
          "output_type": "execute_result",
          "data": {
            "text/html": [
              "<div>\n",
              "<style scoped>\n",
              "    .dataframe tbody tr th:only-of-type {\n",
              "        vertical-align: middle;\n",
              "    }\n",
              "\n",
              "    .dataframe tbody tr th {\n",
              "        vertical-align: top;\n",
              "    }\n",
              "\n",
              "    .dataframe thead th {\n",
              "        text-align: right;\n",
              "    }\n",
              "</style>\n",
              "<table border=\"1\" class=\"dataframe\">\n",
              "  <thead>\n",
              "    <tr style=\"text-align: right;\">\n",
              "      <th></th>\n",
              "      <th>구별</th>\n",
              "      <th>총CCTV수</th>\n",
              "      <th>2011년 이전</th>\n",
              "      <th>2012년</th>\n",
              "      <th>2013년</th>\n",
              "      <th>2014년</th>\n",
              "      <th>2015년</th>\n",
              "      <th>2016년</th>\n",
              "      <th>2017년</th>\n",
              "      <th>2018년</th>\n",
              "    </tr>\n",
              "  </thead>\n",
              "  <tbody>\n",
              "    <tr>\n",
              "      <th>0</th>\n",
              "      <td>강남구</td>\n",
              "      <td>5221</td>\n",
              "      <td>1944.0</td>\n",
              "      <td>195.0</td>\n",
              "      <td>316.0</td>\n",
              "      <td>430</td>\n",
              "      <td>546</td>\n",
              "      <td>765</td>\n",
              "      <td>577</td>\n",
              "      <td>448</td>\n",
              "    </tr>\n",
              "    <tr>\n",
              "      <th>1</th>\n",
              "      <td>강동구</td>\n",
              "      <td>1879</td>\n",
              "      <td>303.0</td>\n",
              "      <td>387.0</td>\n",
              "      <td>134.0</td>\n",
              "      <td>59</td>\n",
              "      <td>144</td>\n",
              "      <td>194</td>\n",
              "      <td>273</td>\n",
              "      <td>385</td>\n",
              "    </tr>\n",
              "    <tr>\n",
              "      <th>2</th>\n",
              "      <td>강북구</td>\n",
              "      <td>1265</td>\n",
              "      <td>243.0</td>\n",
              "      <td>88.0</td>\n",
              "      <td>141.0</td>\n",
              "      <td>74</td>\n",
              "      <td>145</td>\n",
              "      <td>254</td>\n",
              "      <td>1</td>\n",
              "      <td>319</td>\n",
              "    </tr>\n",
              "    <tr>\n",
              "      <th>3</th>\n",
              "      <td>강서구</td>\n",
              "      <td>1617</td>\n",
              "      <td>219.0</td>\n",
              "      <td>155.0</td>\n",
              "      <td>118.0</td>\n",
              "      <td>230</td>\n",
              "      <td>187</td>\n",
              "      <td>190</td>\n",
              "      <td>264</td>\n",
              "      <td>254</td>\n",
              "    </tr>\n",
              "    <tr>\n",
              "      <th>4</th>\n",
              "      <td>관악구</td>\n",
              "      <td>3985</td>\n",
              "      <td>430.0</td>\n",
              "      <td>56.0</td>\n",
              "      <td>419.0</td>\n",
              "      <td>487</td>\n",
              "      <td>609</td>\n",
              "      <td>619</td>\n",
              "      <td>694</td>\n",
              "      <td>671</td>\n",
              "    </tr>\n",
              "    <tr>\n",
              "      <th>5</th>\n",
              "      <td>광진구</td>\n",
              "      <td>1581</td>\n",
              "      <td>470.0</td>\n",
              "      <td>42.0</td>\n",
              "      <td>83.0</td>\n",
              "      <td>87</td>\n",
              "      <td>64</td>\n",
              "      <td>21</td>\n",
              "      <td>468</td>\n",
              "      <td>346</td>\n",
              "    </tr>\n",
              "    <tr>\n",
              "      <th>6</th>\n",
              "      <td>구로구</td>\n",
              "      <td>3227</td>\n",
              "      <td>852.0</td>\n",
              "      <td>219.0</td>\n",
              "      <td>349.0</td>\n",
              "      <td>187</td>\n",
              "      <td>268</td>\n",
              "      <td>326</td>\n",
              "      <td>540</td>\n",
              "      <td>486</td>\n",
              "    </tr>\n",
              "    <tr>\n",
              "      <th>7</th>\n",
              "      <td>금천구</td>\n",
              "      <td>1634</td>\n",
              "      <td>27.0</td>\n",
              "      <td>17.0</td>\n",
              "      <td>242.0</td>\n",
              "      <td>101</td>\n",
              "      <td>382</td>\n",
              "      <td>136</td>\n",
              "      <td>199</td>\n",
              "      <td>530</td>\n",
              "    </tr>\n",
              "    <tr>\n",
              "      <th>8</th>\n",
              "      <td>노원구</td>\n",
              "      <td>1906</td>\n",
              "      <td>481.0</td>\n",
              "      <td>117.0</td>\n",
              "      <td>203.0</td>\n",
              "      <td>80</td>\n",
              "      <td>461</td>\n",
              "      <td>298</td>\n",
              "      <td>110</td>\n",
              "      <td>156</td>\n",
              "    </tr>\n",
              "    <tr>\n",
              "      <th>9</th>\n",
              "      <td>도봉구</td>\n",
              "      <td>858</td>\n",
              "      <td>197.0</td>\n",
              "      <td>66.0</td>\n",
              "      <td>8.0</td>\n",
              "      <td>185</td>\n",
              "      <td>59</td>\n",
              "      <td>155</td>\n",
              "      <td>117</td>\n",
              "      <td>71</td>\n",
              "    </tr>\n",
              "    <tr>\n",
              "      <th>10</th>\n",
              "      <td>동대문구</td>\n",
              "      <td>2003</td>\n",
              "      <td>0.0</td>\n",
              "      <td>0.0</td>\n",
              "      <td>0.0</td>\n",
              "      <td>1326</td>\n",
              "      <td>111</td>\n",
              "      <td>233</td>\n",
              "      <td>136</td>\n",
              "      <td>197</td>\n",
              "    </tr>\n",
              "    <tr>\n",
              "      <th>11</th>\n",
              "      <td>동작구</td>\n",
              "      <td>1780</td>\n",
              "      <td>238.0</td>\n",
              "      <td>93.0</td>\n",
              "      <td>29.0</td>\n",
              "      <td>503</td>\n",
              "      <td>130</td>\n",
              "      <td>254</td>\n",
              "      <td>278</td>\n",
              "      <td>255</td>\n",
              "    </tr>\n",
              "    <tr>\n",
              "      <th>12</th>\n",
              "      <td>마포구</td>\n",
              "      <td>1935</td>\n",
              "      <td>585.0</td>\n",
              "      <td>108.0</td>\n",
              "      <td>69.0</td>\n",
              "      <td>70</td>\n",
              "      <td>177</td>\n",
              "      <td>359</td>\n",
              "      <td>372</td>\n",
              "      <td>195</td>\n",
              "    </tr>\n",
              "    <tr>\n",
              "      <th>13</th>\n",
              "      <td>서대문구</td>\n",
              "      <td>2121</td>\n",
              "      <td>565.0</td>\n",
              "      <td>233.0</td>\n",
              "      <td>214.0</td>\n",
              "      <td>114</td>\n",
              "      <td>109</td>\n",
              "      <td>277</td>\n",
              "      <td>415</td>\n",
              "      <td>194</td>\n",
              "    </tr>\n",
              "    <tr>\n",
              "      <th>14</th>\n",
              "      <td>서초구</td>\n",
              "      <td>2835</td>\n",
              "      <td>1172.0</td>\n",
              "      <td>91.0</td>\n",
              "      <td>228.0</td>\n",
              "      <td>134</td>\n",
              "      <td>215</td>\n",
              "      <td>352</td>\n",
              "      <td>247</td>\n",
              "      <td>396</td>\n",
              "    </tr>\n",
              "    <tr>\n",
              "      <th>15</th>\n",
              "      <td>성동구</td>\n",
              "      <td>2679</td>\n",
              "      <td>665.0</td>\n",
              "      <td>109.0</td>\n",
              "      <td>118.0</td>\n",
              "      <td>101</td>\n",
              "      <td>258</td>\n",
              "      <td>201</td>\n",
              "      <td>933</td>\n",
              "      <td>294</td>\n",
              "    </tr>\n",
              "    <tr>\n",
              "      <th>16</th>\n",
              "      <td>성북구</td>\n",
              "      <td>3003</td>\n",
              "      <td>779.0</td>\n",
              "      <td>84.0</td>\n",
              "      <td>304.0</td>\n",
              "      <td>241</td>\n",
              "      <td>279</td>\n",
              "      <td>388</td>\n",
              "      <td>285</td>\n",
              "      <td>643</td>\n",
              "    </tr>\n",
              "    <tr>\n",
              "      <th>17</th>\n",
              "      <td>송파구</td>\n",
              "      <td>1586</td>\n",
              "      <td>600.0</td>\n",
              "      <td>99.0</td>\n",
              "      <td>88.0</td>\n",
              "      <td>21</td>\n",
              "      <td>166</td>\n",
              "      <td>100</td>\n",
              "      <td>116</td>\n",
              "      <td>396</td>\n",
              "    </tr>\n",
              "    <tr>\n",
              "      <th>18</th>\n",
              "      <td>양천구</td>\n",
              "      <td>2775</td>\n",
              "      <td>772.0</td>\n",
              "      <td>161.0</td>\n",
              "      <td>185.0</td>\n",
              "      <td>169</td>\n",
              "      <td>172</td>\n",
              "      <td>349</td>\n",
              "      <td>137</td>\n",
              "      <td>830</td>\n",
              "    </tr>\n",
              "    <tr>\n",
              "      <th>19</th>\n",
              "      <td>영등포구</td>\n",
              "      <td>2495</td>\n",
              "      <td>132.0</td>\n",
              "      <td>121.0</td>\n",
              "      <td>206.0</td>\n",
              "      <td>217</td>\n",
              "      <td>366</td>\n",
              "      <td>289</td>\n",
              "      <td>371</td>\n",
              "      <td>793</td>\n",
              "    </tr>\n",
              "    <tr>\n",
              "      <th>20</th>\n",
              "      <td>용산구</td>\n",
              "      <td>2063</td>\n",
              "      <td>1279.0</td>\n",
              "      <td>152.0</td>\n",
              "      <td>201.0</td>\n",
              "      <td>107</td>\n",
              "      <td>102</td>\n",
              "      <td>89</td>\n",
              "      <td>60</td>\n",
              "      <td>73</td>\n",
              "    </tr>\n",
              "    <tr>\n",
              "      <th>21</th>\n",
              "      <td>은평구</td>\n",
              "      <td>2962</td>\n",
              "      <td>1365.0</td>\n",
              "      <td>83.0</td>\n",
              "      <td>99.0</td>\n",
              "      <td>343</td>\n",
              "      <td>180</td>\n",
              "      <td>296</td>\n",
              "      <td>229</td>\n",
              "      <td>367</td>\n",
              "    </tr>\n",
              "    <tr>\n",
              "      <th>22</th>\n",
              "      <td>종로구</td>\n",
              "      <td>1471</td>\n",
              "      <td>8.0</td>\n",
              "      <td>7.0</td>\n",
              "      <td>599.0</td>\n",
              "      <td>132</td>\n",
              "      <td>195</td>\n",
              "      <td>148</td>\n",
              "      <td>281</td>\n",
              "      <td>101</td>\n",
              "    </tr>\n",
              "    <tr>\n",
              "      <th>23</th>\n",
              "      <td>중구</td>\n",
              "      <td>1544</td>\n",
              "      <td>25.0</td>\n",
              "      <td>165.0</td>\n",
              "      <td>114.0</td>\n",
              "      <td>80</td>\n",
              "      <td>245</td>\n",
              "      <td>270</td>\n",
              "      <td>317</td>\n",
              "      <td>328</td>\n",
              "    </tr>\n",
              "    <tr>\n",
              "      <th>24</th>\n",
              "      <td>중랑구</td>\n",
              "      <td>1068</td>\n",
              "      <td>0.0</td>\n",
              "      <td>0.0</td>\n",
              "      <td>0.0</td>\n",
              "      <td>770</td>\n",
              "      <td>102</td>\n",
              "      <td>121</td>\n",
              "      <td>66</td>\n",
              "      <td>9</td>\n",
              "    </tr>\n",
              "  </tbody>\n",
              "</table>\n",
              "</div>"
            ],
            "text/plain": [
              "      구별  총CCTV수  2011년 이전  2012년  2013년  2014년  2015년  2016년  2017년  2018년\n",
              "0    강남구    5221    1944.0  195.0  316.0    430    546    765    577    448\n",
              "1    강동구    1879     303.0  387.0  134.0     59    144    194    273    385\n",
              "2    강북구    1265     243.0   88.0  141.0     74    145    254      1    319\n",
              "3    강서구    1617     219.0  155.0  118.0    230    187    190    264    254\n",
              "4    관악구    3985     430.0   56.0  419.0    487    609    619    694    671\n",
              "5    광진구    1581     470.0   42.0   83.0     87     64     21    468    346\n",
              "6    구로구    3227     852.0  219.0  349.0    187    268    326    540    486\n",
              "7    금천구    1634      27.0   17.0  242.0    101    382    136    199    530\n",
              "8    노원구    1906     481.0  117.0  203.0     80    461    298    110    156\n",
              "9    도봉구     858     197.0   66.0    8.0    185     59    155    117     71\n",
              "10  동대문구    2003       0.0    0.0    0.0   1326    111    233    136    197\n",
              "11   동작구    1780     238.0   93.0   29.0    503    130    254    278    255\n",
              "12   마포구    1935     585.0  108.0   69.0     70    177    359    372    195\n",
              "13  서대문구    2121     565.0  233.0  214.0    114    109    277    415    194\n",
              "14   서초구    2835    1172.0   91.0  228.0    134    215    352    247    396\n",
              "15   성동구    2679     665.0  109.0  118.0    101    258    201    933    294\n",
              "16   성북구    3003     779.0   84.0  304.0    241    279    388    285    643\n",
              "17   송파구    1586     600.0   99.0   88.0     21    166    100    116    396\n",
              "18   양천구    2775     772.0  161.0  185.0    169    172    349    137    830\n",
              "19  영등포구    2495     132.0  121.0  206.0    217    366    289    371    793\n",
              "20   용산구    2063    1279.0  152.0  201.0    107    102     89     60     73\n",
              "21   은평구    2962    1365.0   83.0   99.0    343    180    296    229    367\n",
              "22   종로구    1471       8.0    7.0  599.0    132    195    148    281    101\n",
              "23    중구    1544      25.0  165.0  114.0     80    245    270    317    328\n",
              "24   중랑구    1068       0.0    0.0    0.0    770    102    121     66      9"
            ]
          },
          "metadata": {
            "tags": []
          },
          "execution_count": 26
        }
      ]
    },
    {
      "cell_type": "code",
      "metadata": {
        "id": "JUho4VlytL2p",
        "colab": {
          "base_uri": "https://localhost:8080/",
          "height": 173
        },
        "outputId": "c704e9db-161e-49a6-c112-0f36b9c926d5"
      },
      "source": [
        "# 인구 데이터 상단 4항목 보기\n",
        "\n",
        "pop_df.head(4)"
      ],
      "execution_count": null,
      "outputs": [
        {
          "output_type": "execute_result",
          "data": {
            "text/html": [
              "<div>\n",
              "<style scoped>\n",
              "    .dataframe tbody tr th:only-of-type {\n",
              "        vertical-align: middle;\n",
              "    }\n",
              "\n",
              "    .dataframe tbody tr th {\n",
              "        vertical-align: top;\n",
              "    }\n",
              "\n",
              "    .dataframe thead th {\n",
              "        text-align: right;\n",
              "    }\n",
              "</style>\n",
              "<table border=\"1\" class=\"dataframe\">\n",
              "  <thead>\n",
              "    <tr style=\"text-align: right;\">\n",
              "      <th></th>\n",
              "      <th>행정구역별</th>\n",
              "      <th>총인구수 (명)</th>\n",
              "      <th>남자인구수 (명)</th>\n",
              "      <th>여자인구수 (명)</th>\n",
              "    </tr>\n",
              "  </thead>\n",
              "  <tbody>\n",
              "    <tr>\n",
              "      <th>0</th>\n",
              "      <td>강남구</td>\n",
              "      <td>542364</td>\n",
              "      <td>259611</td>\n",
              "      <td>282753</td>\n",
              "    </tr>\n",
              "    <tr>\n",
              "      <th>1</th>\n",
              "      <td>강동구</td>\n",
              "      <td>427573</td>\n",
              "      <td>211816</td>\n",
              "      <td>215757</td>\n",
              "    </tr>\n",
              "    <tr>\n",
              "      <th>2</th>\n",
              "      <td>강북구</td>\n",
              "      <td>319164</td>\n",
              "      <td>156071</td>\n",
              "      <td>163093</td>\n",
              "    </tr>\n",
              "    <tr>\n",
              "      <th>3</th>\n",
              "      <td>강서구</td>\n",
              "      <td>596949</td>\n",
              "      <td>290079</td>\n",
              "      <td>306870</td>\n",
              "    </tr>\n",
              "  </tbody>\n",
              "</table>\n",
              "</div>"
            ],
            "text/plain": [
              "  행정구역별  총인구수 (명)  남자인구수 (명)  여자인구수 (명)\n",
              "0   강남구    542364     259611     282753\n",
              "1   강동구    427573     211816     215757\n",
              "2   강북구    319164     156071     163093\n",
              "3   강서구    596949     290079     306870"
            ]
          },
          "metadata": {
            "tags": []
          },
          "execution_count": 27
        }
      ]
    },
    {
      "cell_type": "code",
      "metadata": {
        "id": "sviY8de5tUqY",
        "colab": {
          "base_uri": "https://localhost:8080/"
        },
        "outputId": "3f3d10b9-cd00-4722-dfb7-5dee4f397801"
      },
      "source": [
        "# 칼럼명 확인\n",
        "\n",
        "pop_df.columns"
      ],
      "execution_count": null,
      "outputs": [
        {
          "output_type": "execute_result",
          "data": {
            "text/plain": [
              "Index(['행정구역별', '총인구수 (명)', '남자인구수 (명)', '여자인구수 (명)'], dtype='object')"
            ]
          },
          "metadata": {
            "tags": []
          },
          "execution_count": 28
        }
      ]
    },
    {
      "cell_type": "code",
      "metadata": {
        "id": "EkvFYzautUng"
      },
      "source": [
        "# 칼럼명 변경\n",
        "# ['구별', '총인구수', '남자인구수', '여자인구수']\n",
        "\n",
        "pop_df.columns = ['구별', '총인구수', '남자인구수', '여자인구수']"
      ],
      "execution_count": null,
      "outputs": []
    },
    {
      "cell_type": "code",
      "metadata": {
        "id": "Fizb2fJbtUYZ",
        "colab": {
          "base_uri": "https://localhost:8080/"
        },
        "outputId": "1495a29b-f62e-4223-ab6a-7727ff442276"
      },
      "source": [
        "# 인구 데이터 전반적인 정보 확인 (Null 값 있는지 확인)\n",
        "\n",
        "pop_df.info()"
      ],
      "execution_count": null,
      "outputs": [
        {
          "output_type": "stream",
          "text": [
            "<class 'pandas.core.frame.DataFrame'>\n",
            "RangeIndex: 25 entries, 0 to 24\n",
            "Data columns (total 4 columns):\n",
            " #   Column  Non-Null Count  Dtype \n",
            "---  ------  --------------  ----- \n",
            " 0   구별      25 non-null     object\n",
            " 1   총인구수    25 non-null     int64 \n",
            " 2   남자인구수   25 non-null     int64 \n",
            " 3   여자인구수   25 non-null     int64 \n",
            "dtypes: int64(3), object(1)\n",
            "memory usage: 928.0+ bytes\n"
          ],
          "name": "stdout"
        }
      ]
    },
    {
      "cell_type": "markdown",
      "metadata": {
        "id": "242chu1tuSPU"
      },
      "source": [
        "## 데이터 합치기 (실습파트)"
      ]
    },
    {
      "cell_type": "code",
      "metadata": {
        "id": "bysgSwEguTq4"
      },
      "source": [
        "# cctv_df, pop_df 열방향(좌우측)으로 데이터프레임 합치기\n",
        "# '구별' 칼럼을 기준으로 합치기\n",
        "\n",
        "df_merge = pd.merge(pop_df, cctv_df, on='구별')"
      ],
      "execution_count": null,
      "outputs": []
    },
    {
      "cell_type": "code",
      "metadata": {
        "id": "62kgo_ZCurxA",
        "colab": {
          "base_uri": "https://localhost:8080/",
          "height": 824
        },
        "outputId": "4adcdc7a-df06-4a57-a376-c9eb5ca48469"
      },
      "source": [
        "# 전체 데이터 확인하기(바로실행)\n",
        "\n",
        "df_merge"
      ],
      "execution_count": null,
      "outputs": [
        {
          "output_type": "execute_result",
          "data": {
            "text/html": [
              "<div>\n",
              "<style scoped>\n",
              "    .dataframe tbody tr th:only-of-type {\n",
              "        vertical-align: middle;\n",
              "    }\n",
              "\n",
              "    .dataframe tbody tr th {\n",
              "        vertical-align: top;\n",
              "    }\n",
              "\n",
              "    .dataframe thead th {\n",
              "        text-align: right;\n",
              "    }\n",
              "</style>\n",
              "<table border=\"1\" class=\"dataframe\">\n",
              "  <thead>\n",
              "    <tr style=\"text-align: right;\">\n",
              "      <th></th>\n",
              "      <th>구별</th>\n",
              "      <th>총인구수</th>\n",
              "      <th>남자인구수</th>\n",
              "      <th>여자인구수</th>\n",
              "      <th>총CCTV수</th>\n",
              "      <th>2011년 이전</th>\n",
              "      <th>2012년</th>\n",
              "      <th>2013년</th>\n",
              "      <th>2014년</th>\n",
              "      <th>2015년</th>\n",
              "      <th>2016년</th>\n",
              "      <th>2017년</th>\n",
              "      <th>2018년</th>\n",
              "    </tr>\n",
              "  </thead>\n",
              "  <tbody>\n",
              "    <tr>\n",
              "      <th>0</th>\n",
              "      <td>강남구</td>\n",
              "      <td>542364</td>\n",
              "      <td>259611</td>\n",
              "      <td>282753</td>\n",
              "      <td>5221</td>\n",
              "      <td>1944.0</td>\n",
              "      <td>195.0</td>\n",
              "      <td>316.0</td>\n",
              "      <td>430</td>\n",
              "      <td>546</td>\n",
              "      <td>765</td>\n",
              "      <td>577</td>\n",
              "      <td>448</td>\n",
              "    </tr>\n",
              "    <tr>\n",
              "      <th>1</th>\n",
              "      <td>강동구</td>\n",
              "      <td>427573</td>\n",
              "      <td>211816</td>\n",
              "      <td>215757</td>\n",
              "      <td>1879</td>\n",
              "      <td>303.0</td>\n",
              "      <td>387.0</td>\n",
              "      <td>134.0</td>\n",
              "      <td>59</td>\n",
              "      <td>144</td>\n",
              "      <td>194</td>\n",
              "      <td>273</td>\n",
              "      <td>385</td>\n",
              "    </tr>\n",
              "    <tr>\n",
              "      <th>2</th>\n",
              "      <td>강북구</td>\n",
              "      <td>319164</td>\n",
              "      <td>156071</td>\n",
              "      <td>163093</td>\n",
              "      <td>1265</td>\n",
              "      <td>243.0</td>\n",
              "      <td>88.0</td>\n",
              "      <td>141.0</td>\n",
              "      <td>74</td>\n",
              "      <td>145</td>\n",
              "      <td>254</td>\n",
              "      <td>1</td>\n",
              "      <td>319</td>\n",
              "    </tr>\n",
              "    <tr>\n",
              "      <th>3</th>\n",
              "      <td>강서구</td>\n",
              "      <td>596949</td>\n",
              "      <td>290079</td>\n",
              "      <td>306870</td>\n",
              "      <td>1617</td>\n",
              "      <td>219.0</td>\n",
              "      <td>155.0</td>\n",
              "      <td>118.0</td>\n",
              "      <td>230</td>\n",
              "      <td>187</td>\n",
              "      <td>190</td>\n",
              "      <td>264</td>\n",
              "      <td>254</td>\n",
              "    </tr>\n",
              "    <tr>\n",
              "      <th>4</th>\n",
              "      <td>관악구</td>\n",
              "      <td>501957</td>\n",
              "      <td>252160</td>\n",
              "      <td>249797</td>\n",
              "      <td>3985</td>\n",
              "      <td>430.0</td>\n",
              "      <td>56.0</td>\n",
              "      <td>419.0</td>\n",
              "      <td>487</td>\n",
              "      <td>609</td>\n",
              "      <td>619</td>\n",
              "      <td>694</td>\n",
              "      <td>671</td>\n",
              "    </tr>\n",
              "    <tr>\n",
              "      <th>5</th>\n",
              "      <td>광진구</td>\n",
              "      <td>355559</td>\n",
              "      <td>172794</td>\n",
              "      <td>182765</td>\n",
              "      <td>1581</td>\n",
              "      <td>470.0</td>\n",
              "      <td>42.0</td>\n",
              "      <td>83.0</td>\n",
              "      <td>87</td>\n",
              "      <td>64</td>\n",
              "      <td>21</td>\n",
              "      <td>468</td>\n",
              "      <td>346</td>\n",
              "    </tr>\n",
              "    <tr>\n",
              "      <th>6</th>\n",
              "      <td>구로구</td>\n",
              "      <td>404497</td>\n",
              "      <td>200417</td>\n",
              "      <td>204080</td>\n",
              "      <td>3227</td>\n",
              "      <td>852.0</td>\n",
              "      <td>219.0</td>\n",
              "      <td>349.0</td>\n",
              "      <td>187</td>\n",
              "      <td>268</td>\n",
              "      <td>326</td>\n",
              "      <td>540</td>\n",
              "      <td>486</td>\n",
              "    </tr>\n",
              "    <tr>\n",
              "      <th>7</th>\n",
              "      <td>금천구</td>\n",
              "      <td>233917</td>\n",
              "      <td>118915</td>\n",
              "      <td>115002</td>\n",
              "      <td>1634</td>\n",
              "      <td>27.0</td>\n",
              "      <td>17.0</td>\n",
              "      <td>242.0</td>\n",
              "      <td>101</td>\n",
              "      <td>382</td>\n",
              "      <td>136</td>\n",
              "      <td>199</td>\n",
              "      <td>530</td>\n",
              "    </tr>\n",
              "    <tr>\n",
              "      <th>8</th>\n",
              "      <td>노원구</td>\n",
              "      <td>543752</td>\n",
              "      <td>263919</td>\n",
              "      <td>279833</td>\n",
              "      <td>1906</td>\n",
              "      <td>481.0</td>\n",
              "      <td>117.0</td>\n",
              "      <td>203.0</td>\n",
              "      <td>80</td>\n",
              "      <td>461</td>\n",
              "      <td>298</td>\n",
              "      <td>110</td>\n",
              "      <td>156</td>\n",
              "    </tr>\n",
              "    <tr>\n",
              "      <th>9</th>\n",
              "      <td>도봉구</td>\n",
              "      <td>339413</td>\n",
              "      <td>166160</td>\n",
              "      <td>173253</td>\n",
              "      <td>858</td>\n",
              "      <td>197.0</td>\n",
              "      <td>66.0</td>\n",
              "      <td>8.0</td>\n",
              "      <td>185</td>\n",
              "      <td>59</td>\n",
              "      <td>155</td>\n",
              "      <td>117</td>\n",
              "      <td>71</td>\n",
              "    </tr>\n",
              "    <tr>\n",
              "      <th>10</th>\n",
              "      <td>동대문구</td>\n",
              "      <td>348052</td>\n",
              "      <td>173567</td>\n",
              "      <td>174485</td>\n",
              "      <td>2003</td>\n",
              "      <td>0.0</td>\n",
              "      <td>0.0</td>\n",
              "      <td>0.0</td>\n",
              "      <td>1326</td>\n",
              "      <td>111</td>\n",
              "      <td>233</td>\n",
              "      <td>136</td>\n",
              "      <td>197</td>\n",
              "    </tr>\n",
              "    <tr>\n",
              "      <th>11</th>\n",
              "      <td>동작구</td>\n",
              "      <td>396203</td>\n",
              "      <td>192533</td>\n",
              "      <td>203670</td>\n",
              "      <td>1780</td>\n",
              "      <td>238.0</td>\n",
              "      <td>93.0</td>\n",
              "      <td>29.0</td>\n",
              "      <td>503</td>\n",
              "      <td>130</td>\n",
              "      <td>254</td>\n",
              "      <td>278</td>\n",
              "      <td>255</td>\n",
              "    </tr>\n",
              "    <tr>\n",
              "      <th>12</th>\n",
              "      <td>마포구</td>\n",
              "      <td>375077</td>\n",
              "      <td>178240</td>\n",
              "      <td>196837</td>\n",
              "      <td>1935</td>\n",
              "      <td>585.0</td>\n",
              "      <td>108.0</td>\n",
              "      <td>69.0</td>\n",
              "      <td>70</td>\n",
              "      <td>177</td>\n",
              "      <td>359</td>\n",
              "      <td>372</td>\n",
              "      <td>195</td>\n",
              "    </tr>\n",
              "    <tr>\n",
              "      <th>13</th>\n",
              "      <td>서대문구</td>\n",
              "      <td>310313</td>\n",
              "      <td>149569</td>\n",
              "      <td>160744</td>\n",
              "      <td>2121</td>\n",
              "      <td>565.0</td>\n",
              "      <td>233.0</td>\n",
              "      <td>214.0</td>\n",
              "      <td>114</td>\n",
              "      <td>109</td>\n",
              "      <td>277</td>\n",
              "      <td>415</td>\n",
              "      <td>194</td>\n",
              "    </tr>\n",
              "    <tr>\n",
              "      <th>14</th>\n",
              "      <td>서초구</td>\n",
              "      <td>433951</td>\n",
              "      <td>207868</td>\n",
              "      <td>226083</td>\n",
              "      <td>2835</td>\n",
              "      <td>1172.0</td>\n",
              "      <td>91.0</td>\n",
              "      <td>228.0</td>\n",
              "      <td>134</td>\n",
              "      <td>215</td>\n",
              "      <td>352</td>\n",
              "      <td>247</td>\n",
              "      <td>396</td>\n",
              "    </tr>\n",
              "    <tr>\n",
              "      <th>15</th>\n",
              "      <td>성동구</td>\n",
              "      <td>308221</td>\n",
              "      <td>151359</td>\n",
              "      <td>156862</td>\n",
              "      <td>2679</td>\n",
              "      <td>665.0</td>\n",
              "      <td>109.0</td>\n",
              "      <td>118.0</td>\n",
              "      <td>101</td>\n",
              "      <td>258</td>\n",
              "      <td>201</td>\n",
              "      <td>933</td>\n",
              "      <td>294</td>\n",
              "    </tr>\n",
              "    <tr>\n",
              "      <th>16</th>\n",
              "      <td>성북구</td>\n",
              "      <td>435868</td>\n",
              "      <td>211904</td>\n",
              "      <td>223964</td>\n",
              "      <td>3003</td>\n",
              "      <td>779.0</td>\n",
              "      <td>84.0</td>\n",
              "      <td>304.0</td>\n",
              "      <td>241</td>\n",
              "      <td>279</td>\n",
              "      <td>388</td>\n",
              "      <td>285</td>\n",
              "      <td>643</td>\n",
              "    </tr>\n",
              "    <tr>\n",
              "      <th>17</th>\n",
              "      <td>송파구</td>\n",
              "      <td>666635</td>\n",
              "      <td>323526</td>\n",
              "      <td>343109</td>\n",
              "      <td>1586</td>\n",
              "      <td>600.0</td>\n",
              "      <td>99.0</td>\n",
              "      <td>88.0</td>\n",
              "      <td>21</td>\n",
              "      <td>166</td>\n",
              "      <td>100</td>\n",
              "      <td>116</td>\n",
              "      <td>396</td>\n",
              "    </tr>\n",
              "    <tr>\n",
              "      <th>18</th>\n",
              "      <td>양천구</td>\n",
              "      <td>464185</td>\n",
              "      <td>228634</td>\n",
              "      <td>235551</td>\n",
              "      <td>2775</td>\n",
              "      <td>772.0</td>\n",
              "      <td>161.0</td>\n",
              "      <td>185.0</td>\n",
              "      <td>169</td>\n",
              "      <td>172</td>\n",
              "      <td>349</td>\n",
              "      <td>137</td>\n",
              "      <td>830</td>\n",
              "    </tr>\n",
              "    <tr>\n",
              "      <th>19</th>\n",
              "      <td>영등포구</td>\n",
              "      <td>367778</td>\n",
              "      <td>183224</td>\n",
              "      <td>184554</td>\n",
              "      <td>2495</td>\n",
              "      <td>132.0</td>\n",
              "      <td>121.0</td>\n",
              "      <td>206.0</td>\n",
              "      <td>217</td>\n",
              "      <td>366</td>\n",
              "      <td>289</td>\n",
              "      <td>371</td>\n",
              "      <td>793</td>\n",
              "    </tr>\n",
              "    <tr>\n",
              "      <th>20</th>\n",
              "      <td>용산구</td>\n",
              "      <td>228999</td>\n",
              "      <td>110640</td>\n",
              "      <td>118359</td>\n",
              "      <td>2063</td>\n",
              "      <td>1279.0</td>\n",
              "      <td>152.0</td>\n",
              "      <td>201.0</td>\n",
              "      <td>107</td>\n",
              "      <td>102</td>\n",
              "      <td>89</td>\n",
              "      <td>60</td>\n",
              "      <td>73</td>\n",
              "    </tr>\n",
              "    <tr>\n",
              "      <th>21</th>\n",
              "      <td>은평구</td>\n",
              "      <td>483197</td>\n",
              "      <td>233702</td>\n",
              "      <td>249495</td>\n",
              "      <td>2962</td>\n",
              "      <td>1365.0</td>\n",
              "      <td>83.0</td>\n",
              "      <td>99.0</td>\n",
              "      <td>343</td>\n",
              "      <td>180</td>\n",
              "      <td>296</td>\n",
              "      <td>229</td>\n",
              "      <td>367</td>\n",
              "    </tr>\n",
              "    <tr>\n",
              "      <th>22</th>\n",
              "      <td>종로구</td>\n",
              "      <td>153065</td>\n",
              "      <td>74825</td>\n",
              "      <td>78240</td>\n",
              "      <td>1471</td>\n",
              "      <td>8.0</td>\n",
              "      <td>7.0</td>\n",
              "      <td>599.0</td>\n",
              "      <td>132</td>\n",
              "      <td>195</td>\n",
              "      <td>148</td>\n",
              "      <td>281</td>\n",
              "      <td>101</td>\n",
              "    </tr>\n",
              "    <tr>\n",
              "      <th>23</th>\n",
              "      <td>중구</td>\n",
              "      <td>125725</td>\n",
              "      <td>61947</td>\n",
              "      <td>63778</td>\n",
              "      <td>1544</td>\n",
              "      <td>25.0</td>\n",
              "      <td>165.0</td>\n",
              "      <td>114.0</td>\n",
              "      <td>80</td>\n",
              "      <td>245</td>\n",
              "      <td>270</td>\n",
              "      <td>317</td>\n",
              "      <td>328</td>\n",
              "    </tr>\n",
              "    <tr>\n",
              "      <th>24</th>\n",
              "      <td>중랑구</td>\n",
              "      <td>403209</td>\n",
              "      <td>200419</td>\n",
              "      <td>202790</td>\n",
              "      <td>1068</td>\n",
              "      <td>0.0</td>\n",
              "      <td>0.0</td>\n",
              "      <td>0.0</td>\n",
              "      <td>770</td>\n",
              "      <td>102</td>\n",
              "      <td>121</td>\n",
              "      <td>66</td>\n",
              "      <td>9</td>\n",
              "    </tr>\n",
              "  </tbody>\n",
              "</table>\n",
              "</div>"
            ],
            "text/plain": [
              "      구별    총인구수   남자인구수   여자인구수  총CCTV수  ...  2014년  2015년  2016년  2017년  2018년\n",
              "0    강남구  542364  259611  282753    5221  ...    430    546    765    577    448\n",
              "1    강동구  427573  211816  215757    1879  ...     59    144    194    273    385\n",
              "2    강북구  319164  156071  163093    1265  ...     74    145    254      1    319\n",
              "3    강서구  596949  290079  306870    1617  ...    230    187    190    264    254\n",
              "4    관악구  501957  252160  249797    3985  ...    487    609    619    694    671\n",
              "5    광진구  355559  172794  182765    1581  ...     87     64     21    468    346\n",
              "6    구로구  404497  200417  204080    3227  ...    187    268    326    540    486\n",
              "7    금천구  233917  118915  115002    1634  ...    101    382    136    199    530\n",
              "8    노원구  543752  263919  279833    1906  ...     80    461    298    110    156\n",
              "9    도봉구  339413  166160  173253     858  ...    185     59    155    117     71\n",
              "10  동대문구  348052  173567  174485    2003  ...   1326    111    233    136    197\n",
              "11   동작구  396203  192533  203670    1780  ...    503    130    254    278    255\n",
              "12   마포구  375077  178240  196837    1935  ...     70    177    359    372    195\n",
              "13  서대문구  310313  149569  160744    2121  ...    114    109    277    415    194\n",
              "14   서초구  433951  207868  226083    2835  ...    134    215    352    247    396\n",
              "15   성동구  308221  151359  156862    2679  ...    101    258    201    933    294\n",
              "16   성북구  435868  211904  223964    3003  ...    241    279    388    285    643\n",
              "17   송파구  666635  323526  343109    1586  ...     21    166    100    116    396\n",
              "18   양천구  464185  228634  235551    2775  ...    169    172    349    137    830\n",
              "19  영등포구  367778  183224  184554    2495  ...    217    366    289    371    793\n",
              "20   용산구  228999  110640  118359    2063  ...    107    102     89     60     73\n",
              "21   은평구  483197  233702  249495    2962  ...    343    180    296    229    367\n",
              "22   종로구  153065   74825   78240    1471  ...    132    195    148    281    101\n",
              "23    중구  125725   61947   63778    1544  ...     80    245    270    317    328\n",
              "24   중랑구  403209  200419  202790    1068  ...    770    102    121     66      9\n",
              "\n",
              "[25 rows x 13 columns]"
            ]
          },
          "metadata": {
            "tags": []
          },
          "execution_count": 32
        }
      ]
    },
    {
      "cell_type": "markdown",
      "metadata": {
        "id": "9IkZiW0_uz7P"
      },
      "source": [
        "## 시각화 그래프로 분석하기"
      ]
    },
    {
      "cell_type": "code",
      "metadata": {
        "id": "7NAZvoIju2UO"
      },
      "source": [
        "import numpy as np\n",
        "import pandas as pd\n",
        "import matplotlib.pyplot as plt\n",
        "\n",
        "plt.rc('font', family='NanumBarunGothic')  # 나눔고딕 한글폰트 설정\n",
        "%matplotlib inline "
      ],
      "execution_count": null,
      "outputs": []
    },
    {
      "cell_type": "code",
      "metadata": {
        "colab": {
          "base_uri": "https://localhost:8080/",
          "height": 204
        },
        "id": "d5rviW6UviOc",
        "outputId": "9d146a69-3e83-4b4d-c469-cd56daf0ec77"
      },
      "source": [
        "df_merge.head()"
      ],
      "execution_count": null,
      "outputs": [
        {
          "output_type": "execute_result",
          "data": {
            "text/html": [
              "<div>\n",
              "<style scoped>\n",
              "    .dataframe tbody tr th:only-of-type {\n",
              "        vertical-align: middle;\n",
              "    }\n",
              "\n",
              "    .dataframe tbody tr th {\n",
              "        vertical-align: top;\n",
              "    }\n",
              "\n",
              "    .dataframe thead th {\n",
              "        text-align: right;\n",
              "    }\n",
              "</style>\n",
              "<table border=\"1\" class=\"dataframe\">\n",
              "  <thead>\n",
              "    <tr style=\"text-align: right;\">\n",
              "      <th></th>\n",
              "      <th>구별</th>\n",
              "      <th>총인구수</th>\n",
              "      <th>남자인구수</th>\n",
              "      <th>여자인구수</th>\n",
              "      <th>총CCTV수</th>\n",
              "      <th>2011년 이전</th>\n",
              "      <th>2012년</th>\n",
              "      <th>2013년</th>\n",
              "      <th>2014년</th>\n",
              "      <th>2015년</th>\n",
              "      <th>2016년</th>\n",
              "      <th>2017년</th>\n",
              "      <th>2018년</th>\n",
              "    </tr>\n",
              "  </thead>\n",
              "  <tbody>\n",
              "    <tr>\n",
              "      <th>0</th>\n",
              "      <td>강남구</td>\n",
              "      <td>542364</td>\n",
              "      <td>259611</td>\n",
              "      <td>282753</td>\n",
              "      <td>5221</td>\n",
              "      <td>1944.0</td>\n",
              "      <td>195.0</td>\n",
              "      <td>316.0</td>\n",
              "      <td>430</td>\n",
              "      <td>546</td>\n",
              "      <td>765</td>\n",
              "      <td>577</td>\n",
              "      <td>448</td>\n",
              "    </tr>\n",
              "    <tr>\n",
              "      <th>1</th>\n",
              "      <td>강동구</td>\n",
              "      <td>427573</td>\n",
              "      <td>211816</td>\n",
              "      <td>215757</td>\n",
              "      <td>1879</td>\n",
              "      <td>303.0</td>\n",
              "      <td>387.0</td>\n",
              "      <td>134.0</td>\n",
              "      <td>59</td>\n",
              "      <td>144</td>\n",
              "      <td>194</td>\n",
              "      <td>273</td>\n",
              "      <td>385</td>\n",
              "    </tr>\n",
              "    <tr>\n",
              "      <th>2</th>\n",
              "      <td>강북구</td>\n",
              "      <td>319164</td>\n",
              "      <td>156071</td>\n",
              "      <td>163093</td>\n",
              "      <td>1265</td>\n",
              "      <td>243.0</td>\n",
              "      <td>88.0</td>\n",
              "      <td>141.0</td>\n",
              "      <td>74</td>\n",
              "      <td>145</td>\n",
              "      <td>254</td>\n",
              "      <td>1</td>\n",
              "      <td>319</td>\n",
              "    </tr>\n",
              "    <tr>\n",
              "      <th>3</th>\n",
              "      <td>강서구</td>\n",
              "      <td>596949</td>\n",
              "      <td>290079</td>\n",
              "      <td>306870</td>\n",
              "      <td>1617</td>\n",
              "      <td>219.0</td>\n",
              "      <td>155.0</td>\n",
              "      <td>118.0</td>\n",
              "      <td>230</td>\n",
              "      <td>187</td>\n",
              "      <td>190</td>\n",
              "      <td>264</td>\n",
              "      <td>254</td>\n",
              "    </tr>\n",
              "    <tr>\n",
              "      <th>4</th>\n",
              "      <td>관악구</td>\n",
              "      <td>501957</td>\n",
              "      <td>252160</td>\n",
              "      <td>249797</td>\n",
              "      <td>3985</td>\n",
              "      <td>430.0</td>\n",
              "      <td>56.0</td>\n",
              "      <td>419.0</td>\n",
              "      <td>487</td>\n",
              "      <td>609</td>\n",
              "      <td>619</td>\n",
              "      <td>694</td>\n",
              "      <td>671</td>\n",
              "    </tr>\n",
              "  </tbody>\n",
              "</table>\n",
              "</div>"
            ],
            "text/plain": [
              "    구별    총인구수   남자인구수   여자인구수  총CCTV수  ...  2014년  2015년  2016년  2017년  2018년\n",
              "0  강남구  542364  259611  282753    5221  ...    430    546    765    577    448\n",
              "1  강동구  427573  211816  215757    1879  ...     59    144    194    273    385\n",
              "2  강북구  319164  156071  163093    1265  ...     74    145    254      1    319\n",
              "3  강서구  596949  290079  306870    1617  ...    230    187    190    264    254\n",
              "4  관악구  501957  252160  249797    3985  ...    487    609    619    694    671\n",
              "\n",
              "[5 rows x 13 columns]"
            ]
          },
          "metadata": {
            "tags": []
          },
          "execution_count": 37
        }
      ]
    },
    {
      "cell_type": "code",
      "metadata": {
        "colab": {
          "base_uri": "https://localhost:8080/"
        },
        "id": "BGHI9S7mQtJe",
        "outputId": "5dcb4fec-dd4a-469f-8209-bafd0360bf3d"
      },
      "source": [
        "len(df_merge)"
      ],
      "execution_count": null,
      "outputs": [
        {
          "output_type": "execute_result",
          "data": {
            "text/plain": [
              "25"
            ]
          },
          "metadata": {
            "tags": []
          },
          "execution_count": 38
        }
      ]
    },
    {
      "cell_type": "code",
      "metadata": {
        "colab": {
          "base_uri": "https://localhost:8080/",
          "height": 483
        },
        "id": "InX1sVBwvjE3",
        "outputId": "63156ede-29e6-4dc9-83cb-fac054f8ee67"
      },
      "source": [
        "y = np.arange(len(df_merge))\n",
        "\n",
        "plt.figure(figsize=(8,8))\n",
        "plt.barh(y, df_merge['총CCTV수'])\n",
        "plt.yticks(y, df_merge['구별'])  # yticks 텍스트를 입력\n",
        "plt.show()"
      ],
      "execution_count": null,
      "outputs": [
        {
          "output_type": "display_data",
          "data": {
            "image/png": "[encoded data removed]",
            "text/plain": [
              "<Figure size 576x576 with 1 Axes>"
            ]
          },
          "metadata": {
            "tags": [],
            "needs_background": "light"
          }
        }
      ]
    },
    {
      "cell_type": "code",
      "metadata": {
        "id": "Zq9xkosSxH7Q"
      },
      "source": [
        "df_merge.sort_values('총CCTV수', inplace=True)"
      ],
      "execution_count": null,
      "outputs": []
    },
    {
      "cell_type": "code",
      "metadata": {
        "colab": {
          "base_uri": "https://localhost:8080/",
          "height": 483
        },
        "id": "0NDfNN0NyTWa",
        "outputId": "da501cec-fbde-42ec-edc4-eed8447ac8ad"
      },
      "source": [
        "y = np.arange(len(df_merge))\n",
        "\n",
        "plt.figure(figsize=(8,8))\n",
        "plt.barh(y, df_merge['총CCTV수'])\n",
        "plt.grid()\n",
        "plt.xticks(np.arange(0, 6000, 500))\n",
        "plt.yticks(y, df_merge['구별'])\n",
        "plt.show()"
      ],
      "execution_count": null,
      "outputs": [
        {
          "output_type": "display_data",
          "data": {
            "image/png": "[encoded data removed]",
            "text/plain": [
              "<Figure size 576x576 with 1 Axes>"
            ]
          },
          "metadata": {
            "tags": [],
            "needs_background": "light"
          }
        }
      ]
    },
    {
      "cell_type": "markdown",
      "metadata": {
        "id": "tWgTU-TIzunD"
      },
      "source": [
        "* 가설1: 인구수가 많으면 CCTV가 많이 설치 되어 있다."
      ]
    },
    {
      "cell_type": "code",
      "metadata": {
        "colab": {
          "base_uri": "https://localhost:8080/",
          "height": 497
        },
        "id": "w6fsu2KfyiKY",
        "outputId": "353f796e-6b90-42b9-dcac-fa426c42d610"
      },
      "source": [
        "plt.figure(figsize=(8,8))\n",
        "plt.scatter(df_merge['총인구수'], df_merge['총CCTV수'], s=100)\n",
        "plt.xlabel('인구수')\n",
        "plt.ylabel('CCTV')\n",
        "plt.grid()\n",
        "plt.show()"
      ],
      "execution_count": null,
      "outputs": [
        {
          "output_type": "display_data",
          "data": {
            "image/png": "[encoded data removed]",
            "text/plain": [
              "<Figure size 576x576 with 1 Axes>"
            ]
          },
          "metadata": {
            "tags": [],
            "needs_background": "light"
          }
        }
      ]
    },
    {
      "cell_type": "code",
      "metadata": {
        "id": "DwtAA6j7zoEe"
      },
      "source": [
        "# 이부분은 수학적 내용이 포함되어 있기에 설명을 스킵합니다.\n",
        "fp1 = np.polyfit(df_merge['총인구수'], df_merge['총CCTV수'], 1)  # 총인구수와 총CCTV수를 대표하는 직선 그리기\n",
        "f1 = np.poly1d(fp1)\n",
        "\n",
        "x = np.linspace(100000, 700000, 100)\n",
        "y = f1(x)"
      ],
      "execution_count": null,
      "outputs": []
    },
    {
      "cell_type": "code",
      "metadata": {
        "colab": {
          "base_uri": "https://localhost:8080/",
          "height": 551
        },
        "id": "NtHs_as10WqP",
        "outputId": "6a900d6e-a7ac-4912-a04a-7aa8ea4e7840"
      },
      "source": [
        "plt.figure(figsize=(9,9))\n",
        "plt.scatter(df_merge['총인구수'], df_merge['총CCTV수'], s=100)\n",
        "plt.plot(x, y, ls='dashed', lw=3, color='g')\n",
        "plt.xlabel('인구수')\n",
        "plt.ylabel('CCTV')\n",
        "plt.grid()\n",
        "plt.show()"
      ],
      "execution_count": null,
      "outputs": [
        {
          "output_type": "display_data",
          "data": {
            "image/png": "[encoded data removed]",
            "text/plain": [
              "<Figure size 648x648 with 1 Axes>"
            ]
          },
          "metadata": {
            "tags": [],
            "needs_background": "light"
          }
        }
      ]
    },
    {
      "cell_type": "code",
      "metadata": {
        "colab": {
          "base_uri": "https://localhost:8080/",
          "height": 551
        },
        "id": "VQ8kW0gV1O3K",
        "outputId": "78848c71-4d5e-4f74-bdd0-fba578dee6d7"
      },
      "source": [
        "plt.figure(figsize=(9,9))\n",
        "plt.scatter(df_merge['총인구수'], df_merge['총CCTV수'], s=100)\n",
        "plt.plot(x, y, ls='dashed', lw=3, color='g')\n",
        "\n",
        "for n in range(len(df_merge)): # plt.text를 사용하여 좌표내에 텍스트 표시\n",
        "    plt.text(df_merge['총인구수'][n]*1.02, df_merge['총CCTV수'][n]*0.98,\n",
        "             df_merge['구별'][n], fontsize=12)\n",
        "\n",
        "plt.xlabel('인구수')\n",
        "plt.ylabel('CCTV')\n",
        "plt.grid()\n",
        "plt.show()"
      ],
      "execution_count": null,
      "outputs": [
        {
          "output_type": "display_data",
          "data": {
            "image/png": "[encoded data removed]",
            "text/plain": [
              "<Figure size 648x648 with 1 Axes>"
            ]
          },
          "metadata": {
            "tags": [],
            "needs_background": "light"
          }
        }
      ]
    },
    {
      "cell_type": "markdown",
      "metadata": {
        "id": "GfvTWPEiH0ZV"
      },
      "source": [
        "# 범죄 데이터 분석"
      ]
    },
    {
      "cell_type": "code",
      "metadata": {
        "id": "h1ENT13P2Vbq"
      },
      "source": [
        "# 지역별 범죄현황 데이터 불러오기\n",
        "crime_df = pd.read_csv('seoul_crime.csv', encoding='cp949')"
      ],
      "execution_count": null,
      "outputs": []
    },
    {
      "cell_type": "code",
      "metadata": {
        "colab": {
          "base_uri": "https://localhost:8080/"
        },
        "id": "Z97YoxMMIlbP",
        "outputId": "59703f57-6334-4358-c775-c9e5f6d94262"
      },
      "source": [
        "# 기본 정보 확인\n",
        "crime_df.info()"
      ],
      "execution_count": null,
      "outputs": [
        {
          "output_type": "stream",
          "text": [
            "<class 'pandas.core.frame.DataFrame'>\n",
            "RangeIndex: 310 entries, 0 to 309\n",
            "Data columns (total 4 columns):\n",
            " #   Column  Non-Null Count  Dtype \n",
            "---  ------  --------------  ----- \n",
            " 0   구분      310 non-null    object\n",
            " 1   죄종      310 non-null    object\n",
            " 2   발생검거    310 non-null    object\n",
            " 3   건수      310 non-null    int64 \n",
            "dtypes: int64(1), object(3)\n",
            "memory usage: 9.8+ KB\n"
          ],
          "name": "stdout"
        }
      ]
    },
    {
      "cell_type": "code",
      "metadata": {
        "colab": {
          "base_uri": "https://localhost:8080/",
          "height": 204
        },
        "id": "5EdGhCzDIjM5",
        "outputId": "ccc5cfb4-4f05-4c3b-82a4-a724071a4ddf"
      },
      "source": [
        "# 상위 데이터 확인\n",
        "crime_df.head()"
      ],
      "execution_count": null,
      "outputs": [
        {
          "output_type": "execute_result",
          "data": {
            "text/html": [
              "<div>\n",
              "<style scoped>\n",
              "    .dataframe tbody tr th:only-of-type {\n",
              "        vertical-align: middle;\n",
              "    }\n",
              "\n",
              "    .dataframe tbody tr th {\n",
              "        vertical-align: top;\n",
              "    }\n",
              "\n",
              "    .dataframe thead th {\n",
              "        text-align: right;\n",
              "    }\n",
              "</style>\n",
              "<table border=\"1\" class=\"dataframe\">\n",
              "  <thead>\n",
              "    <tr style=\"text-align: right;\">\n",
              "      <th></th>\n",
              "      <th>구분</th>\n",
              "      <th>죄종</th>\n",
              "      <th>발생검거</th>\n",
              "      <th>건수</th>\n",
              "    </tr>\n",
              "  </thead>\n",
              "  <tbody>\n",
              "    <tr>\n",
              "      <th>0</th>\n",
              "      <td>중부</td>\n",
              "      <td>살인</td>\n",
              "      <td>발생</td>\n",
              "      <td>1</td>\n",
              "    </tr>\n",
              "    <tr>\n",
              "      <th>1</th>\n",
              "      <td>중부</td>\n",
              "      <td>살인</td>\n",
              "      <td>검거</td>\n",
              "      <td>1</td>\n",
              "    </tr>\n",
              "    <tr>\n",
              "      <th>2</th>\n",
              "      <td>중부</td>\n",
              "      <td>강도</td>\n",
              "      <td>발생</td>\n",
              "      <td>4</td>\n",
              "    </tr>\n",
              "    <tr>\n",
              "      <th>3</th>\n",
              "      <td>중부</td>\n",
              "      <td>강도</td>\n",
              "      <td>검거</td>\n",
              "      <td>4</td>\n",
              "    </tr>\n",
              "    <tr>\n",
              "      <th>4</th>\n",
              "      <td>중부</td>\n",
              "      <td>강간</td>\n",
              "      <td>발생</td>\n",
              "      <td>127</td>\n",
              "    </tr>\n",
              "  </tbody>\n",
              "</table>\n",
              "</div>"
            ],
            "text/plain": [
              "   구분  죄종 발생검거   건수\n",
              "0  중부  살인   발생    1\n",
              "1  중부  살인   검거    1\n",
              "2  중부  강도   발생    4\n",
              "3  중부  강도   검거    4\n",
              "4  중부  강간   발생  127"
            ]
          },
          "metadata": {
            "tags": []
          },
          "execution_count": 53
        }
      ]
    },
    {
      "cell_type": "code",
      "metadata": {
        "colab": {
          "base_uri": "https://localhost:8080/"
        },
        "id": "_Ridmg10Tp5G",
        "outputId": "fbf16a1b-a166-42b6-9f10-f4d0f39e1633"
      },
      "source": [
        "# 칼럼별 해당 갯수 확인하기\n",
        "crime_df['구분'].value_counts()"
      ],
      "execution_count": null,
      "outputs": [
        {
          "output_type": "execute_result",
          "data": {
            "text/plain": [
              "방배     10\n",
              "종로     10\n",
              "성동     10\n",
              "중랑     10\n",
              "금천     10\n",
              "마포     10\n",
              "영등포    10\n",
              "강북     10\n",
              "서부     10\n",
              "강남     10\n",
              "종암     10\n",
              "노원     10\n",
              "남대문    10\n",
              "관악     10\n",
              "중부     10\n",
              "구로     10\n",
              "수서     10\n",
              "송파     10\n",
              "동대문    10\n",
              "서초     10\n",
              "은평     10\n",
              "동작     10\n",
              "서대문    10\n",
              "강동     10\n",
              "혜화     10\n",
              "양천     10\n",
              "광진     10\n",
              "강서     10\n",
              "성북     10\n",
              "도봉     10\n",
              "용산     10\n",
              "Name: 구분, dtype: int64"
            ]
          },
          "metadata": {
            "tags": []
          },
          "execution_count": 57
        }
      ]
    },
    {
      "cell_type": "code",
      "metadata": {
        "id": "45qm0SnAT9yD"
      },
      "source": [
        "# 그룹화 하기\n",
        "crime_df = crime_df.groupby(['구분']).sum()"
      ],
      "execution_count": null,
      "outputs": []
    },
    {
      "cell_type": "code",
      "metadata": {
        "colab": {
          "base_uri": "https://localhost:8080/",
          "height": 235
        },
        "id": "Oel8S11yUTjE",
        "outputId": "4665e9ee-6cb9-4ed3-cb66-21976daba55a"
      },
      "source": [
        "crime_df.head()"
      ],
      "execution_count": null,
      "outputs": [
        {
          "output_type": "execute_result",
          "data": {
            "text/html": [
              "<div>\n",
              "<style scoped>\n",
              "    .dataframe tbody tr th:only-of-type {\n",
              "        vertical-align: middle;\n",
              "    }\n",
              "\n",
              "    .dataframe tbody tr th {\n",
              "        vertical-align: top;\n",
              "    }\n",
              "\n",
              "    .dataframe thead th {\n",
              "        text-align: right;\n",
              "    }\n",
              "</style>\n",
              "<table border=\"1\" class=\"dataframe\">\n",
              "  <thead>\n",
              "    <tr style=\"text-align: right;\">\n",
              "      <th></th>\n",
              "      <th>건수</th>\n",
              "    </tr>\n",
              "    <tr>\n",
              "      <th>구분</th>\n",
              "      <th></th>\n",
              "    </tr>\n",
              "  </thead>\n",
              "  <tbody>\n",
              "    <tr>\n",
              "      <th>강남</th>\n",
              "      <td>7858</td>\n",
              "    </tr>\n",
              "    <tr>\n",
              "      <th>강동</th>\n",
              "      <td>6966</td>\n",
              "    </tr>\n",
              "    <tr>\n",
              "      <th>강북</th>\n",
              "      <td>6857</td>\n",
              "    </tr>\n",
              "    <tr>\n",
              "      <th>강서</th>\n",
              "      <td>8461</td>\n",
              "    </tr>\n",
              "    <tr>\n",
              "      <th>관악</th>\n",
              "      <td>9125</td>\n",
              "    </tr>\n",
              "  </tbody>\n",
              "</table>\n",
              "</div>"
            ],
            "text/plain": [
              "      건수\n",
              "구분      \n",
              "강남  7858\n",
              "강동  6966\n",
              "강북  6857\n",
              "강서  8461\n",
              "관악  9125"
            ]
          },
          "metadata": {
            "tags": []
          },
          "execution_count": 60
        }
      ]
    },
    {
      "cell_type": "code",
      "metadata": {
        "colab": {
          "base_uri": "https://localhost:8080/",
          "height": 204
        },
        "id": "pFrS9W_7IUug",
        "outputId": "2d683ea4-f60e-4f79-d1a5-391296cf5ca6"
      },
      "source": [
        "crime_df = crime_df.reset_index()\n",
        "crime_df.head()"
      ],
      "execution_count": null,
      "outputs": [
        {
          "output_type": "execute_result",
          "data": {
            "text/html": [
              "<div>\n",
              "<style scoped>\n",
              "    .dataframe tbody tr th:only-of-type {\n",
              "        vertical-align: middle;\n",
              "    }\n",
              "\n",
              "    .dataframe tbody tr th {\n",
              "        vertical-align: top;\n",
              "    }\n",
              "\n",
              "    .dataframe thead th {\n",
              "        text-align: right;\n",
              "    }\n",
              "</style>\n",
              "<table border=\"1\" class=\"dataframe\">\n",
              "  <thead>\n",
              "    <tr style=\"text-align: right;\">\n",
              "      <th></th>\n",
              "      <th>구분</th>\n",
              "      <th>건수</th>\n",
              "    </tr>\n",
              "  </thead>\n",
              "  <tbody>\n",
              "    <tr>\n",
              "      <th>0</th>\n",
              "      <td>강남</td>\n",
              "      <td>7858</td>\n",
              "    </tr>\n",
              "    <tr>\n",
              "      <th>1</th>\n",
              "      <td>강동</td>\n",
              "      <td>6966</td>\n",
              "    </tr>\n",
              "    <tr>\n",
              "      <th>2</th>\n",
              "      <td>강북</td>\n",
              "      <td>6857</td>\n",
              "    </tr>\n",
              "    <tr>\n",
              "      <th>3</th>\n",
              "      <td>강서</td>\n",
              "      <td>8461</td>\n",
              "    </tr>\n",
              "    <tr>\n",
              "      <th>4</th>\n",
              "      <td>관악</td>\n",
              "      <td>9125</td>\n",
              "    </tr>\n",
              "  </tbody>\n",
              "</table>\n",
              "</div>"
            ],
            "text/plain": [
              "   구분    건수\n",
              "0  강남  7858\n",
              "1  강동  6966\n",
              "2  강북  6857\n",
              "3  강서  8461\n",
              "4  관악  9125"
            ]
          },
          "metadata": {
            "tags": []
          },
          "execution_count": 62
        }
      ]
    },
    {
      "cell_type": "code",
      "metadata": {
        "id": "O_ibM7TvIX3m"
      },
      "source": [
        "crime_df.rename(columns={'구분':'구별'}, inplace=True)"
      ],
      "execution_count": null,
      "outputs": []
    },
    {
      "cell_type": "code",
      "metadata": {
        "id": "Zo0_bKmjJB1S"
      },
      "source": [
        "crime_df['구별'] = crime_df['구별'] + '구'"
      ],
      "execution_count": null,
      "outputs": []
    },
    {
      "cell_type": "code",
      "metadata": {
        "colab": {
          "base_uri": "https://localhost:8080/",
          "height": 204
        },
        "id": "BM1qNQ1VJV26",
        "outputId": "da6f29bf-11a6-40eb-9de0-f2d3d2f7a422"
      },
      "source": [
        "crime_df.head()"
      ],
      "execution_count": null,
      "outputs": [
        {
          "output_type": "execute_result",
          "data": {
            "text/html": [
              "<div>\n",
              "<style scoped>\n",
              "    .dataframe tbody tr th:only-of-type {\n",
              "        vertical-align: middle;\n",
              "    }\n",
              "\n",
              "    .dataframe tbody tr th {\n",
              "        vertical-align: top;\n",
              "    }\n",
              "\n",
              "    .dataframe thead th {\n",
              "        text-align: right;\n",
              "    }\n",
              "</style>\n",
              "<table border=\"1\" class=\"dataframe\">\n",
              "  <thead>\n",
              "    <tr style=\"text-align: right;\">\n",
              "      <th></th>\n",
              "      <th>구별</th>\n",
              "      <th>건수</th>\n",
              "    </tr>\n",
              "  </thead>\n",
              "  <tbody>\n",
              "    <tr>\n",
              "      <th>0</th>\n",
              "      <td>강남구</td>\n",
              "      <td>7858</td>\n",
              "    </tr>\n",
              "    <tr>\n",
              "      <th>1</th>\n",
              "      <td>강동구</td>\n",
              "      <td>6966</td>\n",
              "    </tr>\n",
              "    <tr>\n",
              "      <th>2</th>\n",
              "      <td>강북구</td>\n",
              "      <td>6857</td>\n",
              "    </tr>\n",
              "    <tr>\n",
              "      <th>3</th>\n",
              "      <td>강서구</td>\n",
              "      <td>8461</td>\n",
              "    </tr>\n",
              "    <tr>\n",
              "      <th>4</th>\n",
              "      <td>관악구</td>\n",
              "      <td>9125</td>\n",
              "    </tr>\n",
              "  </tbody>\n",
              "</table>\n",
              "</div>"
            ],
            "text/plain": [
              "    구별    건수\n",
              "0  강남구  7858\n",
              "1  강동구  6966\n",
              "2  강북구  6857\n",
              "3  강서구  8461\n",
              "4  관악구  9125"
            ]
          },
          "metadata": {
            "tags": []
          },
          "execution_count": 68
        }
      ]
    },
    {
      "cell_type": "code",
      "metadata": {
        "id": "Ays1cajfVLY7"
      },
      "source": [
        "place_name = df_merge['구별'].tolist()"
      ],
      "execution_count": null,
      "outputs": []
    },
    {
      "cell_type": "code",
      "metadata": {
        "colab": {
          "base_uri": "https://localhost:8080/"
        },
        "id": "2EZF3eJSVWu9",
        "outputId": "02dd3f21-3772-44af-8d1f-b0fc9d8c586b"
      },
      "source": [
        "print(place_name)\n",
        "print(len(place_name))"
      ],
      "execution_count": null,
      "outputs": [
        {
          "output_type": "stream",
          "text": [
            "['도봉구', '중랑구', '강북구', '종로구', '중구', '광진구', '송파구', '강서구', '금천구', '동작구', '강동구', '노원구', '마포구', '동대문구', '용산구', '서대문구', '영등포구', '성동구', '양천구', '서초구', '은평구', '성북구', '구로구', '관악구', '강남구']\n",
            "25\n"
          ],
          "name": "stdout"
        }
      ]
    },
    {
      "cell_type": "code",
      "metadata": {
        "colab": {
          "base_uri": "https://localhost:8080/",
          "height": 204
        },
        "id": "QXm1eIk-JZ1I",
        "outputId": "289d3904-16d2-4cc2-bcf1-6c4776b0b011"
      },
      "source": [
        "crime_df = crime_df[crime_df['구별'].isin(place_name)].reset_index(drop=True)\n",
        "crime_df.head()"
      ],
      "execution_count": null,
      "outputs": [
        {
          "output_type": "execute_result",
          "data": {
            "text/html": [
              "<div>\n",
              "<style scoped>\n",
              "    .dataframe tbody tr th:only-of-type {\n",
              "        vertical-align: middle;\n",
              "    }\n",
              "\n",
              "    .dataframe tbody tr th {\n",
              "        vertical-align: top;\n",
              "    }\n",
              "\n",
              "    .dataframe thead th {\n",
              "        text-align: right;\n",
              "    }\n",
              "</style>\n",
              "<table border=\"1\" class=\"dataframe\">\n",
              "  <thead>\n",
              "    <tr style=\"text-align: right;\">\n",
              "      <th></th>\n",
              "      <th>구별</th>\n",
              "      <th>건수</th>\n",
              "    </tr>\n",
              "  </thead>\n",
              "  <tbody>\n",
              "    <tr>\n",
              "      <th>0</th>\n",
              "      <td>강남구</td>\n",
              "      <td>7858</td>\n",
              "    </tr>\n",
              "    <tr>\n",
              "      <th>1</th>\n",
              "      <td>강동구</td>\n",
              "      <td>6966</td>\n",
              "    </tr>\n",
              "    <tr>\n",
              "      <th>2</th>\n",
              "      <td>강북구</td>\n",
              "      <td>6857</td>\n",
              "    </tr>\n",
              "    <tr>\n",
              "      <th>3</th>\n",
              "      <td>강서구</td>\n",
              "      <td>8461</td>\n",
              "    </tr>\n",
              "    <tr>\n",
              "      <th>4</th>\n",
              "      <td>관악구</td>\n",
              "      <td>9125</td>\n",
              "    </tr>\n",
              "  </tbody>\n",
              "</table>\n",
              "</div>"
            ],
            "text/plain": [
              "    구별    건수\n",
              "0  강남구  7858\n",
              "1  강동구  6966\n",
              "2  강북구  6857\n",
              "3  강서구  8461\n",
              "4  관악구  9125"
            ]
          },
          "metadata": {
            "tags": []
          },
          "execution_count": 86
        }
      ]
    },
    {
      "cell_type": "code",
      "metadata": {
        "id": "VkfoSATAVArW"
      },
      "source": [
        "crime_df.rename(columns={'건수':'범죄건수'}, inplace=True)"
      ],
      "execution_count": null,
      "outputs": []
    },
    {
      "cell_type": "code",
      "metadata": {
        "colab": {
          "base_uri": "https://localhost:8080/",
          "height": 204
        },
        "id": "UgvnLExMWapd",
        "outputId": "17212ba8-ed2c-4896-8211-80ecc60dc55e"
      },
      "source": [
        "total_df = pd.merge(df_merge, crime_df, on='구별')\n",
        "total_df.head()"
      ],
      "execution_count": null,
      "outputs": [
        {
          "output_type": "execute_result",
          "data": {
            "text/html": [
              "<div>\n",
              "<style scoped>\n",
              "    .dataframe tbody tr th:only-of-type {\n",
              "        vertical-align: middle;\n",
              "    }\n",
              "\n",
              "    .dataframe tbody tr th {\n",
              "        vertical-align: top;\n",
              "    }\n",
              "\n",
              "    .dataframe thead th {\n",
              "        text-align: right;\n",
              "    }\n",
              "</style>\n",
              "<table border=\"1\" class=\"dataframe\">\n",
              "  <thead>\n",
              "    <tr style=\"text-align: right;\">\n",
              "      <th></th>\n",
              "      <th>구별</th>\n",
              "      <th>총인구수</th>\n",
              "      <th>남자인구수</th>\n",
              "      <th>여자인구수</th>\n",
              "      <th>총CCTV수</th>\n",
              "      <th>2011년 이전</th>\n",
              "      <th>2012년</th>\n",
              "      <th>2013년</th>\n",
              "      <th>2014년</th>\n",
              "      <th>2015년</th>\n",
              "      <th>2016년</th>\n",
              "      <th>2017년</th>\n",
              "      <th>2018년</th>\n",
              "      <th>범죄건수</th>\n",
              "    </tr>\n",
              "  </thead>\n",
              "  <tbody>\n",
              "    <tr>\n",
              "      <th>0</th>\n",
              "      <td>도봉구</td>\n",
              "      <td>339413</td>\n",
              "      <td>166160</td>\n",
              "      <td>173253</td>\n",
              "      <td>858</td>\n",
              "      <td>197.0</td>\n",
              "      <td>66.0</td>\n",
              "      <td>8.0</td>\n",
              "      <td>185</td>\n",
              "      <td>59</td>\n",
              "      <td>155</td>\n",
              "      <td>117</td>\n",
              "      <td>71</td>\n",
              "      <td>3607</td>\n",
              "    </tr>\n",
              "    <tr>\n",
              "      <th>1</th>\n",
              "      <td>중랑구</td>\n",
              "      <td>403209</td>\n",
              "      <td>200419</td>\n",
              "      <td>202790</td>\n",
              "      <td>1068</td>\n",
              "      <td>0.0</td>\n",
              "      <td>0.0</td>\n",
              "      <td>0.0</td>\n",
              "      <td>770</td>\n",
              "      <td>102</td>\n",
              "      <td>121</td>\n",
              "      <td>66</td>\n",
              "      <td>9</td>\n",
              "      <td>7400</td>\n",
              "    </tr>\n",
              "    <tr>\n",
              "      <th>2</th>\n",
              "      <td>강북구</td>\n",
              "      <td>319164</td>\n",
              "      <td>156071</td>\n",
              "      <td>163093</td>\n",
              "      <td>1265</td>\n",
              "      <td>243.0</td>\n",
              "      <td>88.0</td>\n",
              "      <td>141.0</td>\n",
              "      <td>74</td>\n",
              "      <td>145</td>\n",
              "      <td>254</td>\n",
              "      <td>1</td>\n",
              "      <td>319</td>\n",
              "      <td>6857</td>\n",
              "    </tr>\n",
              "    <tr>\n",
              "      <th>3</th>\n",
              "      <td>종로구</td>\n",
              "      <td>153065</td>\n",
              "      <td>74825</td>\n",
              "      <td>78240</td>\n",
              "      <td>1471</td>\n",
              "      <td>8.0</td>\n",
              "      <td>7.0</td>\n",
              "      <td>599.0</td>\n",
              "      <td>132</td>\n",
              "      <td>195</td>\n",
              "      <td>148</td>\n",
              "      <td>281</td>\n",
              "      <td>101</td>\n",
              "      <td>3778</td>\n",
              "    </tr>\n",
              "    <tr>\n",
              "      <th>4</th>\n",
              "      <td>광진구</td>\n",
              "      <td>355559</td>\n",
              "      <td>172794</td>\n",
              "      <td>182765</td>\n",
              "      <td>1581</td>\n",
              "      <td>470.0</td>\n",
              "      <td>42.0</td>\n",
              "      <td>83.0</td>\n",
              "      <td>87</td>\n",
              "      <td>64</td>\n",
              "      <td>21</td>\n",
              "      <td>468</td>\n",
              "      <td>346</td>\n",
              "      <td>6825</td>\n",
              "    </tr>\n",
              "  </tbody>\n",
              "</table>\n",
              "</div>"
            ],
            "text/plain": [
              "    구별    총인구수   남자인구수   여자인구수  총CCTV수  ...  2015년  2016년  2017년  2018년  범죄건수\n",
              "0  도봉구  339413  166160  173253     858  ...     59    155    117     71  3607\n",
              "1  중랑구  403209  200419  202790    1068  ...    102    121     66      9  7400\n",
              "2  강북구  319164  156071  163093    1265  ...    145    254      1    319  6857\n",
              "3  종로구  153065   74825   78240    1471  ...    195    148    281    101  3778\n",
              "4  광진구  355559  172794  182765    1581  ...     64     21    468    346  6825\n",
              "\n",
              "[5 rows x 14 columns]"
            ]
          },
          "metadata": {
            "tags": []
          },
          "execution_count": 89
        }
      ]
    },
    {
      "cell_type": "code",
      "metadata": {
        "colab": {
          "base_uri": "https://localhost:8080/",
          "height": 497
        },
        "id": "9skoK-UWWghv",
        "outputId": "48d52d62-3588-462f-ce78-79db639d369a"
      },
      "source": [
        "plt.figure(figsize=(8,8))\n",
        "plt.scatter(total_df['범죄건수'], total_df['총CCTV수'], s=100)\n",
        "plt.xlabel('범죄수')\n",
        "plt.ylabel('CCTV')\n",
        "plt.grid()\n",
        "plt.show()"
      ],
      "execution_count": null,
      "outputs": [
        {
          "output_type": "display_data",
          "data": {
            "image/png": "[encoded data removed]",
            "text/plain": [
              "<Figure size 576x576 with 1 Axes>"
            ]
          },
          "metadata": {
            "tags": [],
            "needs_background": "light"
          }
        }
      ]
    },
    {
      "cell_type": "code",
      "metadata": {
        "id": "MpaJtIvMWvIM"
      },
      "source": [
        "# 이부분은 수학적 내용이 포함되어 있기에 설명을 스킵합니다.\n",
        "fp1 = np.polyfit(total_df['범죄건수'], total_df['총CCTV수'], 1)  # 범죄건수와 총CCTV수를 대표하는 직선 그리기\n",
        "f1 = np.poly1d(fp1)\n",
        "\n",
        "x = np.linspace(2000, 10000, 100)\n",
        "y = f1(x)"
      ],
      "execution_count": null,
      "outputs": []
    },
    {
      "cell_type": "code",
      "metadata": {
        "colab": {
          "base_uri": "https://localhost:8080/",
          "height": 551
        },
        "id": "Ux_A82ZNW44-",
        "outputId": "a081468b-33d7-4fec-8893-522bf58fb53c"
      },
      "source": [
        "plt.figure(figsize=(9,9))\n",
        "plt.scatter(total_df['범죄건수'], total_df['총CCTV수'], s=100)\n",
        "plt.plot(x, y, ls='dashed', lw=3, color='g')\n",
        "plt.xlabel('범죄수')\n",
        "plt.ylabel('CCTV')\n",
        "plt.grid()\n",
        "plt.show()"
      ],
      "execution_count": null,
      "outputs": [
        {
          "output_type": "display_data",
          "data": {
            "image/png": "[encoded data removed]",
            "text/plain": [
              "<Figure size 648x648 with 1 Axes>"
            ]
          },
          "metadata": {
            "tags": [],
            "needs_background": "light"
          }
        }
      ]
    },
    {
      "cell_type": "code",
      "metadata": {
        "colab": {
          "base_uri": "https://localhost:8080/",
          "height": 551
        },
        "id": "LbpOBqKlXF67",
        "outputId": "8bfa5b9b-0fbb-4ee7-a4f5-c8c7c8746436"
      },
      "source": [
        "plt.figure(figsize=(9,9))\n",
        "plt.scatter(total_df['범죄건수'], total_df['총CCTV수'], s=100)\n",
        "plt.plot(x, y, ls='dashed', lw=3, color='g')\n",
        "\n",
        "for n in range(len(total_df)): # plt.text를 사용하여 좌표내에 텍스트 표시\n",
        "    plt.text(total_df['범죄건수'][n]*1.02, total_df['총CCTV수'][n]*0.98,\n",
        "             total_df['구별'][n], fontsize=12)\n",
        "\n",
        "plt.xlabel('범죄수')\n",
        "plt.ylabel('CCTV')\n",
        "plt.grid()\n",
        "plt.show()"
      ],
      "execution_count": null,
      "outputs": [
        {
          "output_type": "display_data",
          "data": {
            "image/png": "[encoded data removed]",
            "text/plain": [
              "<Figure size 648x648 with 1 Axes>"
            ]
          },
          "metadata": {
            "tags": [],
            "needs_background": "light"
          }
        }
      ]
    },
    {
      "cell_type": "code",
      "metadata": {
        "id": "-_yXpKBOXi00"
      },
      "source": [
        ""
      ],
      "execution_count": null,
      "outputs": []
    }
  ]
}