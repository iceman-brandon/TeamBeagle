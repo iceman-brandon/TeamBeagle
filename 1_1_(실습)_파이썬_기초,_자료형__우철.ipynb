{
  "nbformat": 4,
  "nbformat_minor": 0,
  "metadata": {
    "colab": {
      "name": "1-1. (실습) 파이썬 기초, 자료형._우철",
      "provenance": [],
      "collapsed_sections": []
    },
    "kernelspec": {
      "name": "python3",
      "display_name": "Python 3"
    }
  },
  "cells": [
    {
      "cell_type": "markdown",
      "metadata": {
        "id": "0jcquZeKUQQ4"
      },
      "source": [
        "구구단"
      ]
    },
    {
      "cell_type": "code",
      "metadata": {
        "colab": {
          "base_uri": "https://localhost:8080/"
        },
        "id": "X1JaJNzHUSjM",
        "outputId": "c576a713-e1ee-484b-a2e3-40aaf5bf1662"
      },
      "source": [
        "for i in range(2, 10):\n",
        "    for j in range (1, 10):\n",
        "        print(i * j, end = ' ')\n",
        "    print()\n"
      ],
      "execution_count": null,
      "outputs": [
        {
          "output_type": "stream",
          "text": [
            "2 4 6 8 10 12 14 16 18 \n",
            "3 6 9 12 15 18 21 24 27 \n",
            "4 8 12 16 20 24 28 32 36 \n",
            "5 10 15 20 25 30 35 40 45 \n",
            "6 12 18 24 30 36 42 48 54 \n",
            "7 14 21 28 35 42 49 56 63 \n",
            "8 16 24 32 40 48 56 64 72 \n",
            "9 18 27 36 45 54 63 72 81 \n"
          ],
          "name": "stdout"
        }
      ]
    },
    {
      "cell_type": "markdown",
      "metadata": {
        "id": "W3Ah57KBNn9I"
      },
      "source": [
        "커피 자판기"
      ]
    },
    {
      "cell_type": "code",
      "metadata": {
        "id": "bEEIgRbbNtCz"
      },
      "source": [
        "coffee = 3\n",
        "\n",
        "while 'true': \n",
        "    money = int(input('돈을 넣어주세요: '))\n",
        "    if money == 500:\n",
        "        coffee -= 1\n",
        "        print('원두커피를 드립니다')\n",
        "    elif money > 500:\n",
        "        coffee -= 1\n",
        "        print('원두커피를 드리고, 거스름돈을 {}드립니다' .format(money - 500)) \n",
        "    else:\n",
        "        print('금액이 부족합니다. 돈을 더 넣어주세요')\n",
        "    if coffee == 0:\n",
        "        print('원두커피가 매진되었습니다. 판매를 중지합니다')\n",
        "        break"
      ],
      "execution_count": null,
      "outputs": []
    },
    {
      "cell_type": "markdown",
      "metadata": {
        "id": "sN_oPg4FX4vV"
      },
      "source": [
        "# STEP 1. 자료형 이해하기\n",
        "\n",
        "변수에 주어진 자료형에 맞는 값(데이터)을 넣고 출력해본다."
      ]
    },
    {
      "cell_type": "code",
      "metadata": {
        "id": "7UVqx2f8ZS3T",
        "colab": {
          "base_uri": "https://localhost:8080/"
        },
        "outputId": "fa796930-82a6-40b0-f713-6255cbfdab12"
      },
      "source": [
        "# 1. 정수형\n",
        "\n",
        "value = int(3) # 값을 입력하세요\n",
        "print(type(value))"
      ],
      "execution_count": null,
      "outputs": [
        {
          "output_type": "stream",
          "text": [
            "<class 'int'>\n"
          ],
          "name": "stdout"
        }
      ]
    },
    {
      "cell_type": "code",
      "metadata": {
        "id": "P2CeuFNtZx5g",
        "colab": {
          "base_uri": "https://localhost:8080/"
        },
        "outputId": "2f21f1d7-7c77-4d79-91ee-02fb622c107b"
      },
      "source": [
        "# 2. 실수형\n",
        "\n",
        "value = float(2.332) # 값을 입력하세요\n",
        "print(type(value))"
      ],
      "execution_count": null,
      "outputs": [
        {
          "output_type": "stream",
          "text": [
            "<class 'float'>\n"
          ],
          "name": "stdout"
        }
      ]
    },
    {
      "cell_type": "code",
      "metadata": {
        "id": "f55C2eExZ0KV",
        "colab": {
          "base_uri": "https://localhost:8080/"
        },
        "outputId": "6ce93ea2-206c-403a-d41f-8e883e0a7411"
      },
      "source": [
        "# 3. 문자형\n",
        "\n",
        "value = str('blue')  # 값을 입력하세요\n",
        "print(type(value))"
      ],
      "execution_count": null,
      "outputs": [
        {
          "output_type": "stream",
          "text": [
            "<class 'str'>\n"
          ],
          "name": "stdout"
        }
      ]
    },
    {
      "cell_type": "code",
      "metadata": {
        "id": "443tzTX0Z0Go",
        "colab": {
          "base_uri": "https://localhost:8080/"
        },
        "outputId": "aa385558-6552-4a64-8652-d6d024e452d4"
      },
      "source": [
        "# 4. 리스트형\n",
        "\n",
        "value = ['blue', 1, 2.2, 'moon']  # 값을 입력하세요\n",
        "print(type(value))"
      ],
      "execution_count": null,
      "outputs": [
        {
          "output_type": "stream",
          "text": [
            "<class 'list'>\n"
          ],
          "name": "stdout"
        }
      ]
    },
    {
      "cell_type": "code",
      "metadata": {
        "id": "p-HI03o2Z0Ce",
        "colab": {
          "base_uri": "https://localhost:8080/"
        },
        "outputId": "bc44eb1c-d07e-4a7d-a83b-c5d8b3278cd5"
      },
      "source": [
        "# 5. 튜플형\n",
        "\n",
        "value = (3, 4, 5)  # 값을 입력하세요\n",
        "print(type(value))"
      ],
      "execution_count": null,
      "outputs": [
        {
          "output_type": "stream",
          "text": [
            "<class 'tuple'>\n"
          ],
          "name": "stdout"
        }
      ]
    },
    {
      "cell_type": "code",
      "metadata": {
        "id": "mUqCIS1MZz6w",
        "colab": {
          "base_uri": "https://localhost:8080/"
        },
        "outputId": "fd31a625-e504-485f-fe03-da49de140b4b"
      },
      "source": [
        "# 6. 딕셔너리형(사전형)\n",
        "\n",
        "value = {'name': '정우철', 'hobby':'수영'}  # 값을 입력하세요\n",
        "print(type(value))"
      ],
      "execution_count": null,
      "outputs": [
        {
          "output_type": "stream",
          "text": [
            "<class 'dict'>\n"
          ],
          "name": "stdout"
        }
      ]
    },
    {
      "cell_type": "code",
      "metadata": {
        "id": "igHqMcLsZzuw",
        "colab": {
          "base_uri": "https://localhost:8080/"
        },
        "outputId": "4963080b-7289-46c2-8163-d7fa3bd8466c"
      },
      "source": [
        "# 7. 집합형\n",
        "\n",
        "value = {4, 5, 6, 8}  # 값을 입력하세요\n",
        "print(type(value))"
      ],
      "execution_count": null,
      "outputs": [
        {
          "output_type": "stream",
          "text": [
            "<class 'set'>\n"
          ],
          "name": "stdout"
        }
      ]
    },
    {
      "cell_type": "code",
      "metadata": {
        "id": "y2YGoEPVZzio",
        "colab": {
          "base_uri": "https://localhost:8080/"
        },
        "outputId": "e3930597-4171-4885-a61d-fa2871039a1f"
      },
      "source": [
        "# 8. 불형\n",
        "\n",
        "value =  1 == 1 # 값을 입력하세요\n",
        "print(type(value))"
      ],
      "execution_count": null,
      "outputs": [
        {
          "output_type": "stream",
          "text": [
            "<class 'bool'>\n"
          ],
          "name": "stdout"
        }
      ]
    },
    {
      "cell_type": "markdown",
      "metadata": {
        "id": "Dc8OaImQYN-_"
      },
      "source": [
        "# STEP 2. 연산자 이해하기\n",
        "\n",
        "연산자를 사용해 다양한 연산작업을 실습해본다."
      ]
    },
    {
      "cell_type": "code",
      "metadata": {
        "id": "bcdwQvFvlsIX",
        "colab": {
          "base_uri": "https://localhost:8080/"
        },
        "outputId": "334bfb41-fa31-47e4-e80d-3722bf55dc9b"
      },
      "source": [
        "# 1. 사칙연산\n",
        "\n",
        "# 기본 데이터\n",
        "a = 10\n",
        "b = 5\n",
        "\n",
        "# 1-1. 덧셈\n",
        "# plus 변수에 a와 b를 사용하여 덧셈을 완성하고 출력함수를 사용하여 출력하시오.\n",
        "plus = a + b\n",
        "print(plus)"
      ],
      "execution_count": null,
      "outputs": [
        {
          "output_type": "stream",
          "text": [
            "15\n"
          ],
          "name": "stdout"
        }
      ]
    },
    {
      "cell_type": "code",
      "metadata": {
        "id": "HKzLOpwhN_ux",
        "colab": {
          "base_uri": "https://localhost:8080/"
        },
        "outputId": "4a665415-b4a3-44e6-8199-665a303fc739"
      },
      "source": [
        "# 1-2. 뺄셈\n",
        "# minus 변수에 a와 b를 사용하여 뺄셈을 완성하고 출력함수를 사용하여 출력하시오. \n",
        "minus = a - b\n",
        "print(minus)\n"
      ],
      "execution_count": null,
      "outputs": [
        {
          "output_type": "stream",
          "text": [
            "5\n"
          ],
          "name": "stdout"
        }
      ]
    },
    {
      "cell_type": "code",
      "metadata": {
        "id": "dXPESoU_Xwmu",
        "colab": {
          "base_uri": "https://localhost:8080/"
        },
        "outputId": "f81f4937-d016-4518-96a6-20aa34ff63ae"
      },
      "source": [
        "# 1-3. 곱셈\n",
        "# multiple 변수에 a와 b를 사용하여 곱셈을 완성하고 출력함수를 사용하여 출력하시오. \n",
        "multiple = a * b\n",
        "print(multiple)\n"
      ],
      "execution_count": null,
      "outputs": [
        {
          "output_type": "stream",
          "text": [
            "50\n"
          ],
          "name": "stdout"
        }
      ]
    },
    {
      "cell_type": "code",
      "metadata": {
        "id": "l0oBbnLmoH7O",
        "colab": {
          "base_uri": "https://localhost:8080/"
        },
        "outputId": "de0a24d4-360c-4ca0-8659-5d9ebdbf3f61"
      },
      "source": [
        "# 1-4. 나눗셈\n",
        "# division 변수에 a와 b를 사용하여 나눗셈을 완성하고 출력함수를 사용하여 출력하시오. \n",
        "division = a / b\n",
        "print(division)\n"
      ],
      "execution_count": null,
      "outputs": [
        {
          "output_type": "stream",
          "text": [
            "2.0\n"
          ],
          "name": "stdout"
        }
      ]
    },
    {
      "cell_type": "code",
      "metadata": {
        "id": "fsEgV-cSoH4j",
        "colab": {
          "base_uri": "https://localhost:8080/"
        },
        "outputId": "8ffca388-a477-4591-9452-1f587495b93e"
      },
      "source": [
        "# 2. 추가 연산자\n",
        "\n",
        "# 2-2. 지수 연산\n",
        "# pow 변수에 a와 b를 사용하여 지수(제곱)연산을 완성하고 출력함수를 사용하여 출력하시오. \n",
        "pow = a ** b\n",
        "print(pow)\n"
      ],
      "execution_count": null,
      "outputs": [
        {
          "output_type": "stream",
          "text": [
            "100000\n"
          ],
          "name": "stdout"
        }
      ]
    },
    {
      "cell_type": "code",
      "metadata": {
        "id": "DdVcEoi9oH0p",
        "colab": {
          "base_uri": "https://localhost:8080/"
        },
        "outputId": "4b5c7b4f-b7ab-4ad9-8ac4-726cdab7d999"
      },
      "source": [
        "# 2-2. 나머지 연산\n",
        "# remainder 변수에 a와 b를 사용하여 나머지연산을 완성하고 출력함수를 사용하여 출력하시오. \n",
        "remainder = a % b\n",
        "print(remainder)\n"
      ],
      "execution_count": null,
      "outputs": [
        {
          "output_type": "stream",
          "text": [
            "0\n"
          ],
          "name": "stdout"
        }
      ]
    },
    {
      "cell_type": "code",
      "metadata": {
        "id": "1okaAK5EoHuh",
        "colab": {
          "base_uri": "https://localhost:8080/"
        },
        "outputId": "8666a211-73df-401b-9da9-ac25e1d43667"
      },
      "source": [
        "# 2-3. 몫 연산\n",
        "# quota 변수에 a와 b를 사용하여 몫연산을 완성하고 출력함수를 사용하여 출력하시오. \n",
        "quota = a // b\n",
        "print(quota)\n"
      ],
      "execution_count": null,
      "outputs": [
        {
          "output_type": "stream",
          "text": [
            "2\n"
          ],
          "name": "stdout"
        }
      ]
    },
    {
      "cell_type": "code",
      "metadata": {
        "id": "JAeJSReqoHrS",
        "colab": {
          "base_uri": "https://localhost:8080/"
        },
        "outputId": "acfc208c-8982-4388-e7bf-997206b3cd22"
      },
      "source": [
        "# 3. 연산자를 활용해보자\n",
        "\n",
        "# 3-1. 다음 문제의 답을 출력하시오\n",
        "# 문제 : 가로가 3, 세로가 5인 직사각형과 한 변의 길이가 4인 정사각형이 있을 때,\n",
        "#        두 사각형의 넓이을 더한 값을 코드로 작성하고 출력하시오.\n",
        "\n",
        "\n",
        "a = 3 * 5\n",
        "b = 4 * 4\n",
        "print(a + b) \n",
        "\n"
      ],
      "execution_count": null,
      "outputs": [
        {
          "output_type": "stream",
          "text": [
            "31\n"
          ],
          "name": "stdout"
        }
      ]
    },
    {
      "cell_type": "markdown",
      "metadata": {
        "id": "_r-SXYbdsR9z"
      },
      "source": [
        "# STEP 3. 숫자형 다루기\n",
        "\n",
        "숫자형의 형변환과 반올림을 실습해본다."
      ]
    },
    {
      "cell_type": "code",
      "metadata": {
        "id": "O1ve8Sr1oHmJ",
        "colab": {
          "base_uri": "https://localhost:8080/"
        },
        "outputId": "1fc04407-63a3-479c-e616-414230a68379"
      },
      "source": [
        "pi = 3.1415926535897\n",
        "\n",
        "# 1. pi를 정수형으로 변환하고 출력하시오.\n",
        "\n",
        "print(int(pi))\n"
      ],
      "execution_count": null,
      "outputs": [
        {
          "output_type": "stream",
          "text": [
            "3\n"
          ],
          "name": "stdout"
        }
      ]
    },
    {
      "cell_type": "code",
      "metadata": {
        "id": "whbMBJBht3Ss",
        "colab": {
          "base_uri": "https://localhost:8080/"
        },
        "outputId": "242ddc41-ec3b-414a-a957-8e80bb32dfe4"
      },
      "source": [
        "one = 1\n",
        "\n",
        "# 2. one을 실수형으로 변환하고 출력하시오.\n",
        "\n",
        "print(float(one))"
      ],
      "execution_count": null,
      "outputs": [
        {
          "output_type": "stream",
          "text": [
            "1.0\n"
          ],
          "name": "stdout"
        }
      ]
    },
    {
      "cell_type": "code",
      "metadata": {
        "id": "Ja6WBujhoHWw",
        "colab": {
          "base_uri": "https://localhost:8080/"
        },
        "outputId": "fd019f31-5f7e-40ed-ff82-e8f5c5b79030"
      },
      "source": [
        "# 3. pi를 소숫점 셋째자리에서 반올림하고 출력하시오.\n",
        "\n",
        "round(pi, 2)"
      ],
      "execution_count": null,
      "outputs": [
        {
          "output_type": "execute_result",
          "data": {
            "text/plain": [
              "3.14"
            ]
          },
          "metadata": {
            "tags": []
          },
          "execution_count": 55
        }
      ]
    },
    {
      "cell_type": "markdown",
      "metadata": {
        "id": "bx0XCvN4vXpU"
      },
      "source": [
        "# STEP 4. 문자형 다루기\n",
        "\n",
        "문자형의 형변환, 길이구하기 등 다양한 문자열 함수를 실습해본다.\n"
      ]
    },
    {
      "cell_type": "code",
      "metadata": {
        "id": "wSxZEk3LoHTo",
        "colab": {
          "base_uri": "https://localhost:8080/"
        },
        "outputId": "9c501e90-d13c-4dc7-a8bc-0bdb9ea073e9"
      },
      "source": [
        "is_number = 1234567890\n",
        "\n",
        "# 1. is_number 변수의 값을 문자형으로 형변환하고, is_string 변수에 넣고 출력하시오.\n",
        "\n",
        "a = (str(is_number))\n",
        "print(a)\n",
        "is_string = print(type(a))\n"
      ],
      "execution_count": null,
      "outputs": [
        {
          "output_type": "stream",
          "text": [
            "1234567890\n",
            "<class 'str'>\n"
          ],
          "name": "stdout"
        }
      ]
    },
    {
      "cell_type": "code",
      "metadata": {
        "id": "u6tpE_8QyAxy",
        "colab": {
          "base_uri": "https://localhost:8080/"
        },
        "outputId": "0f5235d7-f298-459f-bcf0-fc87b155ad42"
      },
      "source": [
        "# 2. is_string 변수에 있는 문자열의 길이를 출력하시오.\n",
        "print(len(a))"
      ],
      "execution_count": null,
      "outputs": [
        {
          "output_type": "stream",
          "text": [
            "10\n"
          ],
          "name": "stdout"
        }
      ]
    },
    {
      "cell_type": "code",
      "metadata": {
        "id": "jsgW4qk5yAva",
        "colab": {
          "base_uri": "https://localhost:8080/"
        },
        "outputId": "4f0649a3-3a59-42a7-ae51-b47c62a74db4"
      },
      "source": [
        "py_this = 'Simple is better than complex'\n",
        "blank_str = '   Python   '\n",
        "\n",
        "# 3. \"_____\"을 지우고 알맞은 코드를 작성하시오.\n",
        "\n",
        "# 3-1. py_this 변수의 데이터에서 't'의 개수\n",
        "print('t 개수 :', py_this .count('t'))"
      ],
      "execution_count": null,
      "outputs": [
        {
          "output_type": "stream",
          "text": [
            "t 개수 : 3\n"
          ],
          "name": "stdout"
        }
      ]
    },
    {
      "cell_type": "code",
      "metadata": {
        "id": "YrgfLH8rssTH",
        "colab": {
          "base_uri": "https://localhost:8080/"
        },
        "outputId": "5d3c6b67-53e1-41ad-9be2-0f72eeb43ba3"
      },
      "source": [
        "# 3-2. py_this 변수의 데이터에서 'is'의 개수\n",
        "print('is 개수 :', py_this .count('is'))"
      ],
      "execution_count": null,
      "outputs": [
        {
          "output_type": "stream",
          "text": [
            "is 개수 : 1\n"
          ],
          "name": "stdout"
        }
      ]
    },
    {
      "cell_type": "code",
      "metadata": {
        "id": "beUyJ6q4ssJK",
        "colab": {
          "base_uri": "https://localhost:8080/"
        },
        "outputId": "41f9e00d-0b68-46d7-f966-d3de84aa3326"
      },
      "source": [
        "# 3-3. py_this 변수의 데이터에서 'm'의 위치\n",
        "print('m 위치 :', py_this.find('m'))"
      ],
      "execution_count": null,
      "outputs": [
        {
          "output_type": "stream",
          "text": [
            "m 위치 : 2\n"
          ],
          "name": "stdout"
        }
      ]
    },
    {
      "cell_type": "code",
      "metadata": {
        "id": "PnqVqY25sr_k",
        "colab": {
          "base_uri": "https://localhost:8080/"
        },
        "outputId": "26599c60-b49e-4e36-aaa6-1e65726e2e02"
      },
      "source": [
        "# 3-4. py_this 변수의 데이터를 대문자로 바꾸기\n",
        "print('대문자로 변환 :', py_this.upper())"
      ],
      "execution_count": null,
      "outputs": [
        {
          "output_type": "stream",
          "text": [
            "대문자로 변환 : SIMPLE IS BETTER THAN COMPLEX\n"
          ],
          "name": "stdout"
        }
      ]
    },
    {
      "cell_type": "code",
      "metadata": {
        "id": "MKYvjIIusrxJ",
        "colab": {
          "base_uri": "https://localhost:8080/"
        },
        "outputId": "12bed041-d49b-41fb-f03d-6fae01f1b126"
      },
      "source": [
        "# 3-5. py_this 변수의 데이터를 소문자로 바꾸기\n",
        "print('소문자로 변환 :', py_this.lower())"
      ],
      "execution_count": null,
      "outputs": [
        {
          "output_type": "stream",
          "text": [
            "소문자로 변환 : simple is better than complex\n"
          ],
          "name": "stdout"
        }
      ]
    },
    {
      "cell_type": "code",
      "metadata": {
        "id": "0MCzKNLWsrnC",
        "colab": {
          "base_uri": "https://localhost:8080/"
        },
        "outputId": "6315e775-e151-4edb-ebad-9c90d5744cde"
      },
      "source": [
        "# 3-6. blank_str 변수의 데이터 양쪽 공백을 없애고 길이 구하기\n",
        "print('양쪽 공백 제거 :', blank_str.strip())\n",
        "print('양쪽 공백 제거 후 길이 :', len(blank_str.strip()) )"
      ],
      "execution_count": null,
      "outputs": [
        {
          "output_type": "stream",
          "text": [
            "양쪽 공백 제거 : Python\n",
            "양쪽 공백 제거 후 길이 : 6\n"
          ],
          "name": "stdout"
        }
      ]
    },
    {
      "cell_type": "code",
      "metadata": {
        "id": "Zy5Cwg6Vsree",
        "colab": {
          "base_uri": "https://localhost:8080/"
        },
        "outputId": "488a94f0-ddf1-4f3f-82d5-57a833eaca5f"
      },
      "source": [
        "# 3-7. blank_str 변수의 데이터 왼쪽 공백을 없애고 길이 구하기\n",
        "print('왼쪽 공백 제거 :', blank_str.lstrip())\n",
        "print('왼쪽 공백 제거 후 길이 :', len(blank_str.lstrip()))"
      ],
      "execution_count": null,
      "outputs": [
        {
          "output_type": "stream",
          "text": [
            "왼쪽 공백 제거 : Python   \n",
            "왼쪽 공백 제거 후 길이 : 9\n"
          ],
          "name": "stdout"
        }
      ]
    },
    {
      "cell_type": "code",
      "metadata": {
        "id": "9RMLtwI3srW8",
        "colab": {
          "base_uri": "https://localhost:8080/"
        },
        "outputId": "325c1887-a5b9-45bf-8682-d7c7add27cbf"
      },
      "source": [
        "# 3-8. blank_str 변수의 데이터 오른쪽 공백을 없애고 길이 구하기\n",
        "print('오른쪽 공백 제거 :', blank_str.rstrip())\n",
        "print('오른쪽 공백 제거 후 길이 :', len(blank_str.rstrip()))"
      ],
      "execution_count": null,
      "outputs": [
        {
          "output_type": "stream",
          "text": [
            "오른쪽 공백 제거 :    Python\n",
            "오른쪽 공백 제거 후 길이 : 9\n"
          ],
          "name": "stdout"
        }
      ]
    },
    {
      "cell_type": "code",
      "metadata": {
        "id": "3gc6MavqsrJ-",
        "colab": {
          "base_uri": "https://localhost:8080/"
        },
        "outputId": "7c3551a1-6eb7-4bf2-970e-324ea5bf7c66"
      },
      "source": [
        "# 3-9. py_this 변수의 데이터에서 'Simple'을 '단순한 것'으로 바꾸고 출력하기\n",
        "print('문자열 치환 :', py_this.replace('Simple', '단순한 것'))"
      ],
      "execution_count": null,
      "outputs": [
        {
          "output_type": "stream",
          "text": [
            "문자열 치환 : 단순한 것 is better than complex\n"
          ],
          "name": "stdout"
        }
      ]
    },
    {
      "cell_type": "code",
      "metadata": {
        "id": "S_zQpPUusrDI",
        "colab": {
          "base_uri": "https://localhost:8080/"
        },
        "outputId": "a2c1643c-ea8a-4bd0-93dc-92eaa27a5120"
      },
      "source": [
        "# 3-10. py_this 변수의 데이터를 띄어쓰기 단위로 나누기\n",
        "print('문자열 나누기 :', py_this.split())"
      ],
      "execution_count": null,
      "outputs": [
        {
          "output_type": "stream",
          "text": [
            "문자열 나누기 : ['Simple', 'is', 'better', 'than', 'complex']\n"
          ],
          "name": "stdout"
        }
      ]
    },
    {
      "cell_type": "code",
      "metadata": {
        "id": "sRUU4F-jsqym",
        "colab": {
          "base_uri": "https://localhost:8080/"
        },
        "outputId": "ecc4adda-9d78-45d4-b031-996f379d8133"
      },
      "source": [
        "# 3-11. py_this 변수의 데이터에 '-' 구분자 넣기\n",
        "print('문자열에 구분자 넣기 : ','-'.join(py_this))"
      ],
      "execution_count": null,
      "outputs": [
        {
          "output_type": "stream",
          "text": [
            "문자열에 구분자 넣기 :  S-i-m-p-l-e- -i-s- -b-e-t-t-e-r- -t-h-a-n- -c-o-m-p-l-e-x\n"
          ],
          "name": "stdout"
        }
      ]
    },
    {
      "cell_type": "code",
      "metadata": {
        "id": "XN5-koIYyAqn",
        "colab": {
          "base_uri": "https://localhost:8080/"
        },
        "outputId": "75d04990-ab6c-46de-b326-15694c383b6e"
      },
      "source": [
        "text = 'Life is timing'\n",
        "\n",
        "# 4. \"_____\"을 지우고 알맞은 코드를 작성하시오.\n",
        "\n",
        "# 4-1. text 변수의 데이터에서 8번 위치에 있는 문자를 출력하시오.\n",
        "print('8번 문자 :', text[8])"
      ],
      "execution_count": null,
      "outputs": [
        {
          "output_type": "stream",
          "text": [
            "8번 문자 : t\n"
          ],
          "name": "stdout"
        }
      ]
    },
    {
      "cell_type": "code",
      "metadata": {
        "id": "L_ugBq_Et3v7",
        "colab": {
          "base_uri": "https://localhost:8080/"
        },
        "outputId": "968e0b13-e1c9-45bf-e64e-6a5b3c53fa14"
      },
      "source": [
        "# 4-2. text 변수의 데이터에서 'Life' 단어를 출력하시오.\n",
        "print('Life 슬라이싱 :', text[0:4])"
      ],
      "execution_count": null,
      "outputs": [
        {
          "output_type": "stream",
          "text": [
            "Life 슬라이싱 : Life\n"
          ],
          "name": "stdout"
        }
      ]
    },
    {
      "cell_type": "code",
      "metadata": {
        "id": "VIXXneVTt3gJ",
        "colab": {
          "base_uri": "https://localhost:8080/"
        },
        "outputId": "99da62cf-d004-4314-aa4e-87ab2f4fed06"
      },
      "source": [
        "# 4-3. text 변수의 데이터에서 'is' 단어를 출력하시오.\n",
        "print('is 슬라이싱 :', text[5:7])"
      ],
      "execution_count": null,
      "outputs": [
        {
          "output_type": "stream",
          "text": [
            "is 슬라이싱 : is\n"
          ],
          "name": "stdout"
        }
      ]
    },
    {
      "cell_type": "code",
      "metadata": {
        "id": "iIgXnF3Vt3Sg",
        "colab": {
          "base_uri": "https://localhost:8080/"
        },
        "outputId": "98415d2d-dd72-49d8-f497-5fea86db70af"
      },
      "source": [
        "# 4-4. text 변수의 데이터에서 'timing' 단어를 출력하시오.\n",
        "print('timing 슬라이싱 :', text[8:])"
      ],
      "execution_count": null,
      "outputs": [
        {
          "output_type": "stream",
          "text": [
            "timing 슬라이싱 : timing\n"
          ],
          "name": "stdout"
        }
      ]
    },
    {
      "cell_type": "code",
      "metadata": {
        "id": "fYY01nY4yAnx",
        "colab": {
          "base_uri": "https://localhost:8080/"
        },
        "outputId": "1d9f3dbe-151b-4ca9-f821-97da491c97d3"
      },
      "source": [
        "# 5. 문자열 포매팅으로 'I have a dream'을 완성시켜서 출력하시오.\n",
        "\n",
        "fm_text = 'I {} a dream'.format('have')\n",
        "print(fm_text)"
      ],
      "execution_count": null,
      "outputs": [
        {
          "output_type": "stream",
          "text": [
            "I have a dream\n"
          ],
          "name": "stdout"
        }
      ]
    },
    {
      "cell_type": "code",
      "metadata": {
        "id": "EI1SVDgkuAjj",
        "colab": {
          "base_uri": "https://localhost:8080/"
        },
        "outputId": "41de23dd-3903-4dae-f387-1c3cf63fe373"
      },
      "source": [
        "fm_text2 = 'I {} a {}'.format('have', 'dream')\n",
        "print(fm_text2)"
      ],
      "execution_count": null,
      "outputs": [
        {
          "output_type": "stream",
          "text": [
            "I have a dream\n"
          ],
          "name": "stdout"
        }
      ]
    },
    {
      "cell_type": "code",
      "metadata": {
        "id": "j-PrGVfpuAMW",
        "colab": {
          "base_uri": "https://localhost:8080/"
        },
        "outputId": "9ba15459-9d7e-4704-fe99-1127532268d5"
      },
      "source": [
        "word = 'dream'\n",
        "fm_text3 = f'I have a {word}' \n",
        "print(fm_text3)"
      ],
      "execution_count": null,
      "outputs": [
        {
          "output_type": "stream",
          "text": [
            "I have a dream\n"
          ],
          "name": "stdout"
        }
      ]
    },
    {
      "cell_type": "markdown",
      "metadata": {
        "id": "E1nHseX3UpjP"
      },
      "source": [
        "# STEP 5. 리스트 다루기\n",
        "\n",
        "리스트의 함수를 통해 리스트를 실습해본다.\n"
      ]
    },
    {
      "cell_type": "code",
      "metadata": {
        "id": "rMto6AWoyAlo",
        "colab": {
          "base_uri": "https://localhost:8080/"
        },
        "outputId": "4421e089-883b-4ba5-b10b-0ef0abebf382"
      },
      "source": [
        "IU_playlist = ['좋은날', '너랑 나', '분홍신', '밤편지', '삐삐']\n",
        "\n",
        "# 1. IU_playlist의 길이를 출력하시오\n",
        "len(IU_playlist)"
      ],
      "execution_count": null,
      "outputs": [
        {
          "output_type": "execute_result",
          "data": {
            "text/plain": [
              "5"
            ]
          },
          "metadata": {
            "tags": []
          },
          "execution_count": 96
        }
      ]
    },
    {
      "cell_type": "code",
      "metadata": {
        "id": "OY60RKnByAiM",
        "colab": {
          "base_uri": "https://localhost:8080/"
        },
        "outputId": "2c38896c-ef3f-408b-f4ff-64db702a52e6"
      },
      "source": [
        "# 2. \"_____\"을 지우고 알맞은 코드를 작성하시오.\n",
        "\n",
        "# 2-1. IU_playlist 마지막에 '블루밍'을 추가하고 IU_playlist를 출력하시오.\n",
        "IU_playlist.append('블루밍')\n",
        "print('리스트 마지막 추가 :', IU_playlist)"
      ],
      "execution_count": null,
      "outputs": [
        {
          "output_type": "stream",
          "text": [
            "리스트 마지막 추가 : ['좋은날', '너랑 나', '분홍신', '밤편지', '삐삐', '블루밍']\n"
          ],
          "name": "stdout"
        }
      ]
    },
    {
      "cell_type": "code",
      "metadata": {
        "id": "95msz_7kuNQ9",
        "colab": {
          "base_uri": "https://localhost:8080/"
        },
        "outputId": "50d3fc4a-3e60-4b8f-e09e-a1172511898b"
      },
      "source": [
        "# 2-2. IU_playlist 처음에 '미아보호소'를 추가하고 IU_playlist를 출력하시오.\n",
        "IU_playlist.insert(0, '미아보호소')\n",
        "print('리스트 처음 추가 :', IU_playlist)"
      ],
      "execution_count": null,
      "outputs": [
        {
          "output_type": "stream",
          "text": [
            "리스트 처음 추가 : ['미아보호소', '좋은날', '너랑 나', '분홍신', '밤편지', '삐삐', '블루밍']\n"
          ],
          "name": "stdout"
        }
      ]
    },
    {
      "cell_type": "code",
      "metadata": {
        "id": "SgpRqGZ0uNF4",
        "colab": {
          "base_uri": "https://localhost:8080/"
        },
        "outputId": "f4444e11-daf9-43bc-ea75-8451abb9f823"
      },
      "source": [
        "# 2-3. IU_playlist에 add_list를 추가하고 IU_playlist를 출력하시오.\n",
        "add_list = ['Boo', '있잖아', '마시멜로우', '잔소리']\n",
        "IU_playlist.extend(add_list)\n",
        "print('여러 요소 추가 :', IU_playlist)"
      ],
      "execution_count": null,
      "outputs": [
        {
          "output_type": "stream",
          "text": [
            "여러 요소 추가 : ['미아보호소', '좋은날', '너랑 나', '분홍신', '밤편지', '삐삐', '블루밍', 'Boo', '있잖아', '마시멜로우', '잔소리']\n"
          ],
          "name": "stdout"
        }
      ]
    },
    {
      "cell_type": "code",
      "metadata": {
        "id": "9pQHPVquuM72",
        "colab": {
          "base_uri": "https://localhost:8080/"
        },
        "outputId": "c988e560-50bd-466c-9b35-a3a3c149ac40"
      },
      "source": [
        "# 2-4. IU_playlist를 정렬하고 IU_playlist를 출력하시오.\n",
        "print('리스트 정렬 :', IU_playlist.sort())"
      ],
      "execution_count": null,
      "outputs": [
        {
          "output_type": "stream",
          "text": [
            "리스트 정렬 : None\n"
          ],
          "name": "stdout"
        }
      ]
    },
    {
      "cell_type": "code",
      "metadata": {
        "id": "S6GpqjGPuMzB",
        "colab": {
          "base_uri": "https://localhost:8080/"
        },
        "outputId": "9b89b4d9-82ac-4cac-8a76-5460db603760"
      },
      "source": [
        "# 2-5. IU_playlist 역순정렬하고 IU_playlist를 출력하시오.\n",
        "print('리스트 역순정렬 :', IU_playlist.reverse())"
      ],
      "execution_count": null,
      "outputs": [
        {
          "output_type": "stream",
          "text": [
            "리스트 역순정렬 : None\n"
          ],
          "name": "stdout"
        }
      ]
    },
    {
      "cell_type": "code",
      "metadata": {
        "id": "MnSn2NHruMpK",
        "colab": {
          "base_uri": "https://localhost:8080/"
        },
        "outputId": "d61580f1-f427-4a2c-827f-3cd56ab34299"
      },
      "source": [
        "# 2-6. IU_playlist에서 '블루밍'의 위치를 출력하시오.\n",
        "print('리스트 요소 위치 :', IU_playlist.index('블루밍'))"
      ],
      "execution_count": null,
      "outputs": [
        {
          "output_type": "stream",
          "text": [
            "리스트 요소 위치 : 4\n"
          ],
          "name": "stdout"
        }
      ]
    },
    {
      "cell_type": "code",
      "metadata": {
        "id": "O3hrcDtQuMca",
        "colab": {
          "base_uri": "https://localhost:8080/"
        },
        "outputId": "7004be03-49c4-4783-8085-0c352d1a3dce"
      },
      "source": [
        "# 2-7. IU_playlist에서 '미아보호소'를 삭제하고 IU_playlist를 출력하시오.\n",
        "IU_playlist.remove('미아보호소')\n",
        "print('리스트 요소 삭제 :', IU_playlist)"
      ],
      "execution_count": null,
      "outputs": [
        {
          "output_type": "stream",
          "text": [
            "리스트 요소 삭제 : ['좋은날', '잔소리', '있잖아', '삐삐', '블루밍', '분홍신', '밤편지', '마시멜로우', '너랑 나', 'Boo']\n"
          ],
          "name": "stdout"
        }
      ]
    },
    {
      "cell_type": "code",
      "metadata": {
        "id": "edkklzPeupkc",
        "colab": {
          "base_uri": "https://localhost:8080/"
        },
        "outputId": "b500c011-87e7-4d23-c410-6d316f5c948e"
      },
      "source": [
        "# 2-8. IU_playlist 마지막 요소를 제거하고 출력하시오.\n",
        "IU_playlist.pop()\n",
        "print('리스트 pop :', IU_playlist)"
      ],
      "execution_count": null,
      "outputs": [
        {
          "output_type": "stream",
          "text": [
            "리스트 pop : ['좋은날', '잔소리', '있잖아', '삐삐', '블루밍', '분홍신', '밤편지', '마시멜로우', '너랑 나']\n"
          ],
          "name": "stdout"
        }
      ]
    },
    {
      "cell_type": "code",
      "metadata": {
        "id": "GAze7IHSupV6",
        "colab": {
          "base_uri": "https://localhost:8080/"
        },
        "outputId": "00a9e725-e202-41a6-c4ac-4f21ab2213b5"
      },
      "source": [
        "# 2-9. IU_playlist에서 '좋은날'은 몇 곡인지 갯수를 출력하시오.\n",
        "print('리스트 요소 개수 :', IU_playlist.count('좋은날'))"
      ],
      "execution_count": null,
      "outputs": [
        {
          "output_type": "stream",
          "text": [
            "리스트 요소 개수 : 1\n"
          ],
          "name": "stdout"
        }
      ]
    },
    {
      "cell_type": "code",
      "metadata": {
        "id": "cKrks8gGupLX",
        "colab": {
          "base_uri": "https://localhost:8080/"
        },
        "outputId": "d43b3532-b553-4e03-84b3-dc418ec1f2c3"
      },
      "source": [
        "# 2-10. IU_playlist에서 3번 인덱스에 있는 곡은 무엇인지 출력하시오.\n",
        "print('리스트 인덱스 :', IU_playlist[3])"
      ],
      "execution_count": null,
      "outputs": [
        {
          "output_type": "stream",
          "text": [
            "리스트 인덱스 : 삐삐\n"
          ],
          "name": "stdout"
        }
      ]
    },
    {
      "cell_type": "code",
      "metadata": {
        "id": "gICZ2lwaupDP",
        "colab": {
          "base_uri": "https://localhost:8080/"
        },
        "outputId": "1d4f86c3-35af-48c7-d367-f9be450640c8"
      },
      "source": [
        "# 2-11. IU_playlist에서 첫번째 곡에서 3번째 곡까지 출력하시오.\n",
        "print('리스트 슬라이싱 :', IU_playlist[0:3])"
      ],
      "execution_count": null,
      "outputs": [
        {
          "output_type": "stream",
          "text": [
            "리스트 슬라이싱 : ['좋은날', '잔소리', '있잖아']\n"
          ],
          "name": "stdout"
        }
      ]
    },
    {
      "cell_type": "code",
      "metadata": {
        "id": "IqhLZHmKuoxs",
        "colab": {
          "base_uri": "https://localhost:8080/"
        },
        "outputId": "49b7c71c-7d5b-4e73-ced8-28f2c58e6e1f"
      },
      "source": [
        "# 2-12. IU_playlist에서 3번 인덱스에 있는 노래를 '시간의 바깥'으로 수정하고 IU_playlist를 출력하시오.\n",
        "IU_playlist.insert(3, '시간의 바깥')\n",
        "print('리스트 요소 수정 :', IU_playlist)"
      ],
      "execution_count": null,
      "outputs": [
        {
          "output_type": "stream",
          "text": [
            "리스트 요소 수정 : ['좋은날', '잔소리', '있잖아', '시간의 바깥', '삐삐', '블루밍', '분홍신', '밤편지', '마시멜로우', '너랑 나']\n"
          ],
          "name": "stdout"
        }
      ]
    },
    {
      "cell_type": "code",
      "metadata": {
        "id": "lDpo4tzTuMOV",
        "colab": {
          "base_uri": "https://localhost:8080/"
        },
        "outputId": "17194db6-0740-404c-f5e2-b0287521e0c4"
      },
      "source": [
        "# 2-13. IU_playlist에서 3번 인덱스에 있는 노래를 제거하고 IU_playlist를 출력하시오.\n",
        "IU_playlist.remove('시간의 바깥')\n",
        "print('리스트 요소 제거 :', IU_playlist)"
      ],
      "execution_count": null,
      "outputs": [
        {
          "output_type": "stream",
          "text": [
            "리스트 요소 제거 : ['좋은날', '잔소리', '있잖아', '삐삐', '블루밍', '분홍신', '밤편지', '마시멜로우', '너랑 나']\n"
          ],
          "name": "stdout"
        }
      ]
    },
    {
      "cell_type": "markdown",
      "metadata": {
        "id": "1ma3Swspagxb"
      },
      "source": [
        "# STEP 6. 딕셔너리 다루기\n",
        "\n",
        "딕셔너리 함수를 통해 딕셔너리를 실습해본다.\n"
      ]
    },
    {
      "cell_type": "code",
      "metadata": {
        "id": "EVOhZVaLvwAn",
        "colab": {
          "base_uri": "https://localhost:8080/"
        },
        "outputId": "a7958efc-1329-4c23-f81f-934e52c85f83"
      },
      "source": [
        "food = {'a':'apple', 'b':'banana', 'c':'chocolate', 'd':'donut', 'e':'egg'}\n",
        "\n",
        "# 1. \"_____\"을 지우고 알맞은 코드를 작성하시오.\n",
        "\n",
        "# 1-1. food의 Key만 출력하시오.\n",
        "print('딕셔너리 키 :', food.keys())"
      ],
      "execution_count": null,
      "outputs": [
        {
          "output_type": "stream",
          "text": [
            "딕셔너리 키 : dict_keys(['a', 'b', 'c', 'd', 'e'])\n"
          ],
          "name": "stdout"
        }
      ]
    },
    {
      "cell_type": "code",
      "metadata": {
        "id": "2wZLtjN4u6rN",
        "colab": {
          "base_uri": "https://localhost:8080/"
        },
        "outputId": "2e60b39a-f479-4a38-8b5d-20cbbdcc7379"
      },
      "source": [
        "# 1-2. food의 Value만 출력하시오.\n",
        "print('딕셔너리 값 :', food.values())"
      ],
      "execution_count": null,
      "outputs": [
        {
          "output_type": "stream",
          "text": [
            "딕셔너리 값 : dict_values(['apple', 'banana', 'chocolate', 'donut', 'egg'])\n"
          ],
          "name": "stdout"
        }
      ]
    },
    {
      "cell_type": "code",
      "metadata": {
        "id": "i5tWu5fpu6Ra",
        "colab": {
          "base_uri": "https://localhost:8080/"
        },
        "outputId": "3277bf76-efc5-45fb-a21d-eec3554eeb1f"
      },
      "source": [
        "# 1-3. food의 Key, value 쌍을 출력하시오.\n",
        "print('딕셔너리 쌍 :', food.items())"
      ],
      "execution_count": null,
      "outputs": [
        {
          "output_type": "stream",
          "text": [
            "딕셔너리 쌍 : dict_items([('a', 'apple'), ('b', 'banana'), ('c', 'chocolate'), ('d', 'donut'), ('e', 'egg')])\n"
          ],
          "name": "stdout"
        }
      ]
    },
    {
      "cell_type": "code",
      "metadata": {
        "id": "RuPqPuLqu573",
        "colab": {
          "base_uri": "https://localhost:8080/"
        },
        "outputId": "ed03de36-672f-4ff4-9655-f79386a936fe"
      },
      "source": [
        "# 1-4. food에서 egg를 출력하시오.\n",
        "print('딕셔너리 키-값 가져오기 :', food.get('e'))"
      ],
      "execution_count": null,
      "outputs": [
        {
          "output_type": "stream",
          "text": [
            "딕셔너리 키-값 가져오기 : egg\n"
          ],
          "name": "stdout"
        }
      ]
    },
    {
      "cell_type": "code",
      "metadata": {
        "id": "zeGtn-4Gu5l1",
        "colab": {
          "base_uri": "https://localhost:8080/"
        },
        "outputId": "c8cab9c3-2978-474a-dad2-300f9079627b"
      },
      "source": [
        "# 1-5. food에 Key가 'p'이고, Value가 'pizza'를 추가하고 출력하시오.\n",
        "food['p'] = 'pizza'\n",
        "print('딕셔너리 추가 :', food)"
      ],
      "execution_count": null,
      "outputs": [
        {
          "output_type": "stream",
          "text": [
            "딕셔너리 추가 : {'a': 'apple', 'b': 'banana', 'c': 'chocolate', 'd': 'donut', 'e': 'egg', 'p': 'pizza'}\n"
          ],
          "name": "stdout"
        }
      ]
    },
    {
      "cell_type": "code",
      "metadata": {
        "id": "jda_UGwou5Lr",
        "colab": {
          "base_uri": "https://localhost:8080/"
        },
        "outputId": "a18cadcb-7fff-4d12-a01b-82bf0ca1dd61"
      },
      "source": [
        "# 1-6. food 데이터를 모두 지우고 출력하시오.\n",
        "food.clear()\n",
        "print('딕셔너리 삭제 :', food)"
      ],
      "execution_count": null,
      "outputs": [
        {
          "output_type": "stream",
          "text": [
            "딕셔너리 삭제 : {}\n"
          ],
          "name": "stdout"
        }
      ]
    },
    {
      "cell_type": "markdown",
      "metadata": {
        "id": "SneXlrbQc7ZZ"
      },
      "source": [
        "# STEP 7. 집합형 다루기\n",
        "\n",
        "집합 함수를 통해 집합을 실습해본다."
      ]
    },
    {
      "cell_type": "code",
      "metadata": {
        "id": "Zm-iPjKxyAbW",
        "colab": {
          "base_uri": "https://localhost:8080/"
        },
        "outputId": "e2ed870d-eb44-492d-9f32-bd9d6872bf50"
      },
      "source": [
        "week = ['월', '화', '수', '수', '해', '일']\n",
        "\n",
        "# 1. \"_____\"을 지우고 알맞은 코드를 작성하시오.\n",
        "\n",
        "# 1-1. week 리스트로 week_set 집합을 만들고 week_set을 출력하시오.\n",
        "week_set = set(week)\n",
        "print('집합 :', week_set)"
      ],
      "execution_count": null,
      "outputs": [
        {
          "output_type": "stream",
          "text": [
            "집합 : {'일', '수', '화', '해', '월'}\n"
          ],
          "name": "stdout"
        }
      ]
    },
    {
      "cell_type": "code",
      "metadata": {
        "id": "rVg1bwr_vRpr",
        "colab": {
          "base_uri": "https://localhost:8080/"
        },
        "outputId": "475bbcfe-aa01-4e6d-d311-1a6a46645ca6"
      },
      "source": [
        "# 1-2. week_set에 '목'을 넣고 출력하시오.\n",
        "week_set.add('목')\n",
        "print('집합 요소 추가:', week_set)"
      ],
      "execution_count": null,
      "outputs": [
        {
          "output_type": "stream",
          "text": [
            "집합 요소 추가: {'일', '목', '수', '화', '해', '월'}\n"
          ],
          "name": "stdout"
        }
      ]
    },
    {
      "cell_type": "code",
      "metadata": {
        "id": "D0JoKAyGvRac",
        "colab": {
          "base_uri": "https://localhost:8080/"
        },
        "outputId": "1609453c-75cb-46b9-d88b-2fb62e1e9574"
      },
      "source": [
        "# 1-3. week_set에 '금', '토'를 넣고 출력하시오.\n",
        "week_set.update('금', '토')\n",
        "print('집합 요소 여러 개 추가 :', week_set)"
      ],
      "execution_count": null,
      "outputs": [
        {
          "output_type": "stream",
          "text": [
            "집합 요소 여러 개 추가 : {'일', '금', '목', '토', '수', '화', '해', '월'}\n"
          ],
          "name": "stdout"
        }
      ]
    },
    {
      "cell_type": "code",
      "metadata": {
        "id": "JEVJcsP1vRIk",
        "colab": {
          "base_uri": "https://localhost:8080/"
        },
        "outputId": "97e9b795-5c96-4c00-c7bb-5901548a5594"
      },
      "source": [
        "# 1-4. week_set에서 '해'를 삭제하고 출력하시오.\n",
        "week_set.remove('해')\n",
        "print('집합 요소 삭제 :', week_set)"
      ],
      "execution_count": null,
      "outputs": [
        {
          "output_type": "stream",
          "text": [
            "집합 요소 삭제 : {'일', '금', '목', '토', '수', '화', '월'}\n"
          ],
          "name": "stdout"
        }
      ]
    },
    {
      "cell_type": "code",
      "metadata": {
        "id": "xQ78ZaUQyANY",
        "colab": {
          "base_uri": "https://localhost:8080/"
        },
        "outputId": "8c9c2a8c-9a8c-45df-ed53-f71660ceb01e"
      },
      "source": [
        "# 2. 집합의 연산\n",
        "# \"_____\"을 지우고 알맞은 코드를 작성하시오.\n",
        "\n",
        "ohaeng_set = set(['목', '화', '토', '금', '수'])\n",
        "\n",
        "# 2-1. week_set과 ohaeng_set의 교집합을 구하고 출력하시오.\n",
        "print('교집합 :', week_set & ohaeng_set)"
      ],
      "execution_count": null,
      "outputs": [
        {
          "output_type": "stream",
          "text": [
            "교집합 : {'금', '목', '토', '수', '화'}\n"
          ],
          "name": "stdout"
        }
      ]
    },
    {
      "cell_type": "code",
      "metadata": {
        "id": "5Cb7gRYCvZhc",
        "colab": {
          "base_uri": "https://localhost:8080/"
        },
        "outputId": "7400260f-0aeb-467f-bf07-a7948d4738a4"
      },
      "source": [
        "# 2-2. week_set과 ohaeng_set의 합집합을 구하고 출력하시오.\n",
        "print('합집합 :',week_set | ohaeng_set)"
      ],
      "execution_count": null,
      "outputs": [
        {
          "output_type": "stream",
          "text": [
            "합집합 : {'일', '금', '목', '토', '수', '화', '월'}\n"
          ],
          "name": "stdout"
        }
      ]
    },
    {
      "cell_type": "code",
      "metadata": {
        "id": "Gi0eir-jvclN",
        "colab": {
          "base_uri": "https://localhost:8080/"
        },
        "outputId": "6b8d6978-df18-416c-e350-d4042243e7ab"
      },
      "source": [
        "# 2-3. week_set과 ohaeng_set의 차집합을 구하고 출력하시오.\n",
        "print('차집합 :', week_set - ohaeng_set)"
      ],
      "execution_count": null,
      "outputs": [
        {
          "output_type": "stream",
          "text": [
            "차집합 : {'월', '일'}\n"
          ],
          "name": "stdout"
        }
      ]
    },
    {
      "cell_type": "markdown",
      "metadata": {
        "id": "vwTnKRY4ahtV"
      },
      "source": [
        "# STEP 8. 불형 다루기\n",
        "\n",
        "불형의 여러가지 형태를 실습해본다.\n"
      ]
    },
    {
      "cell_type": "code",
      "metadata": {
        "id": "8jHRQK7KyACs",
        "colab": {
          "base_uri": "https://localhost:8080/"
        },
        "outputId": "ff472bde-a760-43ea-beba-7e0e74b2767d"
      },
      "source": [
        "# 1. 참인 형태를 3가지 이상 만들어 True가 나오는지 출력하시오.\n",
        "print(20 == 20)\n",
        "print(10 != 20)\n",
        "print(10 <= 30)"
      ],
      "execution_count": null,
      "outputs": [
        {
          "output_type": "stream",
          "text": [
            "True\n",
            "True\n",
            "True\n"
          ],
          "name": "stdout"
        }
      ]
    },
    {
      "cell_type": "code",
      "metadata": {
        "id": "Dqsw-LtKx__4",
        "colab": {
          "base_uri": "https://localhost:8080/"
        },
        "outputId": "7e1eb6ad-1322-4c59-db37-e6be78b5527c"
      },
      "source": [
        "# 2. 거짓인 형태를 3가지 이상 만들어 False가 나오는지 출력하시오.\n",
        "print(153 == 1253)\n",
        "print(1001 != 1001)\n",
        "print(300 > 300000)"
      ],
      "execution_count": null,
      "outputs": [
        {
          "output_type": "stream",
          "text": [
            "False\n",
            "False\n",
            "False\n"
          ],
          "name": "stdout"
        }
      ]
    },
    {
      "cell_type": "code",
      "metadata": {
        "id": "RFJ54HnPF-Fw"
      },
      "source": [
        ""
      ],
      "execution_count": null,
      "outputs": []
    }
  ]
}