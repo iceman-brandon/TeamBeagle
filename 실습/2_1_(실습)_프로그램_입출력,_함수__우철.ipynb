{
  "nbformat": 4,
  "nbformat_minor": 0,
  "metadata": {
    "colab": {
      "name": "2-1. (실습) 프로그램 입출력, 함수._우철",
      "provenance": [],
      "collapsed_sections": []
    },
    "kernelspec": {
      "name": "python3",
      "display_name": "Python 3"
    }
  },
  "cells": [
    {
      "cell_type": "markdown",
      "metadata": {
        "id": "NZDHd-pSFLif"
      },
      "source": [
        "# STEP 1. 프로그램 입출력 다루기\n",
        "\n",
        "프로그램 입출력을 사용하는 방법을 이해하고 다뤄본다."
      ]
    },
    {
      "cell_type": "markdown",
      "metadata": {
        "id": "ERKNoTWdewGe"
      },
      "source": [
        "문제 1. 두 정수를 입력받아 곱하기 연산을 진행 후 아래 양식에 맞게 출력하시오.\n",
        "\n",
        "조건\n",
        "1.   입력 받는 두 정수는 각각 n과 m이라는 변수에 넣는다.\n",
        "2.   입력 받는 정수는 코드에 넣는 것이 아니라 실행 시 입력 받을 수 있도록 입력함수를 적용하여 받는다.\n",
        "3.   입력 받는 정수는 직접 결정한다.\n",
        "4.   출력결과는 한 줄로 나타낸다.\n",
        "\n",
        "출력형식\n",
        "*    n = 5, m = 3일 때,\n",
        "            \"5와 3의 곱은 15입니다.\"\n",
        "\n",
        "Hint\n",
        "*    입출력 함수, 문자열 포매팅"
      ]
    },
    {
      "cell_type": "code",
      "metadata": {
        "id": "ig2OOlQk9usH",
        "colab": {
          "base_uri": "https://localhost:8080/"
        },
        "outputId": "27ace640-7423-4b8d-f3b6-69190b013fba"
      },
      "source": [
        "# 문제 1\n",
        "##### 아래 주석을 지우고 알맞은 코드를 작성하시오. #####\n",
        "\n",
        "### <입력 부분> ###\n",
        "n = input(print('숫자를 입력해주세요: ', end = ' '))\n",
        "m = input(print('숫자를 입력해주세요: ', end = ' '))\n",
        "\n",
        "n = int(n)\n",
        "m = int(m)\n",
        "\n",
        "def mul(n, m):\n",
        "    result = print(f'{int(n)}와 {int(m)}의 곱은 {int(n) * int(m)}입니다.')\n",
        "    return result\n",
        "\n",
        "### <출력 부분> ###\n",
        "mul(n, m)"
      ],
      "execution_count": null,
      "outputs": [
        {
          "output_type": "stream",
          "text": [
            "숫자를 입력해주세요:  9\n",
            "숫자를 입력해주세요:  7\n",
            "9와 7의 곱은 63입니다.\n"
          ],
          "name": "stdout"
        }
      ]
    },
    {
      "cell_type": "markdown",
      "metadata": {
        "id": "UVsfzmFUh3bH"
      },
      "source": [
        "문제 2. 데이터를 입력받고 아래 양식에 맞게 출력하시오.\n",
        "\n",
        "조건\n",
        "1.   입력 받는 데이터는 각각 name, age, hobby라는 변수에 넣는다.\n",
        "2.   입력 받는 데이터는 코드에 넣는 것이 아니라 실행 시 입력 받을 수 있도록 입력함수를 적용하여 받는다.\n",
        "3.   입력 받는 데이터는 본인 기준으로 한다.\n",
        "4.   출력결과는 세 줄로 나타낸다.\n",
        "\n",
        "출력형식\n",
        "*    노래부르기 취미를 갖고 있는 29세 이지은의 경우,\n",
        "            이름 : 이지은\n",
        "            나이 : 29세\n",
        "            취미 : 노래부르기\n",
        "\n",
        "Hint\n",
        "*    입출력 함수, 문자열 포매팅\n",
        "*    print 함수는 자동 줄바꿈(엔터)기능이 기본적으로 있음"
      ]
    },
    {
      "cell_type": "code",
      "metadata": {
        "id": "P9L5N__dh0Fx",
        "colab": {
          "base_uri": "https://localhost:8080/"
        },
        "outputId": "32185d00-e89a-4da7-cc4a-ba6d3e5ddf28"
      },
      "source": [
        "# 문제 2\n",
        "##### 아래 주석을 지우고 알맞은 코드를 작성하시오. #####\n",
        "\n",
        "### <입력 부분> ###\n",
        "name = input('이름 : ')\n",
        "age = input('나이 : ' )\n",
        "hobby = input('취미 : ')\n",
        "\n",
        "def intro():\n",
        "    print(f'이름 : {name}')\n",
        "    print(f'나이 : {age}')\n",
        "    print(f'취미 : {hobby}')\n",
        "### <출력 부분> ###\n",
        "intro()"
      ],
      "execution_count": null,
      "outputs": [
        {
          "output_type": "stream",
          "text": [
            "이름 : 정우철\n",
            "나이 : 29세\n",
            "취미 : 수영\n",
            "이름 : 정우철\n",
            "나이 : 29세\n",
            "취미 : 수영\n"
          ],
          "name": "stdout"
        }
      ]
    },
    {
      "cell_type": "markdown",
      "metadata": {
        "id": "cusm1nj5lQmG"
      },
      "source": [
        "STEP 2. 함수 다루기\n",
        "\n",
        "함수를 작성하고, 사용하는 방법을 이해하고 다뤄본다."
      ]
    },
    {
      "cell_type": "markdown",
      "metadata": {
        "id": "gsleg_b3mtS1"
      },
      "source": [
        "문제 1. 사칙연산 함수를 만들어보자.\n",
        "\n",
        "조건\n",
        "1.   두 정수를 매개변수로 받아서 더하기, 빼기, 곱하기, 나누기 연산결과를 출력해준다.\n",
        "2.   두 정수는 입력함수를 통해서 입력받는다.\n",
        "\n",
        "출력형식\n",
        "*    매개변수로 7과 12를 받은 경우,\n",
        "            7과 12의 더하기 결과는 : 19 입니다.\n",
        "\n",
        "Hint\n",
        "*    입출력 함수, 문자열 포매팅, 연산자"
      ]
    },
    {
      "cell_type": "code",
      "metadata": {
        "id": "_HOqkX1tql7m"
      },
      "source": [
        "# 문제 1-1\n",
        "##### 아래 주석을 지우고 알맞은 코드를 작성하시오. #####\n",
        "\n",
        "### <함수 정의하기> ###\n",
        "# 더하기 함수\n",
        "def plus(a, b):\n",
        "    print(f'{a}과 {b}의 더하기 결과는 : {a + b} 입니다.')\n",
        "\n",
        "# 빼기 함수\n",
        "def minus(a, b):\n",
        "    print(f'{a}과 {b}의 빼기 결과는 : {a - b} 입니다.')\n",
        "\n",
        "# 곱하기 함수\n",
        "def multiply(a, b):\n",
        "    print(f'{a}과 {b}의 곱하기 결과는 : {a * b} 입니다.')\n",
        "\n",
        "def division(a, b):\n",
        "    print(f'{a}과 {b}의 나누기 결과는 : {a / b} 입니다.')"
      ],
      "execution_count": null,
      "outputs": []
    },
    {
      "cell_type": "code",
      "metadata": {
        "id": "cWPoVRZAsbZT",
        "colab": {
          "base_uri": "https://localhost:8080/"
        },
        "outputId": "ed0d9d65-bc14-4f74-d960-7fc4639592e7"
      },
      "source": [
        "### 실행하여 a, b값을 입력한다.\n",
        "### <매개변수 입력 받기> ###\n",
        "a = int(input('정수를 입력하시오 : '))\n",
        "b = int(input('정수를 입력하시오 : '))\n",
        "\n",
        "print(f'매개변수 a의 값은 : {a}')\n",
        "print(f'매개변수 b의 값은 : {b}')"
      ],
      "execution_count": null,
      "outputs": [
        {
          "output_type": "stream",
          "text": [
            "정수를 입력하시오 : 8\n",
            "정수를 입력하시오 : 7\n",
            "매개변수 a의 값은 : 8\n",
            "매개변수 b의 값은 : 7\n"
          ],
          "name": "stdout"
        }
      ]
    },
    {
      "cell_type": "code",
      "metadata": {
        "id": "p_izYJTgtqcB",
        "colab": {
          "base_uri": "https://localhost:8080/"
        },
        "outputId": "811ba52f-4917-43c6-c2c5-8fe8fa00aeda"
      },
      "source": [
        "# 문제 1-2\n",
        "##### 아래 주석을 지우고 알맞은 코드를 작성하시오. #####\n",
        "\n",
        "### <함수 사용하기> ###\n",
        "plus(a, b)\n",
        "minus(a, b)\n",
        "multiply(a, b)\n",
        "division(a, b)"
      ],
      "execution_count": null,
      "outputs": [
        {
          "output_type": "stream",
          "text": [
            "8과 7의 더하기 결과는 : 15 입니다.\n",
            "8과 7의 빼기 결과는 : 1 입니다.\n",
            "8과 7의 곱하기 결과는 : 56 입니다.\n",
            "8과 7의 나누기 결과는 : 1.1428571428571428 입니다.\n"
          ],
          "name": "stdout"
        }
      ]
    },
    {
      "cell_type": "markdown",
      "metadata": {
        "id": "uXqsoCudtI1h"
      },
      "source": [
        "# STEP 3. 함수 응용하기\n",
        "\n",
        "함수를 응용하여 간단한 프로그램을 만들어본다."
      ]
    },
    {
      "cell_type": "markdown",
      "metadata": {
        "id": "n6sNk1tltfXh"
      },
      "source": [
        "문제 1. 배수 검사 함수를 만들어보자.\n",
        "\n",
        "조건\n",
        "1.   정수 한 개를 매개변수로 받는다.\n",
        "2.   입력 받은 수가 기준 수의 배수인지를 확인하여 결과를 출력한다.\n",
        "\n",
        "출력형식\n",
        "*    2의 배수를 검사하는 함수를 만드는 경우,\n",
        "*    입력 받은 수가 7일 때, \n",
        "            7은 2의 배수가 아닙니다.\n",
        "\n",
        "Hint\n",
        "*    입출력 함수, 문자열 포매팅, 나머지 연산자, 조건문\n",
        "*    어떤 수가 기준 수의 배수인지 확인하는 방법은 기준 수로 어떤 수를 나눴을 때 나머지가 0이 나오면 된다.\n",
        "*    ex) 15는 5의 배수인가? -> 15를 5로 나누면 나머지가 0이 되므로 15는 5의 배수이다."
      ]
    },
    {
      "cell_type": "code",
      "metadata": {
        "id": "eMYIelGavjX1",
        "colab": {
          "base_uri": "https://localhost:8080/"
        },
        "outputId": "39ae86a9-644e-40ea-8ba7-01cddb999abd"
      },
      "source": [
        "# 문제 1\n",
        "##### 아래 주석을 지우고 알맞은 코드를 작성하시오. #####\n",
        "\n",
        "### <함수 정의하기> ###\n",
        "# 배수 검사 함수\n",
        "def is_multiple(n):\n",
        "    is_check = 7 # 어떤 수의 배수인지 확인하는 기준을 정의한다.(지금은 7의 배수)\n",
        "\n",
        "    if n % is_check == 0: # 조건 작성, ':' 빠뜨리지 않게 조심할것\n",
        "        print(f'{n}은 {is_check}의 배수 입니다.')\n",
        "    else:\n",
        "        print(f'{n}은 {is_check}의 배수가 아닙니다.')\n",
        "\n",
        "### <함수 사용하기> ###\n",
        "is_multiple(1234567) # 1234567은 7의 배수인가?\n",
        "is_multiple(56) # 함수 적용 코드 작성"
      ],
      "execution_count": null,
      "outputs": [
        {
          "output_type": "stream",
          "text": [
            "1234567은 7의 배수가 아닙니다.\n",
            "56은 7의 배수 입니다.\n"
          ],
          "name": "stdout"
        }
      ]
    },
    {
      "cell_type": "markdown",
      "metadata": {
        "id": "F_jQW6jc-zDn"
      },
      "source": [
        "문제 2. 플레이리스트 함수를 만들어보자.\n",
        "\n",
        "조건\n",
        "1.   플레이리스트를 선언한다.\n",
        "    - 자료형 : 리스트\n",
        "    - 변수명 : playlist\n",
        "2.   list_add 함수는 노래제목을 플레이리스트에 넣는 함수\n",
        "    - 매개변수 : 노래제목\n",
        "    - 출력은 하지 않는다.\n",
        "3.   list_remove 함수는 노래제목을 플레이리스트에 있는 노래를 삭제\n",
        "    - 매개변수 : 노래제목\n",
        "    - 삭제가 되었다면 \"{노래제목} 삭제완료\"라고 출력\n",
        "    - 해당 노래가 없다면 \"{노래제목}은 플레이리스트에 없습니다.\" 출력\n",
        "4.   list_clear 함수는 플레이리스트에 있는 모든 노래를 삭제하는 함수\n",
        "    - 매개변수 없음\n",
        "    - \"플레이리스트 삭제 완료\"라고 출력\n",
        "5.   list_now 함수는 현재 플레이리스트를 출력하는 함수\n",
        "    - 매개변수 없음\n",
        "    - 현재 플레이리스트 목록 출력\n",
        "6.   list_count 함수는 현재 플레이리스트에 있는 노래 수를 출력\n",
        "    - 매개변수 없음\n",
        "    - 플레이리스트 노래 수 출력\n",
        "7.   list_find 함수는 플레이리스트에 해당 노래가 있는지 출력하는 함수\n",
        "    - 매개변수 : 노래제목\n",
        "    - 노래가 있는 경우 : \"{노래제목}은 플레이리스트에 있습니다.\"\n",
        "    - 노래가 없는 경우 : \"{노래제목}은 플레이리스트에 없습니다.\"\n",
        "\n",
        "Hint\n",
        "*    입출력 함수, 문자열 포매팅, in연산, 조건문, 리스트 내장함수"
      ]
    },
    {
      "cell_type": "code",
      "metadata": {
        "id": "iEHQjWMmFYyc"
      },
      "source": [
        "# 문제 1\n",
        "##### 아래 주석을 지우고 알맞은 코드를 작성하시오. #####\n",
        "\n",
        "### <플레이리스트 정의하기> ###\n",
        "playlist = []\n",
        "\n",
        "### <함수 정의하기> ###\n",
        "def list_add():\n",
        "    playlist.append(input(print('노래제목 : ', end = '')))\n",
        "\n",
        "def list_remove():\n",
        "    title = input(print('노래제목 : ', end = ''))\n",
        "    if title in playlist:    \n",
        "        playlist.remove(title)\n",
        "        print(f'{title} 삭제 완료')\n",
        "    else:\n",
        "        print(f'{title}은 플레이리스트에 없습니다')\n",
        "    return\n",
        "\n",
        "def list_clear():\n",
        "    playlist.clear()\n",
        "    print(f'플레이리스트 삭제 완료')\n",
        "\n",
        "def list_now():\n",
        "    print(playlist)\n",
        "\n",
        "def list_count():\n",
        "    result = len(playlist)\n",
        "    print(f'플레이리스트 노래 수 : {result}곡')\n",
        "    return\n",
        "\n",
        "def list_find():\n",
        "    title2 = input(print('찾을 노래제목 : ', end = ''))\n",
        "    if title2 in playlist:\n",
        "        print(f'{title2}은 플레이리스트에 있습니다.')\n",
        "    else:\n",
        "        print(f'{title2}은 플레이리스트에 없습니다.')\n",
        "    return"
      ],
      "execution_count": null,
      "outputs": []
    },
    {
      "cell_type": "code",
      "metadata": {
        "id": "FBuVp41PFr7G",
        "colab": {
          "base_uri": "https://localhost:8080/"
        },
        "outputId": "4da828be-9fac-4652-b603-0d36eb53808c"
      },
      "source": [
        "### <함수 사용하기> ###\n",
        "list_add()# 함수 적용 코드 작성"
      ],
      "execution_count": null,
      "outputs": [
        {
          "output_type": "stream",
          "text": [
            "노래제목 : 독종\n"
          ],
          "name": "stdout"
        }
      ]
    },
    {
      "cell_type": "code",
      "metadata": {
        "colab": {
          "base_uri": "https://localhost:8080/"
        },
        "id": "KrJNuYTVMC0o",
        "outputId": "32b88d28-9ddf-4192-f1f2-f066aca3232f"
      },
      "source": [
        "list_remove()"
      ],
      "execution_count": null,
      "outputs": [
        {
          "output_type": "stream",
          "text": [
            "노래제목 : 독종\n",
            "독종 삭제 완료\n"
          ],
          "name": "stdout"
        }
      ]
    },
    {
      "cell_type": "code",
      "metadata": {
        "colab": {
          "base_uri": "https://localhost:8080/"
        },
        "id": "qYwioWKKMHYt",
        "outputId": "96f27e63-ab3e-4011-b0a3-74869a20e06a"
      },
      "source": [
        "list_clear()"
      ],
      "execution_count": null,
      "outputs": [
        {
          "output_type": "stream",
          "text": [
            "플레이리스트 삭제 완료\n"
          ],
          "name": "stdout"
        }
      ]
    },
    {
      "cell_type": "code",
      "metadata": {
        "colab": {
          "base_uri": "https://localhost:8080/"
        },
        "id": "bSgfvWJj_dkR",
        "outputId": "ab0df756-157a-4a9c-d274-9f1591023343"
      },
      "source": [
        "list_now()"
      ],
      "execution_count": null,
      "outputs": [
        {
          "output_type": "stream",
          "text": [
            "['If you', '가을아침', 'VVS', 'Good day']\n"
          ],
          "name": "stdout"
        }
      ]
    },
    {
      "cell_type": "code",
      "metadata": {
        "colab": {
          "base_uri": "https://localhost:8080/"
        },
        "id": "o6O2VxIQCeL7",
        "outputId": "ef725077-22b0-42e6-a384-268cb1a75c1d"
      },
      "source": [
        "list_count()"
      ],
      "execution_count": null,
      "outputs": [
        {
          "output_type": "stream",
          "text": [
            "플레이리스트 노래 수 : 4곡\n"
          ],
          "name": "stdout"
        }
      ]
    },
    {
      "cell_type": "code",
      "metadata": {
        "colab": {
          "base_uri": "https://localhost:8080/"
        },
        "id": "tnSXgt1XCgaH",
        "outputId": "e5cf3036-8ffe-43dc-d03e-9546036a374b"
      },
      "source": [
        "list_find()"
      ],
      "execution_count": null,
      "outputs": [
        {
          "output_type": "stream",
          "text": [
            "찾을 노래제목 : 가을\n",
            "가을은 플레이리스트에 없습니다.\n"
          ],
          "name": "stdout"
        }
      ]
    },
    {
      "cell_type": "code",
      "metadata": {
        "id": "pYsYcFRNDQ76"
      },
      "source": [
        ""
      ],
      "execution_count": null,
      "outputs": []
    }
  ]
}
