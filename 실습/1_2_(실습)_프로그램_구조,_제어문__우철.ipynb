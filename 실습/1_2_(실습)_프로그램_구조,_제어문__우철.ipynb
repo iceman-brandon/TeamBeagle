{
  "nbformat": 4,
  "nbformat_minor": 0,
  "metadata": {
    "colab": {
      "name": "1-2. (실습) 프로그램 구조, 제어문._우철",
      "provenance": [],
      "collapsed_sections": []
    },
    "kernelspec": {
      "name": "python3",
      "display_name": "Python 3"
    }
  },
  "cells": [
    {
      "cell_type": "markdown",
      "metadata": {
        "id": "48Ylxm8ickpD"
      },
      "source": [
        "# STEP 1. 조건문 다루기\n",
        "\n",
        "조건문을 사용하는 방법을 이해하고 다뤄본다."
      ]
    },
    {
      "cell_type": "markdown",
      "metadata": {
        "id": "yqYWVNM1cyiM"
      },
      "source": [
        "문제 1. 두 정수 A와 B가 주어졌을 때, A와 B를 비교하는 프로그램을 작성하시오.\n",
        "\n",
        "조건\n",
        "1.   A와 B는 직접 정한다.\n",
        "2.   A가 B보다 큰 경우에는 '>'를 출력한다.\n",
        "3.   A가 B보다 작은 경우에는 '<'를 출력한다.\n",
        "4.   A와 B가 같은 경우에는 '=='를 출력한다.\n",
        "\n",
        "예시\n",
        "*   A = 5, B = 3일 때, 출력결과는 5 > 3"
      ]
    },
    {
      "cell_type": "code",
      "metadata": {
        "id": "SDgqsr5ucyB9",
        "colab": {
          "base_uri": "https://localhost:8080/"
        },
        "outputId": "9ca09de2-acb3-45f6-8be8-5d4e613e3ce7"
      },
      "source": [
        "# 문제 1 코드는 이곳에 작성\n",
        "a = int(input('a: '))\n",
        "b = int(input('b: '))\n",
        "\n",
        "if a > b:\n",
        "    print(f'{a} > {b}') \n",
        "\n",
        "elif a == b:\n",
        "   print(f'{a} == {b}')\n",
        "    \n",
        "else:\n",
        "    print(f'{a} < {b}')"
      ],
      "execution_count": null,
      "outputs": [
        {
          "output_type": "stream",
          "text": [
            "a: 100\n",
            "b: 100\n",
            "100 == 100\n"
          ],
          "name": "stdout"
        }
      ]
    },
    {
      "cell_type": "code",
      "metadata": {
        "colab": {
          "base_uri": "https://localhost:8080/"
        },
        "id": "eq99hrywGtVT",
        "outputId": "753c9973-cb44-4c17-f948-09c9b7a1f38f"
      },
      "source": [
        "# 문제 1 답안\n",
        "a = 5\n",
        "b = 3\n",
        "\n",
        "if a > b:\n",
        "    print('>')\n",
        "elif a < b:\n",
        "    print('<')\n",
        "else:\n",
        "    print('==')"
      ],
      "execution_count": null,
      "outputs": [
        {
          "output_type": "stream",
          "text": [
            ">\n"
          ],
          "name": "stdout"
        }
      ]
    },
    {
      "cell_type": "markdown",
      "metadata": {
        "id": "FGg9tCzodOUL"
      },
      "source": [
        "문제 2. 시험 점수를 입력받아 등급을 출력하는 프로그램을 작성하시오.\n",
        "\n",
        "조건\n",
        "1.  90 ~ 100점은 A등급\n",
        "2.  80 ~ 89점은 B등급\n",
        "3.  70 ~ 79점은 C등급\n",
        "4.  60 ~ 69점은 D등급\n",
        "5.  나머지 점수는 F등급\n",
        "\n",
        "예시\n",
        "*   점수가 87점 일 때, 출력결과 B등급"
      ]
    },
    {
      "cell_type": "code",
      "metadata": {
        "id": "EIDxvak8ORDb"
      },
      "source": [
        "score = int(input('점수를 입력하세요: '))\n",
        "print(score)\n",
        "\n",
        "# 문제 2 코드는 이곳에 작성\n",
        "if 100 >= score >= 90:\n",
        "    print('A등급')\n",
        "elif 89 >= score >= 80:\n",
        "    print('B등급')\n",
        "elif 79 >= score >= 70:\n",
        "    print('C등급')\n",
        "elif 69 >= score >= 60:\n",
        "    print('D등급')\n",
        "elif 59 >= score >= 0:\n",
        "    print('F등급')\n",
        "else:\n",
        "    print('Error⚠ 입력오류')"
      ],
      "execution_count": null,
      "outputs": []
    },
    {
      "cell_type": "markdown",
      "metadata": {
        "id": "NXaFc9Jjd-em"
      },
      "source": [
        "# STEP 2. 반복문 다루기\n",
        "\n",
        "반복문을 사용하는 방법을 이해하고 다뤄본다."
      ]
    },
    {
      "cell_type": "markdown",
      "metadata": {
        "id": "phW1UGHPeeQP"
      },
      "source": [
        "문제 1. 첫째 줄에는 별 1개, 둘째 줄에는 별 2개, N번째 줄에는 별 N개를 찍는 문제\n",
        "\n",
        "조건\n",
        "*   5번째 줄까지만 만드시오. \n",
        "\n",
        "출력형식\n",
        "\n",
        "\\*<br>\n",
        "\\*\\*<br>\n",
        "\\*\\*\\*<br>\n",
        "\\*\\*\\*\\*<br>\n",
        "\\*\\*\\*\\*\\*<br>\n",
        "\n",
        "\n",
        "\n"
      ]
    },
    {
      "cell_type": "code",
      "metadata": {
        "id": "eKhnI6CeeIg0",
        "colab": {
          "base_uri": "https://localhost:8080/"
        },
        "outputId": "4ca3b713-fc3d-4411-fd86-6bcc6324454b"
      },
      "source": [
        "n = 5\n",
        "# 문제 1 코드는 이곳에 작성\n",
        "for i in range(n):\n",
        "    print('*'* (i + 1))"
      ],
      "execution_count": null,
      "outputs": [
        {
          "output_type": "stream",
          "text": [
            "*\n",
            "**\n",
            "***\n",
            "****\n",
            "*****\n"
          ],
          "name": "stdout"
        }
      ]
    },
    {
      "cell_type": "markdown",
      "metadata": {
        "id": "lElJY-upeNdz"
      },
      "source": [
        "문제 2. N을 입력받은 뒤, 구구단 N단을 출력하는 프로그램을 작성하시오. 출력 형식에 맞춰서 출력하면 된다.\n",
        "\n",
        "출력형식 \n",
        "*   N X A = NA\n",
        "*   A의 범위 : 1 ≤ A ≤ 9\n",
        "\n",
        "예시 \n",
        "*   N이 2일 때,\n",
        "*   2 X 1 = 2\n",
        "*   2 X 2 = 4\n",
        "*   2 X 3 = 6\n",
        "*   2 X 4 = 8\n",
        "*   2 X 5 = 10\n",
        "*   2 X 6 = 12\n",
        "*   2 X 7 = 14\n",
        "*   2 X 8 = 16\n",
        "*   2 X 9 = 18"
      ]
    },
    {
      "cell_type": "code",
      "metadata": {
        "id": "gqfUM2_WeIdi",
        "colab": {
          "base_uri": "https://localhost:8080/"
        },
        "outputId": "28a92c9e-42ed-4805-f32f-2a897ed57c3f"
      },
      "source": [
        "n = int(input('N을 입력'))\n",
        "print(n)\n",
        "\n",
        "# 문제 2 코드는 이곳에 작성\n",
        "for i in range (1, 10):\n",
        "    print(n, 'X', i, '=', n*i)"
      ],
      "execution_count": null,
      "outputs": [
        {
          "output_type": "stream",
          "text": [
            "N을 입력9\n",
            "9\n",
            "9 X 1 = 9\n",
            "9 X 2 = 18\n",
            "9 X 3 = 27\n",
            "9 X 4 = 36\n",
            "9 X 5 = 45\n",
            "9 X 6 = 54\n",
            "9 X 7 = 63\n",
            "9 X 8 = 72\n",
            "9 X 9 = 81\n"
          ],
          "name": "stdout"
        }
      ]
    },
    {
      "cell_type": "markdown",
      "metadata": {
        "id": "wl80-rB1eT6f"
      },
      "source": [
        "문제 3. n이 주어졌을 때, 1부터 n까지 합을 구하는 프로그램을 작성하시오.\n",
        "\n",
        "조건\n",
        "*   n의 범위 : n ≥ 2\n",
        "\n"
      ]
    },
    {
      "cell_type": "code",
      "metadata": {
        "id": "3RCGtZbUeIa9",
        "colab": {
          "base_uri": "https://localhost:8080/"
        },
        "outputId": "b688a0a0-e8fb-4a94-cf31-53d6c5d8c5cc"
      },
      "source": [
        "n = 100\n",
        "sum_number = 0\n",
        "\n",
        "# 문제 3 코드는 이곳에 작성\n",
        "for i in range(n):\n",
        "    sum_number = sum_number + (i + 1)\n",
        "print(sum_number)"
      ],
      "execution_count": null,
      "outputs": [
        {
          "output_type": "stream",
          "text": [
            "5050\n"
          ],
          "name": "stdout"
        }
      ]
    },
    {
      "cell_type": "code",
      "metadata": {
        "colab": {
          "base_uri": "https://localhost:8080/"
        },
        "id": "gxJ_S1tEI0kh",
        "outputId": "4e3e5243-73d1-467e-fdbf-da0f30ca367f"
      },
      "source": [
        "n = 100\n",
        "# 답안\n",
        "\n",
        "result = 0\n",
        "for i in range(n):\n",
        "    result += (i+1)\n",
        "\n",
        "print(result)"
      ],
      "execution_count": null,
      "outputs": [
        {
          "output_type": "stream",
          "text": [
            "5050\n"
          ],
          "name": "stdout"
        }
      ]
    },
    {
      "cell_type": "markdown",
      "metadata": {
        "id": "vZpneExFe37Y"
      },
      "source": [
        "# STEP 3. 조건과 반복 다루기\n",
        "\n",
        "조건문과 반복문을 합쳐 더욱 다양한 문제를 풀어본다."
      ]
    },
    {
      "cell_type": "markdown",
      "metadata": {
        "id": "t1x2EQN-fGV6"
      },
      "source": [
        "문제 1. 짝수 추출하기\n",
        "주어진 리스트에서 짝수만 출력하기"
      ]
    },
    {
      "cell_type": "code",
      "metadata": {
        "id": "AyEj4fLDeIUB",
        "colab": {
          "base_uri": "https://localhost:8080/"
        },
        "outputId": "6dbc8df6-b937-43cf-c184-1894e3673c2c"
      },
      "source": [
        "numbers = list(range(1, 51)) # 1~50까지 정수가 들어있는 리스트\n",
        "\n",
        "# 문제 1 코드는 이곳에 작성\n",
        "for i in numbers:\n",
        "    if i % 2 == 0:\n",
        "        print(i, end = ' ')"
      ],
      "execution_count": null,
      "outputs": [
        {
          "output_type": "stream",
          "text": [
            "2 4 6 8 10 12 14 16 18 20 22 24 26 28 30 32 34 36 38 40 42 44 46 48 50 "
          ],
          "name": "stdout"
        }
      ]
    },
    {
      "cell_type": "code",
      "metadata": {
        "colab": {
          "base_uri": "https://localhost:8080/"
        },
        "id": "xgnqX5eUJI4Z",
        "outputId": "8d53eda9-7334-44ca-b708-664d3f6a0f2e"
      },
      "source": [
        "numbers = list(range(1, 51))\n",
        "\n",
        "# 답안\n",
        "for number in numbers:\n",
        "    if number % 2 == 0:\n",
        "        print(number)"
      ],
      "execution_count": null,
      "outputs": [
        {
          "output_type": "stream",
          "text": [
            "2\n",
            "4\n",
            "6\n",
            "8\n",
            "10\n",
            "12\n",
            "14\n",
            "16\n",
            "18\n",
            "20\n",
            "22\n",
            "24\n",
            "26\n",
            "28\n",
            "30\n",
            "32\n",
            "34\n",
            "36\n",
            "38\n",
            "40\n",
            "42\n",
            "44\n",
            "46\n",
            "48\n",
            "50\n"
          ],
          "name": "stdout"
        }
      ]
    },
    {
      "cell_type": "markdown",
      "metadata": {
        "id": "Sy8wE1dQfT6i"
      },
      "source": [
        "문제 2. 10보다 작은 자연수 중에서 3 또는 5의 배수는 3, 5, 6, 9 이고, 이것을 모두 더하면 23입니다.\n",
        "\n",
        "그러면 1 ~ 1000사이의 자연수 중에서 2 또는 7의 배수를 모두 더하면 얼마일까요?"
      ]
    },
    {
      "cell_type": "code",
      "metadata": {
        "id": "Xw8WMdPLeH-f"
      },
      "source": [
        "# 문제 2 코드는 이곳에 작성\n"
      ],
      "execution_count": null,
      "outputs": []
    },
    {
      "cell_type": "markdown",
      "metadata": {
        "id": "JcF_pmEQg1cD"
      },
      "source": [
        "문제 3. (369게임) 1에서 20까지 숫자를 출력하는데 3,6,9의 배수에서는 '박수 짝!'을 출력하시오 "
      ]
    },
    {
      "cell_type": "code",
      "metadata": {
        "id": "zfLW1l_fhFGd",
        "colab": {
          "base_uri": "https://localhost:8080/"
        },
        "outputId": "a262426a-2f4f-46e4-8730-4c1fe2e8964a"
      },
      "source": [
        "# 문제 3 코드는 이곳에 작성\n",
        "for i in range(1, 21):\n",
        "    if ('3' in str(i)) or ('6' in str(i)) or ('9' in str(i)):\n",
        "        print('박수 짝!', end = ' ')\n",
        "    else: \n",
        "        print(str(i), end = ' ')"
      ],
      "execution_count": null,
      "outputs": [
        {
          "output_type": "stream",
          "text": [
            "1 2 박수 짝! 4 5 박수 짝! 7 8 박수 짝! 10 11 12 박수 짝! 14 15 박수 짝! 17 18 박수 짝! 20 "
          ],
          "name": "stdout"
        }
      ]
    },
    {
      "cell_type": "code",
      "metadata": {
        "colab": {
          "base_uri": "https://localhost:8080/"
        },
        "id": "LzH9HXvZJq7E",
        "outputId": "a7f2b8b3-336b-4f39-ffaa-8038a708585e"
      },
      "source": [
        "# 답안\n",
        "\n",
        "for number in range(1, 21):\n",
        "    if '3' in str(number):\n",
        "        print('박수 짝!')\n",
        "    elif '6' in str(number):\n",
        "        print('박수 짝!')\n",
        "    elif '9' in str(number):\n",
        "        print('박수 짝!')\n",
        "    else:\n",
        "        print(number)"
      ],
      "execution_count": null,
      "outputs": [
        {
          "output_type": "stream",
          "text": [
            "1\n",
            "2\n",
            "박수 짝!\n",
            "4\n",
            "5\n",
            "박수 짝!\n",
            "7\n",
            "8\n",
            "박수 짝!\n",
            "10\n",
            "11\n",
            "12\n",
            "박수 짝!\n",
            "14\n",
            "15\n",
            "박수 짝!\n",
            "17\n",
            "18\n",
            "박수 짝!\n",
            "20\n"
          ],
          "name": "stdout"
        }
      ]
    },
    {
      "cell_type": "markdown",
      "metadata": {
        "id": "h_7CYb0Fi-Gt"
      },
      "source": [
        "*** 이중 for문 이해... 예시"
      ]
    },
    {
      "cell_type": "code",
      "metadata": {
        "id": "SH59OZcavTf_",
        "colab": {
          "base_uri": "https://localhost:8080/"
        },
        "outputId": "3cf484a1-0e72-4c0f-fec2-8659d846c9ec"
      },
      "source": [
        "for a in ['apple', 'banana', 'cream']:\n",
        "    for b in [1111,2222,3333]:\n",
        "        print('첫번째:', a, '두번째:', b )"
      ],
      "execution_count": null,
      "outputs": [
        {
          "output_type": "stream",
          "text": [
            "첫번째: apple 두번째: 1111\n",
            "첫번째: apple 두번째: 2222\n",
            "첫번째: apple 두번째: 3333\n",
            "첫번째: banana 두번째: 1111\n",
            "첫번째: banana 두번째: 2222\n",
            "첫번째: banana 두번째: 3333\n",
            "첫번째: cream 두번째: 1111\n",
            "첫번째: cream 두번째: 2222\n",
            "첫번째: cream 두번째: 3333\n"
          ],
          "name": "stdout"
        }
      ]
    },
    {
      "cell_type": "code",
      "metadata": {
        "id": "lkeGlRroiu8W"
      },
    }
  ]
}
