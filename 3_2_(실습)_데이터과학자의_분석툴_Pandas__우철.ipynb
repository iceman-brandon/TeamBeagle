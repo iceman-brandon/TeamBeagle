{
  "nbformat": 4,
  "nbformat_minor": 0,
  "metadata": {
    "colab": {
      "name": "3-2.(실습) 데이터과학자의 분석툴 Pandas._우철",
      "provenance": [],
      "collapsed_sections": [],
      "toc_visible": true
    },
    "kernelspec": {
      "name": "python3",
      "display_name": "Python 3"
    }
  },
  "cells": [
    {
      "cell_type": "markdown",
      "metadata": {
        "id": "lcTFEX3zhIJR"
      },
      "source": [
        "# STEP 0. Pandas 라이브러리 불러오기\n",
        "\n",
        "* Pandas 라이브러리를 설치한다.(파이썬 기본(내장)모듈이 아니라 개발자들이 만든 외부모듈이기에 설치를 해야 사용 가능.)\n",
        "        pip install pandas\n",
        "* Pandas 라이브러리를 불러오고, 별칭을 pd로 정한다.\n",
        "* 별칭은 사용자 마음대로 정할 수 있으나 일반적으로는 해당 모듈명의 축약형을 사용한다. (P)an(d)as -> pd\n",
        "        import pandas as pd\n",
        "* 별칭 작성 문법은 아래와 같다.\n",
        "        1. import (모듈명) as (별칭)\n",
        "        2. from (패키지명) import (모듈명) as (별칭)"
      ]
    },
    {
      "cell_type": "code",
      "metadata": {
        "id": "PrQxtEeNhX3r"
      },
      "source": [
        "# Google Colab의 경우 Pandas가 기본으로 설치되어있어 설치 없이 불러오기만 한다.\n",
        "import pandas as pd"
      ],
      "execution_count": null,
      "outputs": []
    },
    {
      "cell_type": "markdown",
      "metadata": {
        "id": "_XnLaygWR7e6"
      },
      "source": [
        "# STEP 1. Pandas의 자료구조 Series\n",
        "\n",
        "* Pandas의 자료구조 중 하나인 Series를 다뤄본다.\n",
        "* ※ Series는 행렬(2차원 구조)로 출력이 되지만 인덱스와 값으로 이루어져 있는 1행 구조임을 기억해야 한다."
      ]
    },
    {
      "cell_type": "markdown",
      "metadata": {
        "id": "_laXnTCSgRIS"
      },
      "source": [
        "## 1-1. Series 다루기 예제"
      ]
    },
    {
      "cell_type": "markdown",
      "metadata": {
        "id": "emuaRtixTAP0"
      },
      "source": [
        "< 예시 자료 >    \n",
        "*    편의점별 바나나우유 가격정보를 통해 시리즈 데이터를 만들어보자.\n",
        "    *    ※ 해당 가격은 임의로 정한 내용으로 실제와 다를 수 있습니다.\n",
        "*    편의점 내역 : DU, GS27, 세분일레븐, 아이마트24, 빅스톱\n",
        "*    편의점별 바나나우유 가격 정보\n",
        "    *    DU         : 1,200원\n",
        "    *    GS27       : 1,400원\n",
        "    *    세분일레븐 : 1,100원\n",
        "    *    아이마트24 : 1,300원\n",
        "    *    빅스톱     : 1,000원"
      ]
    },
    {
      "cell_type": "code",
      "metadata": {
        "id": "qOFK4fbG95kg",
        "colab": {
          "base_uri": "https://localhost:8080/"
        },
        "outputId": "269cdaf4-badc-4ad5-898a-edfb2229f370"
      },
      "source": [
        "### < Dictionary로 Pandas Series 만들기 > ###\n",
        "# 바나나우유 정보 Dictionary\n",
        "bmilk_dict = {'DU':1200, 'GS27':1400, '세분일레븐':1100, '아이마트24':1300, '빅스톱':1000}\n",
        "\n",
        "# 바나나우유 Series 만들기\n",
        "bmilk_data1 = pd.Series(bmilk_dict)\n",
        "print('bmilk_data1 Type :', type(bmilk_data1))\n",
        "bmilk_data1"
      ],
      "execution_count": null,
      "outputs": [
        {
          "output_type": "stream",
          "text": [
            "bmilk_data1 Type : <class 'pandas.core.series.Series'>\n"
          ],
          "name": "stdout"
        },
        {
          "output_type": "execute_result",
          "data": {
            "text/plain": [
              "DU        1200\n",
              "GS27      1400\n",
              "세분일레븐     1100\n",
              "아이마트24    1300\n",
              "빅스톱       1000\n",
              "dtype: int64"
            ]
          },
          "metadata": {
            "tags": []
          },
          "execution_count": 2
        }
      ]
    },
    {
      "cell_type": "code",
      "metadata": {
        "colab": {
          "base_uri": "https://localhost:8080/"
        },
        "id": "Lo4rJ8OU_XPw",
        "outputId": "f1e5fa7f-626b-4116-8a4b-341571bb6c5c"
      },
      "source": [
        "# bmilk_data1 Index\n",
        "bmilk1_idx = bmilk_data1.index\n",
        "bmilk1_idx"
      ],
      "execution_count": null,
      "outputs": [
        {
          "output_type": "execute_result",
          "data": {
            "text/plain": [
              "Index(['DU', 'GS27', '세분일레븐', '아이마트24', '빅스톱'], dtype='object')"
            ]
          },
          "metadata": {
            "tags": []
          },
          "execution_count": 77
        }
      ]
    },
    {
      "cell_type": "code",
      "metadata": {
        "colab": {
          "base_uri": "https://localhost:8080/"
        },
        "id": "MLfENSyW_YzA",
        "outputId": "77b92dfa-9cf3-4b8d-b311-bb4e290b0275"
      },
      "source": [
        "# bmilk_data1 Value\n",
        "bmilk1_val = bmilk_data1.values\n",
        "bmilk1_val"
      ],
      "execution_count": null,
      "outputs": [
        {
          "output_type": "execute_result",
          "data": {
            "text/plain": [
              "array([1200, 1400, 1100, 1300, 1000])"
            ]
          },
          "metadata": {
            "tags": []
          },
          "execution_count": 4
        }
      ]
    },
    {
      "cell_type": "code",
      "metadata": {
        "colab": {
          "base_uri": "https://localhost:8080/"
        },
        "id": "2mu5PuuI_Z5c",
        "outputId": "881867de-2f0f-49eb-96a9-75393b76fc26"
      },
      "source": [
        "## < Series에서 요소 선택하기> ##\n",
        "# Series에서 0번 인덱스 값 선택\n",
        "bmilk_data1[0]"
      ],
      "execution_count": null,
      "outputs": [
        {
          "output_type": "execute_result",
          "data": {
            "text/plain": [
              "1200"
            ]
          },
          "metadata": {
            "tags": []
          },
          "execution_count": 5
        }
      ]
    },
    {
      "cell_type": "code",
      "metadata": {
        "colab": {
          "base_uri": "https://localhost:8080/"
        },
        "id": "74tWyHYQ_bqE",
        "outputId": "8533abe1-d831-4df8-bfae-ca1dfeb64500"
      },
      "source": [
        "# Series에서 1번 인덱스에서 3번 인덱스 앞(2번 인덱스)까지 슬라이싱\n",
        "bmilk_data1[1:3]"
      ],
      "execution_count": null,
      "outputs": [
        {
          "output_type": "execute_result",
          "data": {
            "text/plain": [
              "GS27     1400\n",
              "세분일레븐    1100\n",
              "dtype: int64"
            ]
          },
          "metadata": {
            "tags": []
          },
          "execution_count": 6
        }
      ]
    },
    {
      "cell_type": "code",
      "metadata": {
        "colab": {
          "base_uri": "https://localhost:8080/"
        },
        "id": "0DLIr0HU_dA7",
        "outputId": "64fd86b5-a1cc-4408-c380-1775d6722040"
      },
      "source": [
        "# Series에서 인덱스명이 '빅스톱'인 값 선택\n",
        "bmilk_data1['빅스톱']"
      ],
      "execution_count": null,
      "outputs": [
        {
          "output_type": "execute_result",
          "data": {
            "text/plain": [
              "1000"
            ]
          },
          "metadata": {
            "tags": []
          },
          "execution_count": 7
        }
      ]
    },
    {
      "cell_type": "code",
      "metadata": {
        "colab": {
          "base_uri": "https://localhost:8080/"
        },
        "id": "ayjGgWDO_eMx",
        "outputId": "615108a9-406f-457f-affb-e4be5262255f"
      },
      "source": [
        "# Series에서 인덱스명이 'DU', '세분일레븐'인 값을 새로운 Series로 반환\n",
        "bmilk_data1[['DU', '세분일레븐']]"
      ],
      "execution_count": null,
      "outputs": [
        {
          "output_type": "execute_result",
          "data": {
            "text/plain": [
              "DU       1200\n",
              "세분일레븐    1100\n",
              "dtype: int64"
            ]
          },
          "metadata": {
            "tags": []
          },
          "execution_count": 82
        }
      ]
    },
    {
      "cell_type": "code",
      "metadata": {
        "colab": {
          "base_uri": "https://localhost:8080/"
        },
        "id": "dZDDVPLD_gfx",
        "outputId": "57688573-e492-4ae1-d1a6-3fdf9ee19e14"
      },
      "source": [
        "### < List로 Pandas Series 만들기 > ###\n",
        "# 바나나우유 가격정보 List\n",
        "bmilk_list = [1200, 1400, 1100, 1300, 1000]\n",
        "\n",
        "# 바나나우유 Series 만들기(index에 각 가격에 맞는 편의점명을 넣는다.)\n",
        "bmilk_data2 = pd.Series(bmilk_list, index=['DU', 'GS27', '세분일레븐', '아이마트24', '빅스톱'])\n",
        "print('bmilk_data2 Type :', type(bmilk_data2))\n",
        "bmilk_data2"
      ],
      "execution_count": null,
      "outputs": [
        {
          "output_type": "stream",
          "text": [
            "bmilk_data2 Type : <class 'pandas.core.series.Series'>\n"
          ],
          "name": "stdout"
        },
        {
          "output_type": "execute_result",
          "data": {
            "text/plain": [
              "DU        1200\n",
              "GS27      1400\n",
              "세분일레븐     1100\n",
              "아이마트24    1300\n",
              "빅스톱       1000\n",
              "dtype: int64"
            ]
          },
          "metadata": {
            "tags": []
          },
          "execution_count": 8
        }
      ]
    },
    {
      "cell_type": "code",
      "metadata": {
        "colab": {
          "base_uri": "https://localhost:8080/"
        },
        "id": "J6vAKpHw_m5P",
        "outputId": "478b5933-04fa-4cd9-c942-5cab120a954c"
      },
      "source": [
        "# bmilk_data2 Index\n",
        "bmilk2_idx = bmilk_data2.index\n",
        "bmilk2_idx"
      ],
      "execution_count": null,
      "outputs": [
        {
          "output_type": "execute_result",
          "data": {
            "text/plain": [
              "Index(['DU', 'GS27', '세분일레븐', '아이마트24', '빅스톱'], dtype='object')"
            ]
          },
          "metadata": {
            "tags": []
          },
          "execution_count": 9
        }
      ]
    },
    {
      "cell_type": "code",
      "metadata": {
        "colab": {
          "base_uri": "https://localhost:8080/"
        },
        "id": "sTVfcn0B_ocK",
        "outputId": "1068f5d4-99e3-46f1-982d-48899a9448df"
      },
      "source": [
        "# bmilk_data2 Value\n",
        "bmilk2_val = bmilk_data2.values\n",
        "bmilk2_val"
      ],
      "execution_count": null,
      "outputs": [
        {
          "output_type": "execute_result",
          "data": {
            "text/plain": [
              "array([1200, 1400, 1100, 1300, 1000])"
            ]
          },
          "metadata": {
            "tags": []
          },
          "execution_count": 10
        }
      ]
    },
    {
      "cell_type": "code",
      "metadata": {
        "colab": {
          "base_uri": "https://localhost:8080/"
        },
        "id": "HiAxZ6cR_pkW",
        "outputId": "9d25f7ef-dd11-4c0d-d91d-efc82f186bab"
      },
      "source": [
        "## < Series에서 요소 선택하기> ##\n",
        "# Series에서 0번 인덱스 값 선택\n",
        "bmilk_data2[0]"
      ],
      "execution_count": null,
      "outputs": [
        {
          "output_type": "execute_result",
          "data": {
            "text/plain": [
              "1200"
            ]
          },
          "metadata": {
            "tags": []
          },
          "execution_count": 86
        }
      ]
    },
    {
      "cell_type": "code",
      "metadata": {
        "colab": {
          "base_uri": "https://localhost:8080/"
        },
        "id": "tZk7uqJg_qyT",
        "outputId": "d3c45111-e533-41b2-d041-9ba202ae1f56"
      },
      "source": [
        "# Series에서 1번 인덱스에서 3번 인덱스 앞(2번 인덱스)까지 슬라이싱\n",
        "bmilk_data2[1:3]"
      ],
      "execution_count": null,
      "outputs": [
        {
          "output_type": "execute_result",
          "data": {
            "text/plain": [
              "GS27     1400\n",
              "세분일레븐    1100\n",
              "dtype: int64"
            ]
          },
          "metadata": {
            "tags": []
          },
          "execution_count": 87
        }
      ]
    },
    {
      "cell_type": "code",
      "metadata": {
        "colab": {
          "base_uri": "https://localhost:8080/"
        },
        "id": "xIgudy2L_r2n",
        "outputId": "bd2676c1-9b71-40d7-90d0-406b749948c8"
      },
      "source": [
        "# Series에서 인덱스명이 '빅스톱'인 값 선택\n",
        "bmilk_data2['빅스톱']"
      ],
      "execution_count": null,
      "outputs": [
        {
          "output_type": "execute_result",
          "data": {
            "text/plain": [
              "1000"
            ]
          },
          "metadata": {
            "tags": []
          },
          "execution_count": 88
        }
      ]
    },
    {
      "cell_type": "code",
      "metadata": {
        "colab": {
          "base_uri": "https://localhost:8080/"
        },
        "id": "OotT_ufe_s9o",
        "outputId": "8c064841-cfa0-4cba-cb20-15198d2d9b33"
      },
      "source": [
        "# Series에서 인덱스명이 'DU', '세분일레븐'인 값을 새로운 Series로 반환\n",
        "bmilk_data2[['DU', '세분일레븐']]"
      ],
      "execution_count": null,
      "outputs": [
        {
          "output_type": "execute_result",
          "data": {
            "text/plain": [
              "DU       1200\n",
              "세분일레븐    1100\n",
              "dtype: int64"
            ]
          },
          "metadata": {
            "tags": []
          },
          "execution_count": 11
        }
      ]
    },
    {
      "cell_type": "markdown",
      "metadata": {
        "id": "lJT7W6u_gcTq"
      },
      "source": [
        "## 1-2. Series 다루기 실습"
      ]
    },
    {
      "cell_type": "markdown",
      "metadata": {
        "id": "9OyYAM13yjYn"
      },
      "source": [
        "< 실습 자료 >    \n",
        "*    편의점별 김밥 가격정보를 통해 시리즈 데이터를 만들어보자.\n",
        "    *    ※ 해당 가격은 임의로 정한 내용으로 실제와 다를 수 있습니다.\n",
        "*    편의점 내역 : DU, GS27, 세분일레븐, 아이마트24, 빅스톱\n",
        "*    편의점별 김밥 가격 정보\n",
        "    *    DU         : 1,600원\n",
        "    *    GS27       : 1,800원\n",
        "    *    세분일레븐 : 1,700원\n",
        "    *    아이마트24 : 1,900원\n",
        "    *    빅스톱     : 2,000원\n",
        "\n",
        "< 조건 >\n",
        "1.    Series를 만들 때, 어떤 방식을 사용해도 무관\n",
        "    *    Dictionary 형식, List 형식 등 자유롭게 사용\n",
        "2.    Series의 인덱스 순서는 GS27, 세분일레븐, 빅스톱, DU, 아이마트24 순으로 만들 것.\n",
        "    *    ※ 순서 반드시 잘 지킬 것!!!\n",
        "3.    변수명은 자유롭게 정해도 괜찮으나 누구나 이해할 수 있도록 작성\n",
        "    *    변수는 명사로 작성하는 것이 좋음\n",
        "\n",
        "< 문제 >\n",
        "1.    편의점별 김밥 가격 Series를 만드시오.\n",
        "2.    편의점별 김밥 Series의 3번 인덱스의 가격을 출력하시오.\n",
        "3.    편의점별 김밥 Series의 3번 인덱스에서 5번 인덱스까지 슬라이싱 후 출력하시오.\n",
        "4.    DU 편의점 김밥 가격은 얼마인지 편의점명을 사용해서 출력하시오.\n",
        "5.    GS27, 빅스톱, 아이마트24의 김밥 가격을 하나의 Series로 출력하시오.\n"
      ]
    },
    {
      "cell_type": "code",
      "metadata": {
        "id": "MUM4gMMHsVZx",
        "colab": {
          "base_uri": "https://localhost:8080/"
        },
        "outputId": "26fa9d5c-851e-4d49-c533-fc3167be02d5"
      },
      "source": [
        "# 문제 1. 편의점별 김밥 가격 Series를 만드시오.\n",
        "# 코드 작성\n",
        "kimbob_dict = {'DU':1600, 'GS27':1800, '세분일레븐':1700, '아이마트24':1900, '빅스톱':2000}\n",
        "\n",
        "kimbob_data1 = pd.Series(kimbob_dict)\n",
        "print(type(kimbob_data1))\n",
        "kimbob_data1"
      ],
      "execution_count": null,
      "outputs": [
        {
          "output_type": "stream",
          "text": [
            "<class 'pandas.core.series.Series'>\n"
          ],
          "name": "stdout"
        },
        {
          "output_type": "execute_result",
          "data": {
            "text/plain": [
              "DU        1600\n",
              "GS27      1800\n",
              "세분일레븐     1700\n",
              "아이마트24    1900\n",
              "빅스톱       2000\n",
              "dtype: int64"
            ]
          },
          "metadata": {
            "tags": []
          },
          "execution_count": 13
        }
      ]
    },
    {
      "cell_type": "code",
      "metadata": {
        "id": "YGhyqaBZ_HRE",
        "colab": {
          "base_uri": "https://localhost:8080/"
        },
        "outputId": "fe3967d9-8c96-4b26-c157-ff9da813ac38"
      },
      "source": [
        "# 문제 2. 편의점별 김밥 Series의 3번 인덱스의 가격을 출력하시오.\n",
        "# 코드 작성\n",
        "kimbob_data1[3]"
      ],
      "execution_count": null,
      "outputs": [
        {
          "output_type": "execute_result",
          "data": {
            "text/plain": [
              "1900"
            ]
          },
          "metadata": {
            "tags": []
          },
          "execution_count": 14
        }
      ]
    },
    {
      "cell_type": "code",
      "metadata": {
        "id": "V0Oy0bF5_HJl",
        "colab": {
          "base_uri": "https://localhost:8080/"
        },
        "outputId": "8f333731-08d5-4f87-e89f-4935505e0d0e"
      },
      "source": [
        "# 문제 3. 편의점별 김밥 Series의 3번 인덱스에서 5번 인덱스까지 슬라이싱 후 출력하시오.\n",
        "# 코드 작성\n",
        "kimbob_data1[3:6]"
      ],
      "execution_count": null,
      "outputs": [
        {
          "output_type": "execute_result",
          "data": {
            "text/plain": [
              "아이마트24    1900\n",
              "빅스톱       2000\n",
              "dtype: int64"
            ]
          },
          "metadata": {
            "tags": []
          },
          "execution_count": 15
        }
      ]
    },
    {
      "cell_type": "code",
      "metadata": {
        "id": "1zRTJyTF_HAa",
        "colab": {
          "base_uri": "https://localhost:8080/"
        },
        "outputId": "9ac19ed9-bf52-45ce-8eba-47bafbbe3d4f"
      },
      "source": [
        "# 문제 4. DU 편의점 김밥 가격은 얼마인지 편의점명을 사용해서 출력하시오.\n",
        "# 코드 작성\n",
        "kimbob_data1['DU']"
      ],
      "execution_count": null,
      "outputs": [
        {
          "output_type": "execute_result",
          "data": {
            "text/plain": [
              "1600"
            ]
          },
          "metadata": {
            "tags": []
          },
          "execution_count": 17
        }
      ]
    },
    {
      "cell_type": "code",
      "metadata": {
        "id": "cdByok2M_Gz3",
        "colab": {
          "base_uri": "https://localhost:8080/"
        },
        "outputId": "6f0593c2-3ee5-411d-956e-89359fc5eb2d"
      },
      "source": [
        "# 문제 5. GS27, 빅스톱, 아이마트24의 김밥 가격을 하나의 Series로 출력하시오.\n",
        "# 코드 작성\n",
        "kimbob_data1[['GS27', '빅스톱', '아이마트24']]"
      ],
      "execution_count": null,
      "outputs": [
        {
          "output_type": "execute_result",
          "data": {
            "text/plain": [
              "GS27      1800\n",
              "빅스톱       2000\n",
              "아이마트24    1900\n",
              "dtype: int64"
            ]
          },
          "metadata": {
            "tags": []
          },
          "execution_count": 19
        }
      ]
    },
    {
      "cell_type": "markdown",
      "metadata": {
        "id": "HNneJsx4fMMv"
      },
      "source": [
        "# STEP 2. Pandas의 자료구조 DataFrame\n",
        "\n",
        "* Pandas의 자료구조 중 하나인 DataFrame을 다뤄본다.\n",
        "* ※ DataFrame은 행(Index)과 열(Column)로 이루어져 있는 2차원 구조임을 기억해야 한다."
      ]
    },
    {
      "cell_type": "markdown",
      "metadata": {
        "id": "Jn1fJdysz4EG"
      },
      "source": [
        "< 예시 자료 >    \n",
        "*    기업별 연봉, 채용직무를 통해 데이터프레임을 만들어보자.\n",
        "    *    ※ 해당 정보는 실제와 다를 수 있습니다.\n",
        "*    기업 종류 : 네이버, 카카오, 삼성전자, 넥슨코리아, 쿠팡\n",
        "*    기업별 연봉 정보\n",
        "    *    네이버     : 4,500만원\n",
        "    *    카카오     : 4,200만원\n",
        "    *    삼성전자   : 4,000만원\n",
        "    *    넥슨코리아 : 3,600만원\n",
        "    *    쿠팡       : 4,000만원\n",
        "*    기업별 채용직무\n",
        "    *    네이버     : 데이터분석\n",
        "    *    카카오     : IT개발\n",
        "    *    삼성전자   : 경영사무\n",
        "    *    넥슨코리아 : 게임기획\n",
        "    *    쿠팡       : 마케팅"
      ]
    },
    {
      "cell_type": "markdown",
      "metadata": {
        "id": "mtWuhP_dgorm"
      },
      "source": [
        "## 2-1. DataFrame 다루기 예제"
      ]
    },
    {
      "cell_type": "code",
      "metadata": {
        "id": "iL7tjPBczk7W",
        "colab": {
          "base_uri": "https://localhost:8080/",
          "height": 195
        },
        "outputId": "8fc66d35-ea00-4340-aca4-bf4b8870b77e"
      },
      "source": [
        "### < List로 Pandas DataFrame 만들기 > ###\n",
        "# List로 만드는 경우, 리스트 안에 리스트가 요소로 들어가있으며,\n",
        "# 내부에 있는 리스트 하나가 한 행의 데이터가 된다.\n",
        "# DataFrame의 index와 column을 직접 지정하는 경우 리스트 형태로 넣어야 하며,\n",
        "# 지정하지 않는 경우 기본값은 데이터 수에 맞는 정수형으로 입력된다.(0부터 시작)\n",
        "\n",
        "comp_list = [['네이버', '4,500만원', '데이터분석'], ['카카오', '4,200만원', 'IT개발'],\n",
        "             ['삼성전자', '4,000만원', '경영사무'], ['넥슨코리아', '3,600만원', '게임기획'],\n",
        "             ['쿠팡', '4,000만원', '마케팅']]\n",
        "comp_df1 = pd.DataFrame(comp_list, index=[0,1,2,3,4], columns=['기업명', '연봉', '채용직무'])\n",
        "comp_df1"
      ],
      "execution_count": null,
      "outputs": [
        {
          "output_type": "execute_result",
          "data": {
            "text/html": [
              "<div>\n",
              "<style scoped>\n",
              "    .dataframe tbody tr th:only-of-type {\n",
              "        vertical-align: middle;\n",
              "    }\n",
              "\n",
              "    .dataframe tbody tr th {\n",
              "        vertical-align: top;\n",
              "    }\n",
              "\n",
              "    .dataframe thead th {\n",
              "        text-align: right;\n",
              "    }\n",
              "</style>\n",
              "<table border=\"1\" class=\"dataframe\">\n",
              "  <thead>\n",
              "    <tr style=\"text-align: right;\">\n",
              "      <th></th>\n",
              "      <th>기업명</th>\n",
              "      <th>연봉</th>\n",
              "      <th>채용직무</th>\n",
              "    </tr>\n",
              "  </thead>\n",
              "  <tbody>\n",
              "    <tr>\n",
              "      <th>0</th>\n",
              "      <td>네이버</td>\n",
              "      <td>4,500만원</td>\n",
              "      <td>데이터분석</td>\n",
              "    </tr>\n",
              "    <tr>\n",
              "      <th>1</th>\n",
              "      <td>카카오</td>\n",
              "      <td>4,200만원</td>\n",
              "      <td>IT개발</td>\n",
              "    </tr>\n",
              "    <tr>\n",
              "      <th>2</th>\n",
              "      <td>삼성전자</td>\n",
              "      <td>4,000만원</td>\n",
              "      <td>경영사무</td>\n",
              "    </tr>\n",
              "    <tr>\n",
              "      <th>3</th>\n",
              "      <td>넥슨코리아</td>\n",
              "      <td>3,600만원</td>\n",
              "      <td>게임기획</td>\n",
              "    </tr>\n",
              "    <tr>\n",
              "      <th>4</th>\n",
              "      <td>쿠팡</td>\n",
              "      <td>4,000만원</td>\n",
              "      <td>마케팅</td>\n",
              "    </tr>\n",
              "  </tbody>\n",
              "</table>\n",
              "</div>"
            ],
            "text/plain": [
              "     기업명       연봉   채용직무\n",
              "0    네이버  4,500만원  데이터분석\n",
              "1    카카오  4,200만원   IT개발\n",
              "2   삼성전자  4,000만원   경영사무\n",
              "3  넥슨코리아  3,600만원   게임기획\n",
              "4     쿠팡  4,000만원    마케팅"
            ]
          },
          "metadata": {
            "tags": []
          },
          "execution_count": 90
        }
      ]
    },
    {
      "cell_type": "code",
      "metadata": {
        "colab": {
          "base_uri": "https://localhost:8080/",
          "height": 195
        },
        "id": "HpgBEKU79pey",
        "outputId": "4ed48fbe-ad25-48b6-a58a-82391cfb70cc"
      },
      "source": [
        "### < Dictionary로 Pandas DataFrame 만들기 > ###\n",
        "# Dictionary로 만드는 경우, key에는 DataFrame의 column으로 사용할 값을 넣고,\n",
        "# value에는 key로 넣은 column과 관련된 값을 리스트로 넣는다.\n",
        "# DataFrame의 index는 지정할 수 있으며, 지정하지 않는 경우 기본값은 데이터 수에 맞는 정수형이다.(0부터 시작)\n",
        "\n",
        "comp_dict = {'기업명':['네이버', '카카오', '삼성전자', '넥슨코리아', '쿠팡'],\n",
        "             '연봉':['4,500만원', '4,500만원', '4,500만원', '4,500만원', '4,500만원'],\n",
        "             '채용직무':['데이터분석', 'IT개발', '경영사무', '게임기획', '마케팅']}\n",
        "comp_df2 = pd.DataFrame(comp_dict, index=[0,1,2,3,4])\n",
        "comp_df2"
      ],
      "execution_count": null,
      "outputs": [
        {
          "output_type": "execute_result",
          "data": {
            "text/html": [
              "<div>\n",
              "<style scoped>\n",
              "    .dataframe tbody tr th:only-of-type {\n",
              "        vertical-align: middle;\n",
              "    }\n",
              "\n",
              "    .dataframe tbody tr th {\n",
              "        vertical-align: top;\n",
              "    }\n",
              "\n",
              "    .dataframe thead th {\n",
              "        text-align: right;\n",
              "    }\n",
              "</style>\n",
              "<table border=\"1\" class=\"dataframe\">\n",
              "  <thead>\n",
              "    <tr style=\"text-align: right;\">\n",
              "      <th></th>\n",
              "      <th>기업명</th>\n",
              "      <th>연봉</th>\n",
              "      <th>채용직무</th>\n",
              "    </tr>\n",
              "  </thead>\n",
              "  <tbody>\n",
              "    <tr>\n",
              "      <th>0</th>\n",
              "      <td>네이버</td>\n",
              "      <td>4,500만원</td>\n",
              "      <td>데이터분석</td>\n",
              "    </tr>\n",
              "    <tr>\n",
              "      <th>1</th>\n",
              "      <td>카카오</td>\n",
              "      <td>4,500만원</td>\n",
              "      <td>IT개발</td>\n",
              "    </tr>\n",
              "    <tr>\n",
              "      <th>2</th>\n",
              "      <td>삼성전자</td>\n",
              "      <td>4,500만원</td>\n",
              "      <td>경영사무</td>\n",
              "    </tr>\n",
              "    <tr>\n",
              "      <th>3</th>\n",
              "      <td>넥슨코리아</td>\n",
              "      <td>4,500만원</td>\n",
              "      <td>게임기획</td>\n",
              "    </tr>\n",
              "    <tr>\n",
              "      <th>4</th>\n",
              "      <td>쿠팡</td>\n",
              "      <td>4,500만원</td>\n",
              "      <td>마케팅</td>\n",
              "    </tr>\n",
              "  </tbody>\n",
              "</table>\n",
              "</div>"
            ],
            "text/plain": [
              "     기업명       연봉   채용직무\n",
              "0    네이버  4,500만원  데이터분석\n",
              "1    카카오  4,500만원   IT개발\n",
              "2   삼성전자  4,500만원   경영사무\n",
              "3  넥슨코리아  4,500만원   게임기획\n",
              "4     쿠팡  4,500만원    마케팅"
            ]
          },
          "metadata": {
            "tags": []
          },
          "execution_count": 91
        }
      ]
    },
    {
      "cell_type": "code",
      "metadata": {
        "colab": {
          "base_uri": "https://localhost:8080/"
        },
        "id": "JU5JK_dfDCr9",
        "outputId": "a69536ca-0270-4b34-a78e-bad1319f1681"
      },
      "source": [
        "# 데이터프레임 변수\n",
        "print('데이터프레임 index :', comp_df1.index)\n",
        "print('데이터프레임 columns :', comp_df1.columns)"
      ],
      "execution_count": null,
      "outputs": [
        {
          "output_type": "stream",
          "text": [
            "데이터프레임 index : Int64Index([0, 1, 2, 3, 4], dtype='int64')\n",
            "데이터프레임 columns : Index(['기업명', '연봉', '채용직무'], dtype='object')\n"
          ],
          "name": "stdout"
        }
      ]
    },
    {
      "cell_type": "code",
      "metadata": {
        "colab": {
          "base_uri": "https://localhost:8080/",
          "height": 213
        },
        "id": "ACmfiBLIDEA9",
        "outputId": "da9f9aec-c08f-4c01-c7c3-fba90c97135a"
      },
      "source": [
        "# 인덱스(행), 컬럼(열) 이름 바꾸기 1\n",
        "print('======= 변경 전 =======')\n",
        "comp_df1"
      ],
      "execution_count": null,
      "outputs": [
        {
          "output_type": "stream",
          "text": [
            "======= 변경 전 =======\n"
          ],
          "name": "stdout"
        },
        {
          "output_type": "execute_result",
          "data": {
            "text/html": [
              "<div>\n",
              "<style scoped>\n",
              "    .dataframe tbody tr th:only-of-type {\n",
              "        vertical-align: middle;\n",
              "    }\n",
              "\n",
              "    .dataframe tbody tr th {\n",
              "        vertical-align: top;\n",
              "    }\n",
              "\n",
              "    .dataframe thead th {\n",
              "        text-align: right;\n",
              "    }\n",
              "</style>\n",
              "<table border=\"1\" class=\"dataframe\">\n",
              "  <thead>\n",
              "    <tr style=\"text-align: right;\">\n",
              "      <th></th>\n",
              "      <th>기업명</th>\n",
              "      <th>연봉</th>\n",
              "      <th>채용직무</th>\n",
              "    </tr>\n",
              "  </thead>\n",
              "  <tbody>\n",
              "    <tr>\n",
              "      <th>0</th>\n",
              "      <td>네이버</td>\n",
              "      <td>4,500만원</td>\n",
              "      <td>데이터분석</td>\n",
              "    </tr>\n",
              "    <tr>\n",
              "      <th>1</th>\n",
              "      <td>카카오</td>\n",
              "      <td>4,200만원</td>\n",
              "      <td>IT개발</td>\n",
              "    </tr>\n",
              "    <tr>\n",
              "      <th>2</th>\n",
              "      <td>삼성전자</td>\n",
              "      <td>4,000만원</td>\n",
              "      <td>경영사무</td>\n",
              "    </tr>\n",
              "    <tr>\n",
              "      <th>3</th>\n",
              "      <td>넥슨코리아</td>\n",
              "      <td>3,600만원</td>\n",
              "      <td>게임기획</td>\n",
              "    </tr>\n",
              "    <tr>\n",
              "      <th>4</th>\n",
              "      <td>쿠팡</td>\n",
              "      <td>4,000만원</td>\n",
              "      <td>마케팅</td>\n",
              "    </tr>\n",
              "  </tbody>\n",
              "</table>\n",
              "</div>"
            ],
            "text/plain": [
              "     기업명       연봉   채용직무\n",
              "0    네이버  4,500만원  데이터분석\n",
              "1    카카오  4,200만원   IT개발\n",
              "2   삼성전자  4,000만원   경영사무\n",
              "3  넥슨코리아  3,600만원   게임기획\n",
              "4     쿠팡  4,000만원    마케팅"
            ]
          },
          "metadata": {
            "tags": []
          },
          "execution_count": 95
        }
      ]
    },
    {
      "cell_type": "code",
      "metadata": {
        "colab": {
          "base_uri": "https://localhost:8080/",
          "height": 213
        },
        "id": "iBDAB4Yrk5Ik",
        "outputId": "51bf551f-aeb9-4eef-c52c-c0f3ac842784"
      },
      "source": [
        "print('======= 변경 후 =======')\n",
        "comp_df1.index = ['Naver', 'Kakao', 'Samsung', 'Nexon', 'Coupang']\n",
        "comp_df1.columns = ['기업명(한글)', '신입초봉', '채용직군']\n",
        "comp_df1"
      ],
      "execution_count": null,
      "outputs": [
        {
          "output_type": "stream",
          "text": [
            "======= 변경 후 =======\n"
          ],
          "name": "stdout"
        },
        {
          "output_type": "execute_result",
          "data": {
            "text/html": [
              "<div>\n",
              "<style scoped>\n",
              "    .dataframe tbody tr th:only-of-type {\n",
              "        vertical-align: middle;\n",
              "    }\n",
              "\n",
              "    .dataframe tbody tr th {\n",
              "        vertical-align: top;\n",
              "    }\n",
              "\n",
              "    .dataframe thead th {\n",
              "        text-align: right;\n",
              "    }\n",
              "</style>\n",
              "<table border=\"1\" class=\"dataframe\">\n",
              "  <thead>\n",
              "    <tr style=\"text-align: right;\">\n",
              "      <th></th>\n",
              "      <th>기업명(한글)</th>\n",
              "      <th>신입초봉</th>\n",
              "      <th>채용직군</th>\n",
              "    </tr>\n",
              "  </thead>\n",
              "  <tbody>\n",
              "    <tr>\n",
              "      <th>Naver</th>\n",
              "      <td>네이버</td>\n",
              "      <td>4,500만원</td>\n",
              "      <td>데이터분석</td>\n",
              "    </tr>\n",
              "    <tr>\n",
              "      <th>Kakao</th>\n",
              "      <td>카카오</td>\n",
              "      <td>4,200만원</td>\n",
              "      <td>IT개발</td>\n",
              "    </tr>\n",
              "    <tr>\n",
              "      <th>Samsung</th>\n",
              "      <td>삼성전자</td>\n",
              "      <td>4,000만원</td>\n",
              "      <td>경영사무</td>\n",
              "    </tr>\n",
              "    <tr>\n",
              "      <th>Nexon</th>\n",
              "      <td>넥슨코리아</td>\n",
              "      <td>3,600만원</td>\n",
              "      <td>게임기획</td>\n",
              "    </tr>\n",
              "    <tr>\n",
              "      <th>Coupang</th>\n",
              "      <td>쿠팡</td>\n",
              "      <td>4,000만원</td>\n",
              "      <td>마케팅</td>\n",
              "    </tr>\n",
              "  </tbody>\n",
              "</table>\n",
              "</div>"
            ],
            "text/plain": [
              "        기업명(한글)     신입초봉   채용직군\n",
              "Naver       네이버  4,500만원  데이터분석\n",
              "Kakao       카카오  4,200만원   IT개발\n",
              "Samsung    삼성전자  4,000만원   경영사무\n",
              "Nexon     넥슨코리아  3,600만원   게임기획\n",
              "Coupang      쿠팡  4,000만원    마케팅"
            ]
          },
          "metadata": {
            "tags": []
          },
          "execution_count": 96
        }
      ]
    },
    {
      "cell_type": "code",
      "metadata": {
        "colab": {
          "base_uri": "https://localhost:8080/",
          "height": 213
        },
        "id": "YMtoBBeKDFOe",
        "outputId": "205e832d-3797-4887-9382-5974e5a48e03"
      },
      "source": [
        "# 인덱스(행), 컬럼(열) 이름 바꾸기 2\n",
        "print('======= 변경 전 =======')\n",
        "comp_df1"
      ],
      "execution_count": null,
      "outputs": [
        {
          "output_type": "stream",
          "text": [
            "======= 변경 전 =======\n"
          ],
          "name": "stdout"
        },
        {
          "output_type": "execute_result",
          "data": {
            "text/html": [
              "<div>\n",
              "<style scoped>\n",
              "    .dataframe tbody tr th:only-of-type {\n",
              "        vertical-align: middle;\n",
              "    }\n",
              "\n",
              "    .dataframe tbody tr th {\n",
              "        vertical-align: top;\n",
              "    }\n",
              "\n",
              "    .dataframe thead th {\n",
              "        text-align: right;\n",
              "    }\n",
              "</style>\n",
              "<table border=\"1\" class=\"dataframe\">\n",
              "  <thead>\n",
              "    <tr style=\"text-align: right;\">\n",
              "      <th></th>\n",
              "      <th>기업명(한글)</th>\n",
              "      <th>신입초봉</th>\n",
              "      <th>채용직군</th>\n",
              "    </tr>\n",
              "  </thead>\n",
              "  <tbody>\n",
              "    <tr>\n",
              "      <th>Naver</th>\n",
              "      <td>네이버</td>\n",
              "      <td>4,500만원</td>\n",
              "      <td>데이터분석</td>\n",
              "    </tr>\n",
              "    <tr>\n",
              "      <th>Kakao</th>\n",
              "      <td>카카오</td>\n",
              "      <td>4,200만원</td>\n",
              "      <td>IT개발</td>\n",
              "    </tr>\n",
              "    <tr>\n",
              "      <th>Samsung</th>\n",
              "      <td>삼성전자</td>\n",
              "      <td>4,000만원</td>\n",
              "      <td>경영사무</td>\n",
              "    </tr>\n",
              "    <tr>\n",
              "      <th>Nexon</th>\n",
              "      <td>넥슨코리아</td>\n",
              "      <td>3,600만원</td>\n",
              "      <td>게임기획</td>\n",
              "    </tr>\n",
              "    <tr>\n",
              "      <th>Coupang</th>\n",
              "      <td>쿠팡</td>\n",
              "      <td>4,000만원</td>\n",
              "      <td>마케팅</td>\n",
              "    </tr>\n",
              "  </tbody>\n",
              "</table>\n",
              "</div>"
            ],
            "text/plain": [
              "        기업명(한글)     신입초봉   채용직군\n",
              "Naver       네이버  4,500만원  데이터분석\n",
              "Kakao       카카오  4,200만원   IT개발\n",
              "Samsung    삼성전자  4,000만원   경영사무\n",
              "Nexon     넥슨코리아  3,600만원   게임기획\n",
              "Coupang      쿠팡  4,000만원    마케팅"
            ]
          },
          "metadata": {
            "tags": []
          },
          "execution_count": 97
        }
      ]
    },
    {
      "cell_type": "code",
      "metadata": {
        "colab": {
          "base_uri": "https://localhost:8080/",
          "height": 213
        },
        "id": "udIjg81XlH0s",
        "outputId": "5256cbf6-10e3-48b6-bac8-60295fcbd449"
      },
      "source": [
        "print('======= 변경 후 =======')\n",
        "comp_df1.rename(index={'Naver':'N사', 'Kakao':'K사', 'Samsung':'S사', 'Nexon':'Nx사', 'Coupang':'C사'}, inplace=True)\n",
        "comp_df1.rename(columns={'기업명(한글)':'기업명(국문)', '채용직군':'주업무'}, inplace=True)\n",
        "comp_df1"
      ],
      "execution_count": null,
      "outputs": [
        {
          "output_type": "stream",
          "text": [
            "======= 변경 후 =======\n"
          ],
          "name": "stdout"
        },
        {
          "output_type": "execute_result",
          "data": {
            "text/html": [
              "<div>\n",
              "<style scoped>\n",
              "    .dataframe tbody tr th:only-of-type {\n",
              "        vertical-align: middle;\n",
              "    }\n",
              "\n",
              "    .dataframe tbody tr th {\n",
              "        vertical-align: top;\n",
              "    }\n",
              "\n",
              "    .dataframe thead th {\n",
              "        text-align: right;\n",
              "    }\n",
              "</style>\n",
              "<table border=\"1\" class=\"dataframe\">\n",
              "  <thead>\n",
              "    <tr style=\"text-align: right;\">\n",
              "      <th></th>\n",
              "      <th>기업명(국문)</th>\n",
              "      <th>신입초봉</th>\n",
              "      <th>주업무</th>\n",
              "    </tr>\n",
              "  </thead>\n",
              "  <tbody>\n",
              "    <tr>\n",
              "      <th>N사</th>\n",
              "      <td>네이버</td>\n",
              "      <td>4,500만원</td>\n",
              "      <td>데이터분석</td>\n",
              "    </tr>\n",
              "    <tr>\n",
              "      <th>K사</th>\n",
              "      <td>카카오</td>\n",
              "      <td>4,200만원</td>\n",
              "      <td>IT개발</td>\n",
              "    </tr>\n",
              "    <tr>\n",
              "      <th>S사</th>\n",
              "      <td>삼성전자</td>\n",
              "      <td>4,000만원</td>\n",
              "      <td>경영사무</td>\n",
              "    </tr>\n",
              "    <tr>\n",
              "      <th>Nx사</th>\n",
              "      <td>넥슨코리아</td>\n",
              "      <td>3,600만원</td>\n",
              "      <td>게임기획</td>\n",
              "    </tr>\n",
              "    <tr>\n",
              "      <th>C사</th>\n",
              "      <td>쿠팡</td>\n",
              "      <td>4,000만원</td>\n",
              "      <td>마케팅</td>\n",
              "    </tr>\n",
              "  </tbody>\n",
              "</table>\n",
              "</div>"
            ],
            "text/plain": [
              "    기업명(국문)     신입초봉    주업무\n",
              "N사      네이버  4,500만원  데이터분석\n",
              "K사      카카오  4,200만원   IT개발\n",
              "S사     삼성전자  4,000만원   경영사무\n",
              "Nx사   넥슨코리아  3,600만원   게임기획\n",
              "C사       쿠팡  4,000만원    마케팅"
            ]
          },
          "metadata": {
            "tags": []
          },
          "execution_count": 99
        }
      ]
    },
    {
      "cell_type": "code",
      "metadata": {
        "colab": {
          "base_uri": "https://localhost:8080/",
          "height": 213
        },
        "id": "rBfsRP3XDJe_",
        "outputId": "127dfd0c-743f-4f60-8b1a-34671c4600a3"
      },
      "source": [
        "## 행/열 삭제\n",
        "# 행 삭제\n",
        "print('======= 행 삭제 전 =======')\n",
        "comp_df1"
      ],
      "execution_count": null,
      "outputs": [
        {
          "output_type": "stream",
          "text": [
            "======= 행 삭제 전 =======\n"
          ],
          "name": "stdout"
        },
        {
          "output_type": "execute_result",
          "data": {
            "text/html": [
              "<div>\n",
              "<style scoped>\n",
              "    .dataframe tbody tr th:only-of-type {\n",
              "        vertical-align: middle;\n",
              "    }\n",
              "\n",
              "    .dataframe tbody tr th {\n",
              "        vertical-align: top;\n",
              "    }\n",
              "\n",
              "    .dataframe thead th {\n",
              "        text-align: right;\n",
              "    }\n",
              "</style>\n",
              "<table border=\"1\" class=\"dataframe\">\n",
              "  <thead>\n",
              "    <tr style=\"text-align: right;\">\n",
              "      <th></th>\n",
              "      <th>기업명(국문)</th>\n",
              "      <th>신입초봉</th>\n",
              "      <th>주업무</th>\n",
              "    </tr>\n",
              "  </thead>\n",
              "  <tbody>\n",
              "    <tr>\n",
              "      <th>N사</th>\n",
              "      <td>네이버</td>\n",
              "      <td>4,500만원</td>\n",
              "      <td>데이터분석</td>\n",
              "    </tr>\n",
              "    <tr>\n",
              "      <th>K사</th>\n",
              "      <td>카카오</td>\n",
              "      <td>4,200만원</td>\n",
              "      <td>IT개발</td>\n",
              "    </tr>\n",
              "    <tr>\n",
              "      <th>S사</th>\n",
              "      <td>삼성전자</td>\n",
              "      <td>4,000만원</td>\n",
              "      <td>경영사무</td>\n",
              "    </tr>\n",
              "    <tr>\n",
              "      <th>Nx사</th>\n",
              "      <td>넥슨코리아</td>\n",
              "      <td>3,600만원</td>\n",
              "      <td>게임기획</td>\n",
              "    </tr>\n",
              "    <tr>\n",
              "      <th>C사</th>\n",
              "      <td>쿠팡</td>\n",
              "      <td>4,000만원</td>\n",
              "      <td>마케팅</td>\n",
              "    </tr>\n",
              "  </tbody>\n",
              "</table>\n",
              "</div>"
            ],
            "text/plain": [
              "    기업명(국문)     신입초봉    주업무\n",
              "N사      네이버  4,500만원  데이터분석\n",
              "K사      카카오  4,200만원   IT개발\n",
              "S사     삼성전자  4,000만원   경영사무\n",
              "Nx사   넥슨코리아  3,600만원   게임기획\n",
              "C사       쿠팡  4,000만원    마케팅"
            ]
          },
          "metadata": {
            "tags": []
          },
          "execution_count": 100
        }
      ]
    },
    {
      "cell_type": "code",
      "metadata": {
        "colab": {
          "base_uri": "https://localhost:8080/",
          "height": 183
        },
        "id": "kCTEOz1hlRjz",
        "outputId": "e106beab-134b-4902-f833-badb59adfb44"
      },
      "source": [
        "print('======= 행 삭제 후 =======')\n",
        "comp_df1.drop('Nx사', axis=0) # 여러 행을 삭제할 경우 ['N사', 'K사']와 같이 리스트 형으로 넣기"
      ],
      "execution_count": null,
      "outputs": [
        {
          "output_type": "stream",
          "text": [
            "======= 행 삭제 후 =======\n"
          ],
          "name": "stdout"
        },
        {
          "output_type": "execute_result",
          "data": {
            "text/html": [
              "<div>\n",
              "<style scoped>\n",
              "    .dataframe tbody tr th:only-of-type {\n",
              "        vertical-align: middle;\n",
              "    }\n",
              "\n",
              "    .dataframe tbody tr th {\n",
              "        vertical-align: top;\n",
              "    }\n",
              "\n",
              "    .dataframe thead th {\n",
              "        text-align: right;\n",
              "    }\n",
              "</style>\n",
              "<table border=\"1\" class=\"dataframe\">\n",
              "  <thead>\n",
              "    <tr style=\"text-align: right;\">\n",
              "      <th></th>\n",
              "      <th>기업명(국문)</th>\n",
              "      <th>신입초봉</th>\n",
              "      <th>주업무</th>\n",
              "    </tr>\n",
              "  </thead>\n",
              "  <tbody>\n",
              "    <tr>\n",
              "      <th>N사</th>\n",
              "      <td>네이버</td>\n",
              "      <td>4,500만원</td>\n",
              "      <td>데이터분석</td>\n",
              "    </tr>\n",
              "    <tr>\n",
              "      <th>K사</th>\n",
              "      <td>카카오</td>\n",
              "      <td>4,200만원</td>\n",
              "      <td>IT개발</td>\n",
              "    </tr>\n",
              "    <tr>\n",
              "      <th>S사</th>\n",
              "      <td>삼성전자</td>\n",
              "      <td>4,000만원</td>\n",
              "      <td>경영사무</td>\n",
              "    </tr>\n",
              "    <tr>\n",
              "      <th>C사</th>\n",
              "      <td>쿠팡</td>\n",
              "      <td>4,000만원</td>\n",
              "      <td>마케팅</td>\n",
              "    </tr>\n",
              "  </tbody>\n",
              "</table>\n",
              "</div>"
            ],
            "text/plain": [
              "   기업명(국문)     신입초봉    주업무\n",
              "N사     네이버  4,500만원  데이터분석\n",
              "K사     카카오  4,200만원   IT개발\n",
              "S사    삼성전자  4,000만원   경영사무\n",
              "C사      쿠팡  4,000만원    마케팅"
            ]
          },
          "metadata": {
            "tags": []
          },
          "execution_count": 101
        }
      ]
    },
    {
      "cell_type": "code",
      "metadata": {
        "colab": {
          "base_uri": "https://localhost:8080/",
          "height": 213
        },
        "id": "gp2E4YSPDM9Z",
        "outputId": "7193bc21-9b9f-4d42-dc49-b283d638989b"
      },
      "source": [
        "# 열 삭제\n",
        "print('======= 열 삭제 전 =======')\n",
        "comp_df1"
      ],
      "execution_count": null,
      "outputs": [
        {
          "output_type": "stream",
          "text": [
            "======= 열 삭제 전 =======\n"
          ],
          "name": "stdout"
        },
        {
          "output_type": "execute_result",
          "data": {
            "text/html": [
              "<div>\n",
              "<style scoped>\n",
              "    .dataframe tbody tr th:only-of-type {\n",
              "        vertical-align: middle;\n",
              "    }\n",
              "\n",
              "    .dataframe tbody tr th {\n",
              "        vertical-align: top;\n",
              "    }\n",
              "\n",
              "    .dataframe thead th {\n",
              "        text-align: right;\n",
              "    }\n",
              "</style>\n",
              "<table border=\"1\" class=\"dataframe\">\n",
              "  <thead>\n",
              "    <tr style=\"text-align: right;\">\n",
              "      <th></th>\n",
              "      <th>기업명(국문)</th>\n",
              "      <th>신입초봉</th>\n",
              "      <th>주업무</th>\n",
              "    </tr>\n",
              "  </thead>\n",
              "  <tbody>\n",
              "    <tr>\n",
              "      <th>N사</th>\n",
              "      <td>네이버</td>\n",
              "      <td>4,500만원</td>\n",
              "      <td>데이터분석</td>\n",
              "    </tr>\n",
              "    <tr>\n",
              "      <th>K사</th>\n",
              "      <td>카카오</td>\n",
              "      <td>4,200만원</td>\n",
              "      <td>IT개발</td>\n",
              "    </tr>\n",
              "    <tr>\n",
              "      <th>S사</th>\n",
              "      <td>삼성전자</td>\n",
              "      <td>4,000만원</td>\n",
              "      <td>경영사무</td>\n",
              "    </tr>\n",
              "    <tr>\n",
              "      <th>Nx사</th>\n",
              "      <td>넥슨코리아</td>\n",
              "      <td>3,600만원</td>\n",
              "      <td>게임기획</td>\n",
              "    </tr>\n",
              "    <tr>\n",
              "      <th>C사</th>\n",
              "      <td>쿠팡</td>\n",
              "      <td>4,000만원</td>\n",
              "      <td>마케팅</td>\n",
              "    </tr>\n",
              "  </tbody>\n",
              "</table>\n",
              "</div>"
            ],
            "text/plain": [
              "    기업명(국문)     신입초봉    주업무\n",
              "N사      네이버  4,500만원  데이터분석\n",
              "K사      카카오  4,200만원   IT개발\n",
              "S사     삼성전자  4,000만원   경영사무\n",
              "Nx사   넥슨코리아  3,600만원   게임기획\n",
              "C사       쿠팡  4,000만원    마케팅"
            ]
          },
          "metadata": {
            "tags": []
          },
          "execution_count": 102
        }
      ]
    },
    {
      "cell_type": "code",
      "metadata": {
        "colab": {
          "base_uri": "https://localhost:8080/",
          "height": 213
        },
        "id": "MJGh43yblbF7",
        "outputId": "9ff0447a-3f08-4bbe-c81a-289e0dcc18e4"
      },
      "source": [
        "print('======= 열 삭제 후 =======')\n",
        "comp_df1.drop('기업명(국문)', axis=1) # 여러 열을 삭제할 경우 ['기업명(국문)', '신입초봉']와 같이 리스트 형으로 넣기"
      ],
      "execution_count": null,
      "outputs": [
        {
          "output_type": "stream",
          "text": [
            "======= 열 삭제 후 =======\n"
          ],
          "name": "stdout"
        },
        {
          "output_type": "execute_result",
          "data": {
            "text/html": [
              "<div>\n",
              "<style scoped>\n",
              "    .dataframe tbody tr th:only-of-type {\n",
              "        vertical-align: middle;\n",
              "    }\n",
              "\n",
              "    .dataframe tbody tr th {\n",
              "        vertical-align: top;\n",
              "    }\n",
              "\n",
              "    .dataframe thead th {\n",
              "        text-align: right;\n",
              "    }\n",
              "</style>\n",
              "<table border=\"1\" class=\"dataframe\">\n",
              "  <thead>\n",
              "    <tr style=\"text-align: right;\">\n",
              "      <th></th>\n",
              "      <th>신입초봉</th>\n",
              "      <th>주업무</th>\n",
              "    </tr>\n",
              "  </thead>\n",
              "  <tbody>\n",
              "    <tr>\n",
              "      <th>N사</th>\n",
              "      <td>4,500만원</td>\n",
              "      <td>데이터분석</td>\n",
              "    </tr>\n",
              "    <tr>\n",
              "      <th>K사</th>\n",
              "      <td>4,200만원</td>\n",
              "      <td>IT개발</td>\n",
              "    </tr>\n",
              "    <tr>\n",
              "      <th>S사</th>\n",
              "      <td>4,000만원</td>\n",
              "      <td>경영사무</td>\n",
              "    </tr>\n",
              "    <tr>\n",
              "      <th>Nx사</th>\n",
              "      <td>3,600만원</td>\n",
              "      <td>게임기획</td>\n",
              "    </tr>\n",
              "    <tr>\n",
              "      <th>C사</th>\n",
              "      <td>4,000만원</td>\n",
              "      <td>마케팅</td>\n",
              "    </tr>\n",
              "  </tbody>\n",
              "</table>\n",
              "</div>"
            ],
            "text/plain": [
              "        신입초봉    주업무\n",
              "N사   4,500만원  데이터분석\n",
              "K사   4,200만원   IT개발\n",
              "S사   4,000만원   경영사무\n",
              "Nx사  3,600만원   게임기획\n",
              "C사   4,000만원    마케팅"
            ]
          },
          "metadata": {
            "tags": []
          },
          "execution_count": 103
        }
      ]
    },
    {
      "cell_type": "code",
      "metadata": {
        "colab": {
          "base_uri": "https://localhost:8080/"
        },
        "id": "jzguIqhVDVvl",
        "outputId": "5f5cb75e-e7c6-4ec0-d95f-ae62da79cc4f"
      },
      "source": [
        "# 행 선택 1 (loc를 이용하는 방법)\n",
        "print('======= 단일 행 선택 =======')\n",
        "comp_df1.loc['K사']"
      ],
      "execution_count": null,
      "outputs": [
        {
          "output_type": "stream",
          "text": [
            "======= 단일 행 선택 =======\n"
          ],
          "name": "stdout"
        },
        {
          "output_type": "execute_result",
          "data": {
            "text/plain": [
              "기업명(국문)        카카오\n",
              "신입초봉       4,200만원\n",
              "주업무           IT개발\n",
              "Name: K사, dtype: object"
            ]
          },
          "metadata": {
            "tags": []
          },
          "execution_count": 104
        }
      ]
    },
    {
      "cell_type": "code",
      "metadata": {
        "colab": {
          "base_uri": "https://localhost:8080/",
          "height": 124
        },
        "id": "L9LtuYWLli5i",
        "outputId": "005aabcd-d4c2-4f9b-949e-8cbfb04d86fa"
      },
      "source": [
        "print('======= 다중 행 선택 =======')\n",
        "comp_df1.loc[['N사','C사']]"
      ],
      "execution_count": null,
      "outputs": [
        {
          "output_type": "stream",
          "text": [
            "======= 다중 행 선택 =======\n"
          ],
          "name": "stdout"
        },
        {
          "output_type": "execute_result",
          "data": {
            "text/html": [
              "<div>\n",
              "<style scoped>\n",
              "    .dataframe tbody tr th:only-of-type {\n",
              "        vertical-align: middle;\n",
              "    }\n",
              "\n",
              "    .dataframe tbody tr th {\n",
              "        vertical-align: top;\n",
              "    }\n",
              "\n",
              "    .dataframe thead th {\n",
              "        text-align: right;\n",
              "    }\n",
              "</style>\n",
              "<table border=\"1\" class=\"dataframe\">\n",
              "  <thead>\n",
              "    <tr style=\"text-align: right;\">\n",
              "      <th></th>\n",
              "      <th>기업명(국문)</th>\n",
              "      <th>신입초봉</th>\n",
              "      <th>주업무</th>\n",
              "    </tr>\n",
              "  </thead>\n",
              "  <tbody>\n",
              "    <tr>\n",
              "      <th>N사</th>\n",
              "      <td>네이버</td>\n",
              "      <td>4,500만원</td>\n",
              "      <td>데이터분석</td>\n",
              "    </tr>\n",
              "    <tr>\n",
              "      <th>C사</th>\n",
              "      <td>쿠팡</td>\n",
              "      <td>4,000만원</td>\n",
              "      <td>마케팅</td>\n",
              "    </tr>\n",
              "  </tbody>\n",
              "</table>\n",
              "</div>"
            ],
            "text/plain": [
              "   기업명(국문)     신입초봉    주업무\n",
              "N사     네이버  4,500만원  데이터분석\n",
              "C사      쿠팡  4,000만원    마케팅"
            ]
          },
          "metadata": {
            "tags": []
          },
          "execution_count": 105
        }
      ]
    },
    {
      "cell_type": "code",
      "metadata": {
        "colab": {
          "base_uri": "https://localhost:8080/"
        },
        "id": "jUOtLUgPIkIn",
        "outputId": "dbbf384e-c49d-4c6a-b5e1-edd3f3950b77"
      },
      "source": [
        "# 행 선택 2 (iloc를 이용하는 방법)\n",
        "print('======= 단일 행 선택 =======')\n",
        "comp_df1.iloc[0]"
      ],
      "execution_count": null,
      "outputs": [
        {
          "output_type": "stream",
          "text": [
            "======= 단일 행 선택 =======\n"
          ],
          "name": "stdout"
        },
        {
          "output_type": "execute_result",
          "data": {
            "text/plain": [
              "기업명(국문)        네이버\n",
              "신입초봉       4,500만원\n",
              "주업무          데이터분석\n",
              "Name: N사, dtype: object"
            ]
          },
          "metadata": {
            "tags": []
          },
          "execution_count": 106
        }
      ]
    },
    {
      "cell_type": "code",
      "metadata": {
        "colab": {
          "base_uri": "https://localhost:8080/",
          "height": 124
        },
        "id": "Hu44jewjlq65",
        "outputId": "5c74259f-379e-4e65-8d23-818dcf149b94"
      },
      "source": [
        "print('======= 다중 행 선택 =======')\n",
        "comp_df1.iloc[0:2]"
      ],
      "execution_count": null,
      "outputs": [
        {
          "output_type": "stream",
          "text": [
            "======= 다중 행 선택 =======\n"
          ],
          "name": "stdout"
        },
        {
          "output_type": "execute_result",
          "data": {
            "text/html": [
              "<div>\n",
              "<style scoped>\n",
              "    .dataframe tbody tr th:only-of-type {\n",
              "        vertical-align: middle;\n",
              "    }\n",
              "\n",
              "    .dataframe tbody tr th {\n",
              "        vertical-align: top;\n",
              "    }\n",
              "\n",
              "    .dataframe thead th {\n",
              "        text-align: right;\n",
              "    }\n",
              "</style>\n",
              "<table border=\"1\" class=\"dataframe\">\n",
              "  <thead>\n",
              "    <tr style=\"text-align: right;\">\n",
              "      <th></th>\n",
              "      <th>기업명(국문)</th>\n",
              "      <th>신입초봉</th>\n",
              "      <th>주업무</th>\n",
              "    </tr>\n",
              "  </thead>\n",
              "  <tbody>\n",
              "    <tr>\n",
              "      <th>N사</th>\n",
              "      <td>네이버</td>\n",
              "      <td>4,500만원</td>\n",
              "      <td>데이터분석</td>\n",
              "    </tr>\n",
              "    <tr>\n",
              "      <th>K사</th>\n",
              "      <td>카카오</td>\n",
              "      <td>4,200만원</td>\n",
              "      <td>IT개발</td>\n",
              "    </tr>\n",
              "  </tbody>\n",
              "</table>\n",
              "</div>"
            ],
            "text/plain": [
              "   기업명(국문)     신입초봉    주업무\n",
              "N사     네이버  4,500만원  데이터분석\n",
              "K사     카카오  4,200만원   IT개발"
            ]
          },
          "metadata": {
            "tags": []
          },
          "execution_count": 107
        }
      ]
    },
    {
      "cell_type": "code",
      "metadata": {
        "colab": {
          "base_uri": "https://localhost:8080/"
        },
        "id": "oof1xZ5tDXDp",
        "outputId": "be838bb7-76b3-4dbc-829e-b199ef26c6aa"
      },
      "source": [
        "# 열 선택\n",
        "print('======= 단일 열 선택 =======')\n",
        "comp_df1['기업명(국문)']"
      ],
      "execution_count": null,
      "outputs": [
        {
          "output_type": "stream",
          "text": [
            "======= 단일 열 선택 =======\n"
          ],
          "name": "stdout"
        },
        {
          "output_type": "execute_result",
          "data": {
            "text/plain": [
              "N사       네이버\n",
              "K사       카카오\n",
              "S사      삼성전자\n",
              "Nx사    넥슨코리아\n",
              "C사        쿠팡\n",
              "Name: 기업명(국문), dtype: object"
            ]
          },
          "metadata": {
            "tags": []
          },
          "execution_count": 108
        }
      ]
    },
    {
      "cell_type": "code",
      "metadata": {
        "colab": {
          "base_uri": "https://localhost:8080/",
          "height": 213
        },
        "id": "k0JbQOsVlx-Y",
        "outputId": "d5f7a6d9-dc99-4203-dd35-7a861293fc8a"
      },
      "source": [
        "print('======= 다중 열 선택 =======')\n",
        "comp_df1[['기업명(국문)', '주업무']]"
      ],
      "execution_count": null,
      "outputs": [
        {
          "output_type": "stream",
          "text": [
            "======= 다중 열 선택 =======\n"
          ],
          "name": "stdout"
        },
        {
          "output_type": "execute_result",
          "data": {
            "text/html": [
              "<div>\n",
              "<style scoped>\n",
              "    .dataframe tbody tr th:only-of-type {\n",
              "        vertical-align: middle;\n",
              "    }\n",
              "\n",
              "    .dataframe tbody tr th {\n",
              "        vertical-align: top;\n",
              "    }\n",
              "\n",
              "    .dataframe thead th {\n",
              "        text-align: right;\n",
              "    }\n",
              "</style>\n",
              "<table border=\"1\" class=\"dataframe\">\n",
              "  <thead>\n",
              "    <tr style=\"text-align: right;\">\n",
              "      <th></th>\n",
              "      <th>기업명(국문)</th>\n",
              "      <th>주업무</th>\n",
              "    </tr>\n",
              "  </thead>\n",
              "  <tbody>\n",
              "    <tr>\n",
              "      <th>N사</th>\n",
              "      <td>네이버</td>\n",
              "      <td>데이터분석</td>\n",
              "    </tr>\n",
              "    <tr>\n",
              "      <th>K사</th>\n",
              "      <td>카카오</td>\n",
              "      <td>IT개발</td>\n",
              "    </tr>\n",
              "    <tr>\n",
              "      <th>S사</th>\n",
              "      <td>삼성전자</td>\n",
              "      <td>경영사무</td>\n",
              "    </tr>\n",
              "    <tr>\n",
              "      <th>Nx사</th>\n",
              "      <td>넥슨코리아</td>\n",
              "      <td>게임기획</td>\n",
              "    </tr>\n",
              "    <tr>\n",
              "      <th>C사</th>\n",
              "      <td>쿠팡</td>\n",
              "      <td>마케팅</td>\n",
              "    </tr>\n",
              "  </tbody>\n",
              "</table>\n",
              "</div>"
            ],
            "text/plain": [
              "    기업명(국문)    주업무\n",
              "N사      네이버  데이터분석\n",
              "K사      카카오   IT개발\n",
              "S사     삼성전자   경영사무\n",
              "Nx사   넥슨코리아   게임기획\n",
              "C사       쿠팡    마케팅"
            ]
          },
          "metadata": {
            "tags": []
          },
          "execution_count": 109
        }
      ]
    },
    {
      "cell_type": "code",
      "metadata": {
        "colab": {
          "base_uri": "https://localhost:8080/",
          "height": 35
        },
        "id": "dQReo9JTDYkt",
        "outputId": "db04014e-8d65-48f6-9c6c-c1caf02e6106"
      },
      "source": [
        "## 범위 선택 (행과 열)\n",
        "# loc 사용 시 : loc[행, 열]\n",
        "comp_df1.loc['S사', '주업무']"
      ],
      "execution_count": null,
      "outputs": [
        {
          "output_type": "execute_result",
          "data": {
            "application/vnd.google.colaboratory.intrinsic+json": {
              "type": "string"
            },
            "text/plain": [
              "'경영사무'"
            ]
          },
          "metadata": {
            "tags": []
          },
          "execution_count": 110
        }
      ]
    },
    {
      "cell_type": "code",
      "metadata": {
        "colab": {
          "base_uri": "https://localhost:8080/",
          "height": 35
        },
        "id": "vLoe5JU4cPi7",
        "outputId": "e9682312-cfc4-4615-df84-4efb4ff57888"
      },
      "source": [
        "# iloc 사용 시 : iloc[행, 열]\n",
        "comp_df1.iloc[0, 1]"
      ],
      "execution_count": null,
      "outputs": [
        {
          "output_type": "execute_result",
          "data": {
            "application/vnd.google.colaboratory.intrinsic+json": {
              "type": "string"
            },
            "text/plain": [
              "'4,500만원'"
            ]
          },
          "metadata": {
            "tags": []
          },
          "execution_count": 111
        }
      ]
    },
    {
      "cell_type": "code",
      "metadata": {
        "colab": {
          "base_uri": "https://localhost:8080/",
          "height": 225
        },
        "id": "r5-H2kRJDYdr",
        "outputId": "8dde1149-1565-433c-eb87-7c13cd44a19d"
      },
      "source": [
        "## 행 추가\n",
        "# loc 사용 시 : loc[사용할 인덱스명] = 데이터\n",
        "# iloc 사용 시 : iloc[사용할 인덱스번호] = 데이터\n",
        "comp_df1.loc['L사'] = ['LG전자', '4,400만원', 'R&D']\n",
        "comp_df1"
      ],
      "execution_count": null,
      "outputs": [
        {
          "output_type": "execute_result",
          "data": {
            "text/html": [
              "<div>\n",
              "<style scoped>\n",
              "    .dataframe tbody tr th:only-of-type {\n",
              "        vertical-align: middle;\n",
              "    }\n",
              "\n",
              "    .dataframe tbody tr th {\n",
              "        vertical-align: top;\n",
              "    }\n",
              "\n",
              "    .dataframe thead th {\n",
              "        text-align: right;\n",
              "    }\n",
              "</style>\n",
              "<table border=\"1\" class=\"dataframe\">\n",
              "  <thead>\n",
              "    <tr style=\"text-align: right;\">\n",
              "      <th></th>\n",
              "      <th>기업명(국문)</th>\n",
              "      <th>신입초봉</th>\n",
              "      <th>주업무</th>\n",
              "    </tr>\n",
              "  </thead>\n",
              "  <tbody>\n",
              "    <tr>\n",
              "      <th>N사</th>\n",
              "      <td>네이버</td>\n",
              "      <td>4,500만원</td>\n",
              "      <td>데이터분석</td>\n",
              "    </tr>\n",
              "    <tr>\n",
              "      <th>K사</th>\n",
              "      <td>카카오</td>\n",
              "      <td>4,200만원</td>\n",
              "      <td>IT개발</td>\n",
              "    </tr>\n",
              "    <tr>\n",
              "      <th>S사</th>\n",
              "      <td>삼성전자</td>\n",
              "      <td>4,000만원</td>\n",
              "      <td>경영사무</td>\n",
              "    </tr>\n",
              "    <tr>\n",
              "      <th>Nx사</th>\n",
              "      <td>넥슨코리아</td>\n",
              "      <td>3,600만원</td>\n",
              "      <td>게임기획</td>\n",
              "    </tr>\n",
              "    <tr>\n",
              "      <th>C사</th>\n",
              "      <td>쿠팡</td>\n",
              "      <td>4,000만원</td>\n",
              "      <td>마케팅</td>\n",
              "    </tr>\n",
              "    <tr>\n",
              "      <th>L사</th>\n",
              "      <td>LG전자</td>\n",
              "      <td>4,400만원</td>\n",
              "      <td>R&amp;D</td>\n",
              "    </tr>\n",
              "  </tbody>\n",
              "</table>\n",
              "</div>"
            ],
            "text/plain": [
              "    기업명(국문)     신입초봉    주업무\n",
              "N사      네이버  4,500만원  데이터분석\n",
              "K사      카카오  4,200만원   IT개발\n",
              "S사     삼성전자  4,000만원   경영사무\n",
              "Nx사   넥슨코리아  3,600만원   게임기획\n",
              "C사       쿠팡  4,000만원    마케팅\n",
              "L사     LG전자  4,400만원    R&D"
            ]
          },
          "metadata": {
            "tags": []
          },
          "execution_count": 112
        }
      ]
    },
    {
      "cell_type": "code",
      "metadata": {
        "colab": {
          "base_uri": "https://localhost:8080/",
          "height": 225
        },
        "id": "0MMOBdorDbdE",
        "outputId": "beaa1ab8-17bf-4911-abb3-4177eeab7be1"
      },
      "source": [
        "## 열 추가\n",
        "# DataFrame명[사용할 컬럼명] = 데이터\n",
        "comp_df1['경력요건'] = ['신입', '신입', '경력', '경력', '신입', '경력무관']\n",
        "comp_df1"
      ],
      "execution_count": null,
      "outputs": [
        {
          "output_type": "execute_result",
          "data": {
            "text/html": [
              "<div>\n",
              "<style scoped>\n",
              "    .dataframe tbody tr th:only-of-type {\n",
              "        vertical-align: middle;\n",
              "    }\n",
              "\n",
              "    .dataframe tbody tr th {\n",
              "        vertical-align: top;\n",
              "    }\n",
              "\n",
              "    .dataframe thead th {\n",
              "        text-align: right;\n",
              "    }\n",
              "</style>\n",
              "<table border=\"1\" class=\"dataframe\">\n",
              "  <thead>\n",
              "    <tr style=\"text-align: right;\">\n",
              "      <th></th>\n",
              "      <th>기업명(국문)</th>\n",
              "      <th>신입초봉</th>\n",
              "      <th>주업무</th>\n",
              "      <th>경력요건</th>\n",
              "    </tr>\n",
              "  </thead>\n",
              "  <tbody>\n",
              "    <tr>\n",
              "      <th>N사</th>\n",
              "      <td>네이버</td>\n",
              "      <td>4,500만원</td>\n",
              "      <td>데이터분석</td>\n",
              "      <td>신입</td>\n",
              "    </tr>\n",
              "    <tr>\n",
              "      <th>K사</th>\n",
              "      <td>카카오</td>\n",
              "      <td>4,200만원</td>\n",
              "      <td>IT개발</td>\n",
              "      <td>신입</td>\n",
              "    </tr>\n",
              "    <tr>\n",
              "      <th>S사</th>\n",
              "      <td>삼성전자</td>\n",
              "      <td>4,000만원</td>\n",
              "      <td>경영사무</td>\n",
              "      <td>경력</td>\n",
              "    </tr>\n",
              "    <tr>\n",
              "      <th>Nx사</th>\n",
              "      <td>넥슨코리아</td>\n",
              "      <td>3,600만원</td>\n",
              "      <td>게임기획</td>\n",
              "      <td>경력</td>\n",
              "    </tr>\n",
              "    <tr>\n",
              "      <th>C사</th>\n",
              "      <td>쿠팡</td>\n",
              "      <td>4,000만원</td>\n",
              "      <td>마케팅</td>\n",
              "      <td>신입</td>\n",
              "    </tr>\n",
              "    <tr>\n",
              "      <th>L사</th>\n",
              "      <td>LG전자</td>\n",
              "      <td>4,400만원</td>\n",
              "      <td>R&amp;D</td>\n",
              "      <td>경력무관</td>\n",
              "    </tr>\n",
              "  </tbody>\n",
              "</table>\n",
              "</div>"
            ],
            "text/plain": [
              "    기업명(국문)     신입초봉    주업무  경력요건\n",
              "N사      네이버  4,500만원  데이터분석    신입\n",
              "K사      카카오  4,200만원   IT개발    신입\n",
              "S사     삼성전자  4,000만원   경영사무    경력\n",
              "Nx사   넥슨코리아  3,600만원   게임기획    경력\n",
              "C사       쿠팡  4,000만원    마케팅    신입\n",
              "L사     LG전자  4,400만원    R&D  경력무관"
            ]
          },
          "metadata": {
            "tags": []
          },
          "execution_count": 113
        }
      ]
    },
    {
      "cell_type": "markdown",
      "metadata": {
        "id": "CbZ5ofYzgy4-"
      },
      "source": [
        "## 2-2. DataFrame 다루기 실습"
      ]
    },
    {
      "cell_type": "markdown",
      "metadata": {
        "id": "22nJIPkKhFE-"
      },
      "source": [
        "< 실습 자료 >    \n",
        "*    기업별 연봉, 채용직무, 규모를 통해 데이터프레임을 만들어보자.\n",
        "    *    ※ 해당 정보는 실제와 다를 수 있습니다.\n",
        "*    기업 종류 : SK텔레콤, 삼성전자, 넷마블, 카카오, 한국조폐공사\n",
        "*    기업별 연봉 정보\n",
        "    *    SK텔레콤     : 4,821만원\n",
        "    *    삼성전자     : 4,000만원\n",
        "    *    넷마블       : 3,500만원\n",
        "    *    카카오       : 4,200만원\n",
        "    *    한국조폐공사 : 2,862만원\n",
        "*    기업별 채용직무\n",
        "    *    SK텔레콤     : 서비스\n",
        "    *    삼성전자     : 영업\n",
        "    *    넷마블       : 디자인\n",
        "    *    카카오       : IT개발\n",
        "    *    한국조폐공사 : 경영사무\n",
        "*    기업별 규모\n",
        "    *    SK텔레콤     : 대기업\n",
        "    *    삼성전자     : 대기업\n",
        "    *    넷마블       : 중견기업\n",
        "    *    카카오       : 중견기업\n",
        "    *    한국조폐공사 : 공공기관\n",
        "\n",
        "< 조건 >\n",
        "1.    DataFrame를 만들 때, 어떤 방식을 사용해도 무관\n",
        "    *    Dictionary 형식, List 형식 등 자유롭게 사용\n",
        "2.    변수명은 자유롭게 정해도 괜찮으나 누구나 이해할 수 있도록 작성\n",
        "    *    변수는 명사로 작성하는 것이 좋음\n",
        "\n",
        "< 문제 >\n",
        "1.    기업별 정보 DataFrame를 만드시오.\n",
        "    - 행 : 0부터 정수 값\n",
        "    - 열 : 기업명, 기업규모, 채용직무, 연봉정보 (열 이름과 순서 지켜주세요!!!)\n",
        "2.    기업별 정보 DataFrame의 인덱스명을 아래와 같이 지정하시오.\n",
        "    - SK텔레콤 : T사, 삼성전자 : S사, 넷마블 : N사, 카카오 : K사, 한국조폐공사 : H사\n",
        "3.    기업별 정보 DataFrame의 컬럼 값을 아래와 같이 변경하시오.\n",
        "    - 채용직무 : 직군, 기업규모 : 기업형태\n",
        "4.    기업별 정보 DataFrame에서 삼성전자, 카카오, SK텔레콤의 정보만 출력하시오.\n",
        "5.    기업별 정보 DataFrame에서 모든 기업의 기업명과 연봉정보만 출력하시오.\n",
        "6.    기업별 정보 DataFrame에서 한국조폐공사이 정보를 삭제하시오.\n",
        "7.    기업별 정보 DataFrame에 아래 기업 정보를 추가하시오.\n",
        "    - 기업명 : 페이스북\n",
        "    - 인덱스명 : F사\n",
        "    - 기업형태 : 외국계\n",
        "    - 직군 : SNS운영\n",
        "    - 연봉정보 : 4,200만원\n",
        "8.    기업별 정보 DataFrame에 아래 컬럼을 추가하시오.\n",
        "    - 컬럼명 : 경력사항\n",
        "    - 컬럼내용 :\n",
        "        - SK텔레콤, 삼성전자는 신입\n",
        "        - 넷마블, 페이스북은 경력\n",
        "        - 카카오는 경력무관"
      ]
    },
    {
      "cell_type": "code",
      "metadata": {
        "id": "RSU4dV63DgpZ",
        "colab": {
          "base_uri": "https://localhost:8080/",
          "height": 204
        },
        "outputId": "47392020-fdef-4553-e1d6-44d7ca69c3db"
      },
      "source": [
        "# 문제 1. 기업별 정보 DataFrame를 만드시오.\n",
        "# 코드 작성\n",
        "job_dict = {'기업명':['SK텔레콤', '삼성전자', '넷마블', '카카오', '한국조폐공사'],\n",
        "            '기업규모':['대기업', '대기업', '중견기업', '중견기업', '공공기관'], \n",
        "            '채용직무':['서비스', '영업', '디자인', 'IT개발', '경영사무'], \n",
        "            '연봉정보':['4,821만원', '4,000만원', '3,500만원', '4,200만원', '2,862만원']}\n",
        "job_df1 = pd.DataFrame(job_dict, index = [0,1,2,3,4])\n",
        "job_df1"
      ],
      "execution_count": null,
      "outputs": [
        {
          "output_type": "execute_result",
          "data": {
            "text/html": [
              "<div>\n",
              "<style scoped>\n",
              "    .dataframe tbody tr th:only-of-type {\n",
              "        vertical-align: middle;\n",
              "    }\n",
              "\n",
              "    .dataframe tbody tr th {\n",
              "        vertical-align: top;\n",
              "    }\n",
              "\n",
              "    .dataframe thead th {\n",
              "        text-align: right;\n",
              "    }\n",
              "</style>\n",
              "<table border=\"1\" class=\"dataframe\">\n",
              "  <thead>\n",
              "    <tr style=\"text-align: right;\">\n",
              "      <th></th>\n",
              "      <th>기업명</th>\n",
              "      <th>기업규모</th>\n",
              "      <th>채용직무</th>\n",
              "      <th>연봉정보</th>\n",
              "    </tr>\n",
              "  </thead>\n",
              "  <tbody>\n",
              "    <tr>\n",
              "      <th>0</th>\n",
              "      <td>SK텔레콤</td>\n",
              "      <td>대기업</td>\n",
              "      <td>서비스</td>\n",
              "      <td>4,821만원</td>\n",
              "    </tr>\n",
              "    <tr>\n",
              "      <th>1</th>\n",
              "      <td>삼성전자</td>\n",
              "      <td>대기업</td>\n",
              "      <td>영업</td>\n",
              "      <td>4,000만원</td>\n",
              "    </tr>\n",
              "    <tr>\n",
              "      <th>2</th>\n",
              "      <td>넷마블</td>\n",
              "      <td>중견기업</td>\n",
              "      <td>디자인</td>\n",
              "      <td>3,500만원</td>\n",
              "    </tr>\n",
              "    <tr>\n",
              "      <th>3</th>\n",
              "      <td>카카오</td>\n",
              "      <td>중견기업</td>\n",
              "      <td>IT개발</td>\n",
              "      <td>4,200만원</td>\n",
              "    </tr>\n",
              "    <tr>\n",
              "      <th>4</th>\n",
              "      <td>한국조폐공사</td>\n",
              "      <td>공공기관</td>\n",
              "      <td>경영사무</td>\n",
              "      <td>2,862만원</td>\n",
              "    </tr>\n",
              "  </tbody>\n",
              "</table>\n",
              "</div>"
            ],
            "text/plain": [
              "      기업명  기업규모  채용직무     연봉정보\n",
              "0   SK텔레콤   대기업   서비스  4,821만원\n",
              "1    삼성전자   대기업    영업  4,000만원\n",
              "2     넷마블  중견기업   디자인  3,500만원\n",
              "3     카카오  중견기업  IT개발  4,200만원\n",
              "4  한국조폐공사  공공기관  경영사무  2,862만원"
            ]
          },
          "metadata": {
            "tags": []
          },
          "execution_count": 42
        }
      ]
    },
    {
      "cell_type": "code",
      "metadata": {
        "id": "zRdBq4v99z_B",
        "colab": {
          "base_uri": "https://localhost:8080/",
          "height": 204
        },
        "outputId": "5f655e4d-0430-4e4b-d935-ca487b2a6993"
      },
      "source": [
        "# 문제 2. 기업별 정보 DataFrame의 인덱스명을 아래와 같이 지정하시오.\n",
        "# 코드 작성\n",
        "job_df1.rename(index = {0:'T사', 1:'S사', 2:'N사', 3:'K사', 4:'H사'}, inplace = True)\n",
        "job_df1"
      ],
      "execution_count": null,
      "outputs": [
        {
          "output_type": "execute_result",
          "data": {
            "text/html": [
              "<div>\n",
              "<style scoped>\n",
              "    .dataframe tbody tr th:only-of-type {\n",
              "        vertical-align: middle;\n",
              "    }\n",
              "\n",
              "    .dataframe tbody tr th {\n",
              "        vertical-align: top;\n",
              "    }\n",
              "\n",
              "    .dataframe thead th {\n",
              "        text-align: right;\n",
              "    }\n",
              "</style>\n",
              "<table border=\"1\" class=\"dataframe\">\n",
              "  <thead>\n",
              "    <tr style=\"text-align: right;\">\n",
              "      <th></th>\n",
              "      <th>기업명</th>\n",
              "      <th>기업규모</th>\n",
              "      <th>채용직무</th>\n",
              "      <th>연봉정보</th>\n",
              "    </tr>\n",
              "  </thead>\n",
              "  <tbody>\n",
              "    <tr>\n",
              "      <th>T사</th>\n",
              "      <td>SK텔레콤</td>\n",
              "      <td>대기업</td>\n",
              "      <td>서비스</td>\n",
              "      <td>4,821만원</td>\n",
              "    </tr>\n",
              "    <tr>\n",
              "      <th>S사</th>\n",
              "      <td>삼성전자</td>\n",
              "      <td>대기업</td>\n",
              "      <td>영업</td>\n",
              "      <td>4,000만원</td>\n",
              "    </tr>\n",
              "    <tr>\n",
              "      <th>N사</th>\n",
              "      <td>넷마블</td>\n",
              "      <td>중견기업</td>\n",
              "      <td>디자인</td>\n",
              "      <td>3,500만원</td>\n",
              "    </tr>\n",
              "    <tr>\n",
              "      <th>K사</th>\n",
              "      <td>카카오</td>\n",
              "      <td>중견기업</td>\n",
              "      <td>IT개발</td>\n",
              "      <td>4,200만원</td>\n",
              "    </tr>\n",
              "    <tr>\n",
              "      <th>H사</th>\n",
              "      <td>한국조폐공사</td>\n",
              "      <td>공공기관</td>\n",
              "      <td>경영사무</td>\n",
              "      <td>2,862만원</td>\n",
              "    </tr>\n",
              "  </tbody>\n",
              "</table>\n",
              "</div>"
            ],
            "text/plain": [
              "       기업명  기업규모  채용직무     연봉정보\n",
              "T사   SK텔레콤   대기업   서비스  4,821만원\n",
              "S사    삼성전자   대기업    영업  4,000만원\n",
              "N사     넷마블  중견기업   디자인  3,500만원\n",
              "K사     카카오  중견기업  IT개발  4,200만원\n",
              "H사  한국조폐공사  공공기관  경영사무  2,862만원"
            ]
          },
          "metadata": {
            "tags": []
          },
          "execution_count": 43
        }
      ]
    },
    {
      "cell_type": "code",
      "metadata": {
        "id": "y3q9ryWh9z3C",
        "colab": {
          "base_uri": "https://localhost:8080/",
          "height": 204
        },
        "outputId": "d4773d81-d3eb-4ba5-c711-111e7135bcd3"
      },
      "source": [
        "# 문제 3. 기업별 정보 DataFrame의 컬럼 값을 아래와 같이 변경하시오.\n",
        "# 코드 작성\n",
        "job_df1.rename(columns = {'채용직무':'직군', '기업규모':'기업형태'}, inplace = True)\n",
        "job_df1"
      ],
      "execution_count": null,
      "outputs": [
        {
          "output_type": "execute_result",
          "data": {
            "text/html": [
              "<div>\n",
              "<style scoped>\n",
              "    .dataframe tbody tr th:only-of-type {\n",
              "        vertical-align: middle;\n",
              "    }\n",
              "\n",
              "    .dataframe tbody tr th {\n",
              "        vertical-align: top;\n",
              "    }\n",
              "\n",
              "    .dataframe thead th {\n",
              "        text-align: right;\n",
              "    }\n",
              "</style>\n",
              "<table border=\"1\" class=\"dataframe\">\n",
              "  <thead>\n",
              "    <tr style=\"text-align: right;\">\n",
              "      <th></th>\n",
              "      <th>기업명</th>\n",
              "      <th>기업형태</th>\n",
              "      <th>직군</th>\n",
              "      <th>연봉정보</th>\n",
              "    </tr>\n",
              "  </thead>\n",
              "  <tbody>\n",
              "    <tr>\n",
              "      <th>T사</th>\n",
              "      <td>SK텔레콤</td>\n",
              "      <td>대기업</td>\n",
              "      <td>서비스</td>\n",
              "      <td>4,821만원</td>\n",
              "    </tr>\n",
              "    <tr>\n",
              "      <th>S사</th>\n",
              "      <td>삼성전자</td>\n",
              "      <td>대기업</td>\n",
              "      <td>영업</td>\n",
              "      <td>4,000만원</td>\n",
              "    </tr>\n",
              "    <tr>\n",
              "      <th>N사</th>\n",
              "      <td>넷마블</td>\n",
              "      <td>중견기업</td>\n",
              "      <td>디자인</td>\n",
              "      <td>3,500만원</td>\n",
              "    </tr>\n",
              "    <tr>\n",
              "      <th>K사</th>\n",
              "      <td>카카오</td>\n",
              "      <td>중견기업</td>\n",
              "      <td>IT개발</td>\n",
              "      <td>4,200만원</td>\n",
              "    </tr>\n",
              "    <tr>\n",
              "      <th>H사</th>\n",
              "      <td>한국조폐공사</td>\n",
              "      <td>공공기관</td>\n",
              "      <td>경영사무</td>\n",
              "      <td>2,862만원</td>\n",
              "    </tr>\n",
              "  </tbody>\n",
              "</table>\n",
              "</div>"
            ],
            "text/plain": [
              "       기업명  기업형태    직군     연봉정보\n",
              "T사   SK텔레콤   대기업   서비스  4,821만원\n",
              "S사    삼성전자   대기업    영업  4,000만원\n",
              "N사     넷마블  중견기업   디자인  3,500만원\n",
              "K사     카카오  중견기업  IT개발  4,200만원\n",
              "H사  한국조폐공사  공공기관  경영사무  2,862만원"
            ]
          },
          "metadata": {
            "tags": []
          },
          "execution_count": 44
        }
      ]
    },
    {
      "cell_type": "code",
      "metadata": {
        "id": "Er8_-E479zuu",
        "colab": {
          "base_uri": "https://localhost:8080/",
          "height": 142
        },
        "outputId": "f454785a-6ea2-4f13-edb2-bc9c544136b0"
      },
      "source": [
        "# 문제 4. 기업별 정보 DataFrame에서 삼성전자, 카카오, SK텔레콤의 정보만 출력하시오.\n",
        "# 코드 작성\n",
        "job_df1.iloc[[1,3,0]]"
      ],
      "execution_count": null,
      "outputs": [
        {
          "output_type": "execute_result",
          "data": {
            "text/html": [
              "<div>\n",
              "<style scoped>\n",
              "    .dataframe tbody tr th:only-of-type {\n",
              "        vertical-align: middle;\n",
              "    }\n",
              "\n",
              "    .dataframe tbody tr th {\n",
              "        vertical-align: top;\n",
              "    }\n",
              "\n",
              "    .dataframe thead th {\n",
              "        text-align: right;\n",
              "    }\n",
              "</style>\n",
              "<table border=\"1\" class=\"dataframe\">\n",
              "  <thead>\n",
              "    <tr style=\"text-align: right;\">\n",
              "      <th></th>\n",
              "      <th>기업명</th>\n",
              "      <th>기업형태</th>\n",
              "      <th>직군</th>\n",
              "      <th>연봉정보</th>\n",
              "    </tr>\n",
              "  </thead>\n",
              "  <tbody>\n",
              "    <tr>\n",
              "      <th>S사</th>\n",
              "      <td>삼성전자</td>\n",
              "      <td>대기업</td>\n",
              "      <td>영업</td>\n",
              "      <td>4,000만원</td>\n",
              "    </tr>\n",
              "    <tr>\n",
              "      <th>K사</th>\n",
              "      <td>카카오</td>\n",
              "      <td>중견기업</td>\n",
              "      <td>IT개발</td>\n",
              "      <td>4,200만원</td>\n",
              "    </tr>\n",
              "    <tr>\n",
              "      <th>T사</th>\n",
              "      <td>SK텔레콤</td>\n",
              "      <td>대기업</td>\n",
              "      <td>서비스</td>\n",
              "      <td>4,821만원</td>\n",
              "    </tr>\n",
              "  </tbody>\n",
              "</table>\n",
              "</div>"
            ],
            "text/plain": [
              "      기업명  기업형태    직군     연봉정보\n",
              "S사   삼성전자   대기업    영업  4,000만원\n",
              "K사    카카오  중견기업  IT개발  4,200만원\n",
              "T사  SK텔레콤   대기업   서비스  4,821만원"
            ]
          },
          "metadata": {
            "tags": []
          },
          "execution_count": 45
        }
      ]
    },
    {
      "cell_type": "code",
      "metadata": {
        "id": "pOOF0rHA9zmg",
        "colab": {
          "base_uri": "https://localhost:8080/",
          "height": 204
        },
        "outputId": "c95c3787-5e8d-44fb-e486-8b5a73221e10"
      },
      "source": [
        "# 문제 5. 기업별 정보 DataFrame에서 모든 기업의 기업명과 연봉정보만 출력하시오.\n",
        "# 코드 작성\n",
        "job_df1[['기업명', '연봉정보']]"
      ],
      "execution_count": null,
      "outputs": [
        {
          "output_type": "execute_result",
          "data": {
            "text/html": [
              "<div>\n",
              "<style scoped>\n",
              "    .dataframe tbody tr th:only-of-type {\n",
              "        vertical-align: middle;\n",
              "    }\n",
              "\n",
              "    .dataframe tbody tr th {\n",
              "        vertical-align: top;\n",
              "    }\n",
              "\n",
              "    .dataframe thead th {\n",
              "        text-align: right;\n",
              "    }\n",
              "</style>\n",
              "<table border=\"1\" class=\"dataframe\">\n",
              "  <thead>\n",
              "    <tr style=\"text-align: right;\">\n",
              "      <th></th>\n",
              "      <th>기업명</th>\n",
              "      <th>연봉정보</th>\n",
              "    </tr>\n",
              "  </thead>\n",
              "  <tbody>\n",
              "    <tr>\n",
              "      <th>T사</th>\n",
              "      <td>SK텔레콤</td>\n",
              "      <td>4,821만원</td>\n",
              "    </tr>\n",
              "    <tr>\n",
              "      <th>S사</th>\n",
              "      <td>삼성전자</td>\n",
              "      <td>4,000만원</td>\n",
              "    </tr>\n",
              "    <tr>\n",
              "      <th>N사</th>\n",
              "      <td>넷마블</td>\n",
              "      <td>3,500만원</td>\n",
              "    </tr>\n",
              "    <tr>\n",
              "      <th>K사</th>\n",
              "      <td>카카오</td>\n",
              "      <td>4,200만원</td>\n",
              "    </tr>\n",
              "    <tr>\n",
              "      <th>H사</th>\n",
              "      <td>한국조폐공사</td>\n",
              "      <td>2,862만원</td>\n",
              "    </tr>\n",
              "  </tbody>\n",
              "</table>\n",
              "</div>"
            ],
            "text/plain": [
              "       기업명     연봉정보\n",
              "T사   SK텔레콤  4,821만원\n",
              "S사    삼성전자  4,000만원\n",
              "N사     넷마블  3,500만원\n",
              "K사     카카오  4,200만원\n",
              "H사  한국조폐공사  2,862만원"
            ]
          },
          "metadata": {
            "tags": []
          },
          "execution_count": 46
        }
      ]
    },
    {
      "cell_type": "code",
      "metadata": {
        "id": "fh7rnrJb9zep",
        "colab": {
          "base_uri": "https://localhost:8080/",
          "height": 173
        },
        "outputId": "834c995d-f1b6-4df9-89ba-12a357db9901"
      },
      "source": [
        "# 문제 6. 기업별 정보 DataFrame에서 한국조폐공사의 정보를 삭제하시오.\n",
        "# 코드 작성\n",
        "job_df1.drop('H사', axis = 0, inplace = True)\n",
        "job_df1"
      ],
      "execution_count": null,
      "outputs": [
        {
          "output_type": "execute_result",
          "data": {
            "text/html": [
              "<div>\n",
              "<style scoped>\n",
              "    .dataframe tbody tr th:only-of-type {\n",
              "        vertical-align: middle;\n",
              "    }\n",
              "\n",
              "    .dataframe tbody tr th {\n",
              "        vertical-align: top;\n",
              "    }\n",
              "\n",
              "    .dataframe thead th {\n",
              "        text-align: right;\n",
              "    }\n",
              "</style>\n",
              "<table border=\"1\" class=\"dataframe\">\n",
              "  <thead>\n",
              "    <tr style=\"text-align: right;\">\n",
              "      <th></th>\n",
              "      <th>기업명</th>\n",
              "      <th>기업형태</th>\n",
              "      <th>직군</th>\n",
              "      <th>연봉정보</th>\n",
              "    </tr>\n",
              "  </thead>\n",
              "  <tbody>\n",
              "    <tr>\n",
              "      <th>T사</th>\n",
              "      <td>SK텔레콤</td>\n",
              "      <td>대기업</td>\n",
              "      <td>서비스</td>\n",
              "      <td>4,821만원</td>\n",
              "    </tr>\n",
              "    <tr>\n",
              "      <th>S사</th>\n",
              "      <td>삼성전자</td>\n",
              "      <td>대기업</td>\n",
              "      <td>영업</td>\n",
              "      <td>4,000만원</td>\n",
              "    </tr>\n",
              "    <tr>\n",
              "      <th>N사</th>\n",
              "      <td>넷마블</td>\n",
              "      <td>중견기업</td>\n",
              "      <td>디자인</td>\n",
              "      <td>3,500만원</td>\n",
              "    </tr>\n",
              "    <tr>\n",
              "      <th>K사</th>\n",
              "      <td>카카오</td>\n",
              "      <td>중견기업</td>\n",
              "      <td>IT개발</td>\n",
              "      <td>4,200만원</td>\n",
              "    </tr>\n",
              "  </tbody>\n",
              "</table>\n",
              "</div>"
            ],
            "text/plain": [
              "      기업명  기업형태    직군     연봉정보\n",
              "T사  SK텔레콤   대기업   서비스  4,821만원\n",
              "S사   삼성전자   대기업    영업  4,000만원\n",
              "N사    넷마블  중견기업   디자인  3,500만원\n",
              "K사    카카오  중견기업  IT개발  4,200만원"
            ]
          },
          "metadata": {
            "tags": []
          },
          "execution_count": 47
        }
      ]
    },
    {
      "cell_type": "code",
      "metadata": {
        "id": "reSG0x409zVO",
        "colab": {
          "base_uri": "https://localhost:8080/",
          "height": 204
        },
        "outputId": "32876911-50af-4ec8-e331-5565971c9722"
      },
      "source": [
        "# 문제 7. 기업별 정보 DataFrame에 아래 기업 정보를 추가하시오.\n",
        "# 코드 작성\n",
        "job_df1.loc['F사'] = ['페이스북', '외국계', 'SNS운영', '4,200만원']\n",
        "job_df1"
      ],
      "execution_count": null,
      "outputs": [
        {
          "output_type": "execute_result",
          "data": {
            "text/html": [
              "<div>\n",
              "<style scoped>\n",
              "    .dataframe tbody tr th:only-of-type {\n",
              "        vertical-align: middle;\n",
              "    }\n",
              "\n",
              "    .dataframe tbody tr th {\n",
              "        vertical-align: top;\n",
              "    }\n",
              "\n",
              "    .dataframe thead th {\n",
              "        text-align: right;\n",
              "    }\n",
              "</style>\n",
              "<table border=\"1\" class=\"dataframe\">\n",
              "  <thead>\n",
              "    <tr style=\"text-align: right;\">\n",
              "      <th></th>\n",
              "      <th>기업명</th>\n",
              "      <th>기업형태</th>\n",
              "      <th>직군</th>\n",
              "      <th>연봉정보</th>\n",
              "    </tr>\n",
              "  </thead>\n",
              "  <tbody>\n",
              "    <tr>\n",
              "      <th>T사</th>\n",
              "      <td>SK텔레콤</td>\n",
              "      <td>대기업</td>\n",
              "      <td>서비스</td>\n",
              "      <td>4,821만원</td>\n",
              "    </tr>\n",
              "    <tr>\n",
              "      <th>S사</th>\n",
              "      <td>삼성전자</td>\n",
              "      <td>대기업</td>\n",
              "      <td>영업</td>\n",
              "      <td>4,000만원</td>\n",
              "    </tr>\n",
              "    <tr>\n",
              "      <th>N사</th>\n",
              "      <td>넷마블</td>\n",
              "      <td>중견기업</td>\n",
              "      <td>디자인</td>\n",
              "      <td>3,500만원</td>\n",
              "    </tr>\n",
              "    <tr>\n",
              "      <th>K사</th>\n",
              "      <td>카카오</td>\n",
              "      <td>중견기업</td>\n",
              "      <td>IT개발</td>\n",
              "      <td>4,200만원</td>\n",
              "    </tr>\n",
              "    <tr>\n",
              "      <th>F사</th>\n",
              "      <td>페이스북</td>\n",
              "      <td>외국계</td>\n",
              "      <td>SNS운영</td>\n",
              "      <td>4,200만원</td>\n",
              "    </tr>\n",
              "  </tbody>\n",
              "</table>\n",
              "</div>"
            ],
            "text/plain": [
              "      기업명  기업형태     직군     연봉정보\n",
              "T사  SK텔레콤   대기업    서비스  4,821만원\n",
              "S사   삼성전자   대기업     영업  4,000만원\n",
              "N사    넷마블  중견기업    디자인  3,500만원\n",
              "K사    카카오  중견기업   IT개발  4,200만원\n",
              "F사   페이스북   외국계  SNS운영  4,200만원"
            ]
          },
          "metadata": {
            "tags": []
          },
          "execution_count": 48
        }
      ]
    },
    {
      "cell_type": "code",
      "metadata": {
        "id": "iuOnCAQg9zNV",
        "colab": {
          "base_uri": "https://localhost:8080/",
          "height": 204
        },
        "outputId": "ba477525-6e48-414a-8061-b29ccd88eee4"
      },
      "source": [
        "# 문제 8. 기업별 정보 DataFrame에 아래 컬럼을 추가하시오.\n",
        "# 코드 작성\n",
        "job_df1['경력사항'] = ['신입', '신입', '경력', '경력무관', '경력']\n",
        "job_df1"
      ],
      "execution_count": null,
      "outputs": [
        {
          "output_type": "execute_result",
          "data": {
            "text/html": [
              "<div>\n",
              "<style scoped>\n",
              "    .dataframe tbody tr th:only-of-type {\n",
              "        vertical-align: middle;\n",
              "    }\n",
              "\n",
              "    .dataframe tbody tr th {\n",
              "        vertical-align: top;\n",
              "    }\n",
              "\n",
              "    .dataframe thead th {\n",
              "        text-align: right;\n",
              "    }\n",
              "</style>\n",
              "<table border=\"1\" class=\"dataframe\">\n",
              "  <thead>\n",
              "    <tr style=\"text-align: right;\">\n",
              "      <th></th>\n",
              "      <th>기업명</th>\n",
              "      <th>기업형태</th>\n",
              "      <th>직군</th>\n",
              "      <th>연봉정보</th>\n",
              "      <th>경력사항</th>\n",
              "    </tr>\n",
              "  </thead>\n",
              "  <tbody>\n",
              "    <tr>\n",
              "      <th>T사</th>\n",
              "      <td>SK텔레콤</td>\n",
              "      <td>대기업</td>\n",
              "      <td>서비스</td>\n",
              "      <td>4,821만원</td>\n",
              "      <td>신입</td>\n",
              "    </tr>\n",
              "    <tr>\n",
              "      <th>S사</th>\n",
              "      <td>삼성전자</td>\n",
              "      <td>대기업</td>\n",
              "      <td>영업</td>\n",
              "      <td>4,000만원</td>\n",
              "      <td>신입</td>\n",
              "    </tr>\n",
              "    <tr>\n",
              "      <th>N사</th>\n",
              "      <td>넷마블</td>\n",
              "      <td>중견기업</td>\n",
              "      <td>디자인</td>\n",
              "      <td>3,500만원</td>\n",
              "      <td>경력</td>\n",
              "    </tr>\n",
              "    <tr>\n",
              "      <th>K사</th>\n",
              "      <td>카카오</td>\n",
              "      <td>중견기업</td>\n",
              "      <td>IT개발</td>\n",
              "      <td>4,200만원</td>\n",
              "      <td>경력무관</td>\n",
              "    </tr>\n",
              "    <tr>\n",
              "      <th>F사</th>\n",
              "      <td>페이스북</td>\n",
              "      <td>외국계</td>\n",
              "      <td>SNS운영</td>\n",
              "      <td>4,200만원</td>\n",
              "      <td>경력</td>\n",
              "    </tr>\n",
              "  </tbody>\n",
              "</table>\n",
              "</div>"
            ],
            "text/plain": [
              "      기업명  기업형태     직군     연봉정보  경력사항\n",
              "T사  SK텔레콤   대기업    서비스  4,821만원    신입\n",
              "S사   삼성전자   대기업     영업  4,000만원    신입\n",
              "N사    넷마블  중견기업    디자인  3,500만원    경력\n",
              "K사    카카오  중견기업   IT개발  4,200만원  경력무관\n",
              "F사   페이스북   외국계  SNS운영  4,200만원    경력"
            ]
          },
          "metadata": {
            "tags": []
          },
          "execution_count": 50
        }
      ]
    },
    {
      "cell_type": "markdown",
      "metadata": {
        "id": "1lU9s5Bj-qHk"
      },
      "source": [
        "# STEP 3. Pandas로 데이터 다루기\n",
        "\n",
        "* Pandas의 다양한 기능을 사용하여 데이터를 다뤄본다"
      ]
    },
    {
      "cell_type": "markdown",
      "metadata": {
        "id": "N4S_wuSm-5-C"
      },
      "source": [
        "< Pandas 함수 >\n",
        "* 상단 5항목 보기 : 데이터프레임.head()\n",
        "* 하단 5항목 보기 : 데이터프레임.tail()\n",
        "* (행, 열) 크기 확인하기 : 데이터프레임.shape\n",
        "* 전반적인 정보 확인하기 : 데이터프레임.info()\n",
        "* 요약 통계량 확인하기 : 데이터프레임.describe()\n",
        "* 정렬해서 보기 : 데이터프레임.sort_values(by=['컬럼명'])\n",
        "* Null값(빈 값) 체우기 : 데이터프레임.fillna(0)\n",
        "* 합계 구하기 : 데이터프레임['컬럼명'].sum()\n",
        "* 평균 구하기 : 데이터프레임['컬럼명'].mean()\n",
        "* 조건으로 탐색하기 : 데이터프레임[조건식]\n",
        "\n",
        "< 실습 내용 >\n",
        "* 서울시CCTV 데이터를 가지고 함수를 다양하게 적용해보세요."
      ]
    },
    {
      "cell_type": "code",
      "metadata": {
        "id": "Akh31djtcQ3a"
      },
      "source": [
        "# 데이터 불러오기\n",
        "cctv_df = pd.read_excel('seoul_cctv.xlsx')"
      ],
      "execution_count": null,
      "outputs": []
    },
    {
      "cell_type": "code",
      "metadata": {
        "id": "jRBP2mwtALmW",
        "colab": {
          "base_uri": "https://localhost:8080/",
          "height": 204
        },
        "outputId": "110fc8b1-c25c-45b9-f0ae-2ee2d2896ec5"
      },
      "source": [
        "# 상단 5항목 보기\n",
        "cctv_df.head()"
      ],
      "execution_count": null,
      "outputs": [
        {
          "output_type": "execute_result",
          "data": {
            "text/html": [
              "<div>\n",
              "<style scoped>\n",
              "    .dataframe tbody tr th:only-of-type {\n",
              "        vertical-align: middle;\n",
              "    }\n",
              "\n",
              "    .dataframe tbody tr th {\n",
              "        vertical-align: top;\n",
              "    }\n",
              "\n",
              "    .dataframe thead th {\n",
              "        text-align: right;\n",
              "    }\n",
              "</style>\n",
              "<table border=\"1\" class=\"dataframe\">\n",
              "  <thead>\n",
              "    <tr style=\"text-align: right;\">\n",
              "      <th></th>\n",
              "      <th>기관명</th>\n",
              "      <th>소계</th>\n",
              "      <th>2011년 이전</th>\n",
              "      <th>2012년</th>\n",
              "      <th>2013년</th>\n",
              "      <th>2014년</th>\n",
              "      <th>2015년</th>\n",
              "      <th>2016년</th>\n",
              "      <th>2017년</th>\n",
              "      <th>2018년</th>\n",
              "    </tr>\n",
              "  </thead>\n",
              "  <tbody>\n",
              "    <tr>\n",
              "      <th>0</th>\n",
              "      <td>강 남 구</td>\n",
              "      <td>5221</td>\n",
              "      <td>1944.0</td>\n",
              "      <td>195.0</td>\n",
              "      <td>316.0</td>\n",
              "      <td>430</td>\n",
              "      <td>546</td>\n",
              "      <td>765</td>\n",
              "      <td>577</td>\n",
              "      <td>448</td>\n",
              "    </tr>\n",
              "    <tr>\n",
              "      <th>1</th>\n",
              "      <td>강 동 구</td>\n",
              "      <td>1879</td>\n",
              "      <td>303.0</td>\n",
              "      <td>387.0</td>\n",
              "      <td>134.0</td>\n",
              "      <td>59</td>\n",
              "      <td>144</td>\n",
              "      <td>194</td>\n",
              "      <td>273</td>\n",
              "      <td>385</td>\n",
              "    </tr>\n",
              "    <tr>\n",
              "      <th>2</th>\n",
              "      <td>강 북 구</td>\n",
              "      <td>1265</td>\n",
              "      <td>243.0</td>\n",
              "      <td>88.0</td>\n",
              "      <td>141.0</td>\n",
              "      <td>74</td>\n",
              "      <td>145</td>\n",
              "      <td>254</td>\n",
              "      <td>1</td>\n",
              "      <td>319</td>\n",
              "    </tr>\n",
              "    <tr>\n",
              "      <th>3</th>\n",
              "      <td>강 서 구</td>\n",
              "      <td>1617</td>\n",
              "      <td>219.0</td>\n",
              "      <td>155.0</td>\n",
              "      <td>118.0</td>\n",
              "      <td>230</td>\n",
              "      <td>187</td>\n",
              "      <td>190</td>\n",
              "      <td>264</td>\n",
              "      <td>254</td>\n",
              "    </tr>\n",
              "    <tr>\n",
              "      <th>4</th>\n",
              "      <td>관 악 구</td>\n",
              "      <td>3985</td>\n",
              "      <td>430.0</td>\n",
              "      <td>56.0</td>\n",
              "      <td>419.0</td>\n",
              "      <td>487</td>\n",
              "      <td>609</td>\n",
              "      <td>619</td>\n",
              "      <td>694</td>\n",
              "      <td>671</td>\n",
              "    </tr>\n",
              "  </tbody>\n",
              "</table>\n",
              "</div>"
            ],
            "text/plain": [
              "     기관명    소계  2011년 이전  2012년  2013년  2014년  2015년  2016년  2017년  2018년\n",
              "0  강 남 구  5221    1944.0  195.0  316.0    430    546    765    577    448\n",
              "1  강 동 구  1879     303.0  387.0  134.0     59    144    194    273    385\n",
              "2  강 북 구  1265     243.0   88.0  141.0     74    145    254      1    319\n",
              "3  강 서 구  1617     219.0  155.0  118.0    230    187    190    264    254\n",
              "4  관 악 구  3985     430.0   56.0  419.0    487    609    619    694    671"
            ]
          },
          "metadata": {
            "tags": []
          },
          "execution_count": 6
        }
      ]
    },
    {
      "cell_type": "code",
      "metadata": {
        "id": "iLqi7rFqdLqp",
        "colab": {
          "base_uri": "https://localhost:8080/",
          "height": 204
        },
        "outputId": "8dbe47a8-c8ad-48a0-fc11-1095a3c88672"
      },
      "source": [
        "# 하단 5항목 보기\n",
        "cctv_df.tail()"
      ],
      "execution_count": null,
      "outputs": [
        {
          "output_type": "execute_result",
          "data": {
            "text/html": [
              "<div>\n",
              "<style scoped>\n",
              "    .dataframe tbody tr th:only-of-type {\n",
              "        vertical-align: middle;\n",
              "    }\n",
              "\n",
              "    .dataframe tbody tr th {\n",
              "        vertical-align: top;\n",
              "    }\n",
              "\n",
              "    .dataframe thead th {\n",
              "        text-align: right;\n",
              "    }\n",
              "</style>\n",
              "<table border=\"1\" class=\"dataframe\">\n",
              "  <thead>\n",
              "    <tr style=\"text-align: right;\">\n",
              "      <th></th>\n",
              "      <th>기관명</th>\n",
              "      <th>소계</th>\n",
              "      <th>2011년 이전</th>\n",
              "      <th>2012년</th>\n",
              "      <th>2013년</th>\n",
              "      <th>2014년</th>\n",
              "      <th>2015년</th>\n",
              "      <th>2016년</th>\n",
              "      <th>2017년</th>\n",
              "      <th>2018년</th>\n",
              "    </tr>\n",
              "  </thead>\n",
              "  <tbody>\n",
              "    <tr>\n",
              "      <th>20</th>\n",
              "      <td>용 산 구</td>\n",
              "      <td>2063</td>\n",
              "      <td>1279.0</td>\n",
              "      <td>152.0</td>\n",
              "      <td>201.0</td>\n",
              "      <td>107</td>\n",
              "      <td>102</td>\n",
              "      <td>89</td>\n",
              "      <td>60</td>\n",
              "      <td>73</td>\n",
              "    </tr>\n",
              "    <tr>\n",
              "      <th>21</th>\n",
              "      <td>은 평 구</td>\n",
              "      <td>2962</td>\n",
              "      <td>1365.0</td>\n",
              "      <td>83.0</td>\n",
              "      <td>99.0</td>\n",
              "      <td>343</td>\n",
              "      <td>180</td>\n",
              "      <td>296</td>\n",
              "      <td>229</td>\n",
              "      <td>367</td>\n",
              "    </tr>\n",
              "    <tr>\n",
              "      <th>22</th>\n",
              "      <td>종 로 구</td>\n",
              "      <td>1471</td>\n",
              "      <td>8.0</td>\n",
              "      <td>7.0</td>\n",
              "      <td>599.0</td>\n",
              "      <td>132</td>\n",
              "      <td>195</td>\n",
              "      <td>148</td>\n",
              "      <td>281</td>\n",
              "      <td>101</td>\n",
              "    </tr>\n",
              "    <tr>\n",
              "      <th>23</th>\n",
              "      <td>중     구</td>\n",
              "      <td>1544</td>\n",
              "      <td>25.0</td>\n",
              "      <td>165.0</td>\n",
              "      <td>114.0</td>\n",
              "      <td>80</td>\n",
              "      <td>245</td>\n",
              "      <td>270</td>\n",
              "      <td>317</td>\n",
              "      <td>328</td>\n",
              "    </tr>\n",
              "    <tr>\n",
              "      <th>24</th>\n",
              "      <td>중 랑 구</td>\n",
              "      <td>1068</td>\n",
              "      <td>NaN</td>\n",
              "      <td>NaN</td>\n",
              "      <td>NaN</td>\n",
              "      <td>770</td>\n",
              "      <td>102</td>\n",
              "      <td>121</td>\n",
              "      <td>66</td>\n",
              "      <td>9</td>\n",
              "    </tr>\n",
              "  </tbody>\n",
              "</table>\n",
              "</div>"
            ],
            "text/plain": [
              "        기관명    소계  2011년 이전  2012년  2013년  2014년  2015년  2016년  2017년  2018년\n",
              "20    용 산 구  2063    1279.0  152.0  201.0    107    102     89     60     73\n",
              "21    은 평 구  2962    1365.0   83.0   99.0    343    180    296    229    367\n",
              "22    종 로 구  1471       8.0    7.0  599.0    132    195    148    281    101\n",
              "23  중     구  1544      25.0  165.0  114.0     80    245    270    317    328\n",
              "24    중 랑 구  1068       NaN    NaN    NaN    770    102    121     66      9"
            ]
          },
          "metadata": {
            "tags": []
          },
          "execution_count": 8
        }
      ]
    },
    {
      "cell_type": "code",
      "metadata": {
        "colab": {
          "base_uri": "https://localhost:8080/"
        },
        "id": "3Y2Op_nhL3YZ",
        "outputId": "e49c5afb-1736-46e5-a72b-2900d5f69481"
      },
      "source": [
        "# (행, 열) 크기 확인하기\n",
        "cctv_df.shape"
      ],
      "execution_count": null,
      "outputs": [
        {
          "output_type": "execute_result",
          "data": {
            "text/plain": [
              "(25, 10)"
            ]
          },
          "metadata": {
            "tags": []
          },
          "execution_count": 10
        }
      ]
    },
    {
      "cell_type": "code",
      "metadata": {
        "colab": {
          "base_uri": "https://localhost:8080/"
        },
        "id": "fic7jzwdMWAV",
        "outputId": "169fb02b-bb69-4e3c-9f94-bf78daa834d7"
      },
      "source": [
        "# 전반적인 정보 확인하기\n",
        "cctv_df.info()"
      ],
      "execution_count": null,
      "outputs": [
        {
          "output_type": "stream",
          "text": [
            "<class 'pandas.core.frame.DataFrame'>\n",
            "RangeIndex: 25 entries, 0 to 24\n",
            "Data columns (total 10 columns):\n",
            " #   Column    Non-Null Count  Dtype  \n",
            "---  ------    --------------  -----  \n",
            " 0   기관명       25 non-null     object \n",
            " 1   소계        25 non-null     int64  \n",
            " 2   2011년 이전  23 non-null     float64\n",
            " 3   2012년     23 non-null     float64\n",
            " 4   2013년     23 non-null     float64\n",
            " 5   2014년     25 non-null     int64  \n",
            " 6   2015년     25 non-null     int64  \n",
            " 7   2016년     25 non-null     int64  \n",
            " 8   2017년     25 non-null     int64  \n",
            " 9   2018년     25 non-null     int64  \n",
            "dtypes: float64(3), int64(6), object(1)\n",
            "memory usage: 2.1+ KB\n"
          ],
          "name": "stdout"
        }
      ]
    },
    {
      "cell_type": "code",
      "metadata": {
        "colab": {
          "base_uri": "https://localhost:8080/",
          "height": 297
        },
        "id": "WITfksjuMayO",
        "outputId": "ae8e1485-504c-4618-dedb-47b67da47105"
      },
      "source": [
        "# 요약 통계량 확인하기\n",
        "cctv_df.describe()"
      ],
      "execution_count": null,
      "outputs": [
        {
          "output_type": "execute_result",
          "data": {
            "text/html": [
              "<div>\n",
              "<style scoped>\n",
              "    .dataframe tbody tr th:only-of-type {\n",
              "        vertical-align: middle;\n",
              "    }\n",
              "\n",
              "    .dataframe tbody tr th {\n",
              "        vertical-align: top;\n",
              "    }\n",
              "\n",
              "    .dataframe thead th {\n",
              "        text-align: right;\n",
              "    }\n",
              "</style>\n",
              "<table border=\"1\" class=\"dataframe\">\n",
              "  <thead>\n",
              "    <tr style=\"text-align: right;\">\n",
              "      <th></th>\n",
              "      <th>소계</th>\n",
              "      <th>2011년 이전</th>\n",
              "      <th>2012년</th>\n",
              "      <th>2013년</th>\n",
              "      <th>2014년</th>\n",
              "      <th>2015년</th>\n",
              "      <th>2016년</th>\n",
              "      <th>2017년</th>\n",
              "      <th>2018년</th>\n",
              "    </tr>\n",
              "  </thead>\n",
              "  <tbody>\n",
              "    <tr>\n",
              "      <th>count</th>\n",
              "      <td>25.000000</td>\n",
              "      <td>23.000000</td>\n",
              "      <td>23.000000</td>\n",
              "      <td>23.000000</td>\n",
              "      <td>25.000000</td>\n",
              "      <td>25.000000</td>\n",
              "      <td>25.000000</td>\n",
              "      <td>25.000000</td>\n",
              "      <td>25.000000</td>\n",
              "    </tr>\n",
              "    <tr>\n",
              "      <th>mean</th>\n",
              "      <td>2219.720000</td>\n",
              "      <td>580.478261</td>\n",
              "      <td>123.826087</td>\n",
              "      <td>194.217391</td>\n",
              "      <td>249.920000</td>\n",
              "      <td>226.880000</td>\n",
              "      <td>267.360000</td>\n",
              "      <td>299.440000</td>\n",
              "      <td>349.480000</td>\n",
              "    </tr>\n",
              "    <tr>\n",
              "      <th>std</th>\n",
              "      <td>967.646523</td>\n",
              "      <td>488.248248</td>\n",
              "      <td>81.895528</td>\n",
              "      <td>135.556414</td>\n",
              "      <td>285.271935</td>\n",
              "      <td>144.643908</td>\n",
              "      <td>160.365956</td>\n",
              "      <td>216.219618</td>\n",
              "      <td>218.601067</td>\n",
              "    </tr>\n",
              "    <tr>\n",
              "      <th>min</th>\n",
              "      <td>858.000000</td>\n",
              "      <td>8.000000</td>\n",
              "      <td>7.000000</td>\n",
              "      <td>8.000000</td>\n",
              "      <td>21.000000</td>\n",
              "      <td>59.000000</td>\n",
              "      <td>21.000000</td>\n",
              "      <td>1.000000</td>\n",
              "      <td>9.000000</td>\n",
              "    </tr>\n",
              "    <tr>\n",
              "      <th>25%</th>\n",
              "      <td>1586.000000</td>\n",
              "      <td>228.500000</td>\n",
              "      <td>83.500000</td>\n",
              "      <td>106.500000</td>\n",
              "      <td>87.000000</td>\n",
              "      <td>130.000000</td>\n",
              "      <td>155.000000</td>\n",
              "      <td>136.000000</td>\n",
              "      <td>195.000000</td>\n",
              "    </tr>\n",
              "    <tr>\n",
              "      <th>50%</th>\n",
              "      <td>1935.000000</td>\n",
              "      <td>481.000000</td>\n",
              "      <td>108.000000</td>\n",
              "      <td>185.000000</td>\n",
              "      <td>134.000000</td>\n",
              "      <td>180.000000</td>\n",
              "      <td>254.000000</td>\n",
              "      <td>273.000000</td>\n",
              "      <td>328.000000</td>\n",
              "    </tr>\n",
              "    <tr>\n",
              "      <th>75%</th>\n",
              "      <td>2775.000000</td>\n",
              "      <td>775.500000</td>\n",
              "      <td>158.000000</td>\n",
              "      <td>235.000000</td>\n",
              "      <td>241.000000</td>\n",
              "      <td>268.000000</td>\n",
              "      <td>326.000000</td>\n",
              "      <td>372.000000</td>\n",
              "      <td>448.000000</td>\n",
              "    </tr>\n",
              "    <tr>\n",
              "      <th>max</th>\n",
              "      <td>5221.000000</td>\n",
              "      <td>1944.000000</td>\n",
              "      <td>387.000000</td>\n",
              "      <td>599.000000</td>\n",
              "      <td>1326.000000</td>\n",
              "      <td>609.000000</td>\n",
              "      <td>765.000000</td>\n",
              "      <td>933.000000</td>\n",
              "      <td>830.000000</td>\n",
              "    </tr>\n",
              "  </tbody>\n",
              "</table>\n",
              "</div>"
            ],
            "text/plain": [
              "                소계     2011년 이전       2012년  ...       2016년       2017년       2018년\n",
              "count    25.000000    23.000000   23.000000  ...   25.000000   25.000000   25.000000\n",
              "mean   2219.720000   580.478261  123.826087  ...  267.360000  299.440000  349.480000\n",
              "std     967.646523   488.248248   81.895528  ...  160.365956  216.219618  218.601067\n",
              "min     858.000000     8.000000    7.000000  ...   21.000000    1.000000    9.000000\n",
              "25%    1586.000000   228.500000   83.500000  ...  155.000000  136.000000  195.000000\n",
              "50%    1935.000000   481.000000  108.000000  ...  254.000000  273.000000  328.000000\n",
              "75%    2775.000000   775.500000  158.000000  ...  326.000000  372.000000  448.000000\n",
              "max    5221.000000  1944.000000  387.000000  ...  765.000000  933.000000  830.000000\n",
              "\n",
              "[8 rows x 9 columns]"
            ]
          },
          "metadata": {
            "tags": []
          },
          "execution_count": 16
        }
      ]
    },
    {
      "cell_type": "code",
      "metadata": {
        "colab": {
          "base_uri": "https://localhost:8080/",
          "height": 824
        },
        "id": "zUv5ZrWFMpSA",
        "outputId": "5dc4a7bc-513d-4ad4-a985-8a7096be6603"
      },
      "source": [
        "# 정렬해서 보기 (2015년 기준 정렬)\n",
        "cctv_df.sort_values(by=['2015년'])"
      ],
      "execution_count": null,
      "outputs": [
        {
          "output_type": "execute_result",
          "data": {
            "text/html": [
              "<div>\n",
              "<style scoped>\n",
              "    .dataframe tbody tr th:only-of-type {\n",
              "        vertical-align: middle;\n",
              "    }\n",
              "\n",
              "    .dataframe tbody tr th {\n",
              "        vertical-align: top;\n",
              "    }\n",
              "\n",
              "    .dataframe thead th {\n",
              "        text-align: right;\n",
              "    }\n",
              "</style>\n",
              "<table border=\"1\" class=\"dataframe\">\n",
              "  <thead>\n",
              "    <tr style=\"text-align: right;\">\n",
              "      <th></th>\n",
              "      <th>기관명</th>\n",
              "      <th>소계</th>\n",
              "      <th>2011년 이전</th>\n",
              "      <th>2012년</th>\n",
              "      <th>2013년</th>\n",
              "      <th>2014년</th>\n",
              "      <th>2015년</th>\n",
              "      <th>2016년</th>\n",
              "      <th>2017년</th>\n",
              "      <th>2018년</th>\n",
              "    </tr>\n",
              "  </thead>\n",
              "  <tbody>\n",
              "    <tr>\n",
              "      <th>9</th>\n",
              "      <td>도 봉 구</td>\n",
              "      <td>858</td>\n",
              "      <td>197.0</td>\n",
              "      <td>66.0</td>\n",
              "      <td>8.0</td>\n",
              "      <td>185</td>\n",
              "      <td>59</td>\n",
              "      <td>155</td>\n",
              "      <td>117</td>\n",
              "      <td>71</td>\n",
              "    </tr>\n",
              "    <tr>\n",
              "      <th>5</th>\n",
              "      <td>광 진 구</td>\n",
              "      <td>1581</td>\n",
              "      <td>470.0</td>\n",
              "      <td>42.0</td>\n",
              "      <td>83.0</td>\n",
              "      <td>87</td>\n",
              "      <td>64</td>\n",
              "      <td>21</td>\n",
              "      <td>468</td>\n",
              "      <td>346</td>\n",
              "    </tr>\n",
              "    <tr>\n",
              "      <th>24</th>\n",
              "      <td>중 랑 구</td>\n",
              "      <td>1068</td>\n",
              "      <td>NaN</td>\n",
              "      <td>NaN</td>\n",
              "      <td>NaN</td>\n",
              "      <td>770</td>\n",
              "      <td>102</td>\n",
              "      <td>121</td>\n",
              "      <td>66</td>\n",
              "      <td>9</td>\n",
              "    </tr>\n",
              "    <tr>\n",
              "      <th>20</th>\n",
              "      <td>용 산 구</td>\n",
              "      <td>2063</td>\n",
              "      <td>1279.0</td>\n",
              "      <td>152.0</td>\n",
              "      <td>201.0</td>\n",
              "      <td>107</td>\n",
              "      <td>102</td>\n",
              "      <td>89</td>\n",
              "      <td>60</td>\n",
              "      <td>73</td>\n",
              "    </tr>\n",
              "    <tr>\n",
              "      <th>13</th>\n",
              "      <td>서대문구</td>\n",
              "      <td>2121</td>\n",
              "      <td>565.0</td>\n",
              "      <td>233.0</td>\n",
              "      <td>214.0</td>\n",
              "      <td>114</td>\n",
              "      <td>109</td>\n",
              "      <td>277</td>\n",
              "      <td>415</td>\n",
              "      <td>194</td>\n",
              "    </tr>\n",
              "    <tr>\n",
              "      <th>10</th>\n",
              "      <td>동대문구</td>\n",
              "      <td>2003</td>\n",
              "      <td>NaN</td>\n",
              "      <td>NaN</td>\n",
              "      <td>NaN</td>\n",
              "      <td>1326</td>\n",
              "      <td>111</td>\n",
              "      <td>233</td>\n",
              "      <td>136</td>\n",
              "      <td>197</td>\n",
              "    </tr>\n",
              "    <tr>\n",
              "      <th>11</th>\n",
              "      <td>동 작 구</td>\n",
              "      <td>1780</td>\n",
              "      <td>238.0</td>\n",
              "      <td>93.0</td>\n",
              "      <td>29.0</td>\n",
              "      <td>503</td>\n",
              "      <td>130</td>\n",
              "      <td>254</td>\n",
              "      <td>278</td>\n",
              "      <td>255</td>\n",
              "    </tr>\n",
              "    <tr>\n",
              "      <th>1</th>\n",
              "      <td>강 동 구</td>\n",
              "      <td>1879</td>\n",
              "      <td>303.0</td>\n",
              "      <td>387.0</td>\n",
              "      <td>134.0</td>\n",
              "      <td>59</td>\n",
              "      <td>144</td>\n",
              "      <td>194</td>\n",
              "      <td>273</td>\n",
              "      <td>385</td>\n",
              "    </tr>\n",
              "    <tr>\n",
              "      <th>2</th>\n",
              "      <td>강 북 구</td>\n",
              "      <td>1265</td>\n",
              "      <td>243.0</td>\n",
              "      <td>88.0</td>\n",
              "      <td>141.0</td>\n",
              "      <td>74</td>\n",
              "      <td>145</td>\n",
              "      <td>254</td>\n",
              "      <td>1</td>\n",
              "      <td>319</td>\n",
              "    </tr>\n",
              "    <tr>\n",
              "      <th>17</th>\n",
              "      <td>송 파 구</td>\n",
              "      <td>1586</td>\n",
              "      <td>600.0</td>\n",
              "      <td>99.0</td>\n",
              "      <td>88.0</td>\n",
              "      <td>21</td>\n",
              "      <td>166</td>\n",
              "      <td>100</td>\n",
              "      <td>116</td>\n",
              "      <td>396</td>\n",
              "    </tr>\n",
              "    <tr>\n",
              "      <th>18</th>\n",
              "      <td>양 천 구</td>\n",
              "      <td>2775</td>\n",
              "      <td>772.0</td>\n",
              "      <td>161.0</td>\n",
              "      <td>185.0</td>\n",
              "      <td>169</td>\n",
              "      <td>172</td>\n",
              "      <td>349</td>\n",
              "      <td>137</td>\n",
              "      <td>830</td>\n",
              "    </tr>\n",
              "    <tr>\n",
              "      <th>12</th>\n",
              "      <td>마 포 구</td>\n",
              "      <td>1935</td>\n",
              "      <td>585.0</td>\n",
              "      <td>108.0</td>\n",
              "      <td>69.0</td>\n",
              "      <td>70</td>\n",
              "      <td>177</td>\n",
              "      <td>359</td>\n",
              "      <td>372</td>\n",
              "      <td>195</td>\n",
              "    </tr>\n",
              "    <tr>\n",
              "      <th>21</th>\n",
              "      <td>은 평 구</td>\n",
              "      <td>2962</td>\n",
              "      <td>1365.0</td>\n",
              "      <td>83.0</td>\n",
              "      <td>99.0</td>\n",
              "      <td>343</td>\n",
              "      <td>180</td>\n",
              "      <td>296</td>\n",
              "      <td>229</td>\n",
              "      <td>367</td>\n",
              "    </tr>\n",
              "    <tr>\n",
              "      <th>3</th>\n",
              "      <td>강 서 구</td>\n",
              "      <td>1617</td>\n",
              "      <td>219.0</td>\n",
              "      <td>155.0</td>\n",
              "      <td>118.0</td>\n",
              "      <td>230</td>\n",
              "      <td>187</td>\n",
              "      <td>190</td>\n",
              "      <td>264</td>\n",
              "      <td>254</td>\n",
              "    </tr>\n",
              "    <tr>\n",
              "      <th>22</th>\n",
              "      <td>종 로 구</td>\n",
              "      <td>1471</td>\n",
              "      <td>8.0</td>\n",
              "      <td>7.0</td>\n",
              "      <td>599.0</td>\n",
              "      <td>132</td>\n",
              "      <td>195</td>\n",
              "      <td>148</td>\n",
              "      <td>281</td>\n",
              "      <td>101</td>\n",
              "    </tr>\n",
              "    <tr>\n",
              "      <th>14</th>\n",
              "      <td>서 초 구</td>\n",
              "      <td>2835</td>\n",
              "      <td>1172.0</td>\n",
              "      <td>91.0</td>\n",
              "      <td>228.0</td>\n",
              "      <td>134</td>\n",
              "      <td>215</td>\n",
              "      <td>352</td>\n",
              "      <td>247</td>\n",
              "      <td>396</td>\n",
              "    </tr>\n",
              "    <tr>\n",
              "      <th>23</th>\n",
              "      <td>중     구</td>\n",
              "      <td>1544</td>\n",
              "      <td>25.0</td>\n",
              "      <td>165.0</td>\n",
              "      <td>114.0</td>\n",
              "      <td>80</td>\n",
              "      <td>245</td>\n",
              "      <td>270</td>\n",
              "      <td>317</td>\n",
              "      <td>328</td>\n",
              "    </tr>\n",
              "    <tr>\n",
              "      <th>15</th>\n",
              "      <td>성 동 구</td>\n",
              "      <td>2679</td>\n",
              "      <td>665.0</td>\n",
              "      <td>109.0</td>\n",
              "      <td>118.0</td>\n",
              "      <td>101</td>\n",
              "      <td>258</td>\n",
              "      <td>201</td>\n",
              "      <td>933</td>\n",
              "      <td>294</td>\n",
              "    </tr>\n",
              "    <tr>\n",
              "      <th>6</th>\n",
              "      <td>구 로 구</td>\n",
              "      <td>3227</td>\n",
              "      <td>852.0</td>\n",
              "      <td>219.0</td>\n",
              "      <td>349.0</td>\n",
              "      <td>187</td>\n",
              "      <td>268</td>\n",
              "      <td>326</td>\n",
              "      <td>540</td>\n",
              "      <td>486</td>\n",
              "    </tr>\n",
              "    <tr>\n",
              "      <th>16</th>\n",
              "      <td>성 북 구</td>\n",
              "      <td>3003</td>\n",
              "      <td>779.0</td>\n",
              "      <td>84.0</td>\n",
              "      <td>304.0</td>\n",
              "      <td>241</td>\n",
              "      <td>279</td>\n",
              "      <td>388</td>\n",
              "      <td>285</td>\n",
              "      <td>643</td>\n",
              "    </tr>\n",
              "    <tr>\n",
              "      <th>19</th>\n",
              "      <td>영등포구</td>\n",
              "      <td>2495</td>\n",
              "      <td>132.0</td>\n",
              "      <td>121.0</td>\n",
              "      <td>206.0</td>\n",
              "      <td>217</td>\n",
              "      <td>366</td>\n",
              "      <td>289</td>\n",
              "      <td>371</td>\n",
              "      <td>793</td>\n",
              "    </tr>\n",
              "    <tr>\n",
              "      <th>7</th>\n",
              "      <td>금 천 구</td>\n",
              "      <td>1634</td>\n",
              "      <td>27.0</td>\n",
              "      <td>17.0</td>\n",
              "      <td>242.0</td>\n",
              "      <td>101</td>\n",
              "      <td>382</td>\n",
              "      <td>136</td>\n",
              "      <td>199</td>\n",
              "      <td>530</td>\n",
              "    </tr>\n",
              "    <tr>\n",
              "      <th>8</th>\n",
              "      <td>노 원 구</td>\n",
              "      <td>1906</td>\n",
              "      <td>481.0</td>\n",
              "      <td>117.0</td>\n",
              "      <td>203.0</td>\n",
              "      <td>80</td>\n",
              "      <td>461</td>\n",
              "      <td>298</td>\n",
              "      <td>110</td>\n",
              "      <td>156</td>\n",
              "    </tr>\n",
              "    <tr>\n",
              "      <th>0</th>\n",
              "      <td>강 남 구</td>\n",
              "      <td>5221</td>\n",
              "      <td>1944.0</td>\n",
              "      <td>195.0</td>\n",
              "      <td>316.0</td>\n",
              "      <td>430</td>\n",
              "      <td>546</td>\n",
              "      <td>765</td>\n",
              "      <td>577</td>\n",
              "      <td>448</td>\n",
              "    </tr>\n",
              "    <tr>\n",
              "      <th>4</th>\n",
              "      <td>관 악 구</td>\n",
              "      <td>3985</td>\n",
              "      <td>430.0</td>\n",
              "      <td>56.0</td>\n",
              "      <td>419.0</td>\n",
              "      <td>487</td>\n",
              "      <td>609</td>\n",
              "      <td>619</td>\n",
              "      <td>694</td>\n",
              "      <td>671</td>\n",
              "    </tr>\n",
              "  </tbody>\n",
              "</table>\n",
              "</div>"
            ],
            "text/plain": [
              "        기관명    소계  2011년 이전  2012년  2013년  2014년  2015년  2016년  2017년  2018년\n",
              "9     도 봉 구   858     197.0   66.0    8.0    185     59    155    117     71\n",
              "5     광 진 구  1581     470.0   42.0   83.0     87     64     21    468    346\n",
              "24    중 랑 구  1068       NaN    NaN    NaN    770    102    121     66      9\n",
              "20    용 산 구  2063    1279.0  152.0  201.0    107    102     89     60     73\n",
              "13     서대문구  2121     565.0  233.0  214.0    114    109    277    415    194\n",
              "10     동대문구  2003       NaN    NaN    NaN   1326    111    233    136    197\n",
              "11    동 작 구  1780     238.0   93.0   29.0    503    130    254    278    255\n",
              "1     강 동 구  1879     303.0  387.0  134.0     59    144    194    273    385\n",
              "2     강 북 구  1265     243.0   88.0  141.0     74    145    254      1    319\n",
              "17    송 파 구  1586     600.0   99.0   88.0     21    166    100    116    396\n",
              "18    양 천 구  2775     772.0  161.0  185.0    169    172    349    137    830\n",
              "12    마 포 구  1935     585.0  108.0   69.0     70    177    359    372    195\n",
              "21    은 평 구  2962    1365.0   83.0   99.0    343    180    296    229    367\n",
              "3     강 서 구  1617     219.0  155.0  118.0    230    187    190    264    254\n",
              "22    종 로 구  1471       8.0    7.0  599.0    132    195    148    281    101\n",
              "14    서 초 구  2835    1172.0   91.0  228.0    134    215    352    247    396\n",
              "23  중     구  1544      25.0  165.0  114.0     80    245    270    317    328\n",
              "15    성 동 구  2679     665.0  109.0  118.0    101    258    201    933    294\n",
              "6     구 로 구  3227     852.0  219.0  349.0    187    268    326    540    486\n",
              "16    성 북 구  3003     779.0   84.0  304.0    241    279    388    285    643\n",
              "19     영등포구  2495     132.0  121.0  206.0    217    366    289    371    793\n",
              "7     금 천 구  1634      27.0   17.0  242.0    101    382    136    199    530\n",
              "8     노 원 구  1906     481.0  117.0  203.0     80    461    298    110    156\n",
              "0     강 남 구  5221    1944.0  195.0  316.0    430    546    765    577    448\n",
              "4     관 악 구  3985     430.0   56.0  419.0    487    609    619    694    671"
            ]
          },
          "metadata": {
            "tags": []
          },
          "execution_count": 17
        }
      ]
    },
    {
      "cell_type": "code",
      "metadata": {
        "id": "-ASABUC8M78y"
      },
      "source": [
        "# Null값(빈 값) 체우기\n",
        "cctv_df.fillna(0, inplace = True)"
      ],
      "execution_count": null,
      "outputs": []
    },
    {
      "cell_type": "code",
      "metadata": {
        "colab": {
          "base_uri": "https://localhost:8080/"
        },
        "id": "_Il4sio9NKeD",
        "outputId": "9c61f2bb-661c-4f21-c877-ef1318896b57"
      },
      "source": [
        "# 합계 구하기\n",
        "cctv_df['2011년 이전'].sum()"
      ],
      "execution_count": null,
      "outputs": [
        {
          "output_type": "execute_result",
          "data": {
            "text/plain": [
              "13351.0"
            ]
          },
          "metadata": {
            "tags": []
          },
          "execution_count": 20
        }
      ]
    },
    {
      "cell_type": "code",
      "metadata": {
        "colab": {
          "base_uri": "https://localhost:8080/"
        },
        "id": "8GtUVvlzNsu9",
        "outputId": "21aaf7ef-fef9-4cd1-ab24-0ba3501ed7d8"
      },
      "source": [
        "# 평균 구하기\n",
        "aver = cctv_df['2012년'].mean()\n",
        "round(aver, 1)"
      ],
      "execution_count": null,
      "outputs": [
        {
          "output_type": "execute_result",
          "data": {
            "text/plain": [
              "123.8"
            ]
          },
          "metadata": {
            "tags": []
          },
          "execution_count": 26
        }
      ]
    },
    {
      "cell_type": "code",
      "metadata": {
        "colab": {
          "base_uri": "https://localhost:8080/"
        },
        "id": "qr5E6ZfAOEl3",
        "outputId": "b542178f-41e9-4f3c-de9d-02d8f8695895"
      },
      "source": [
        "cctv_df.loc[19, '2012년'] # 영등포구, 2012년 cctv개수"
      ],
      "execution_count": null,
      "outputs": [
        {
          "output_type": "execute_result",
          "data": {
            "text/plain": [
              "121.0"
            ]
          },
          "metadata": {
            "tags": []
          },
          "execution_count": 53
        }
      ]
    },
    {
      "cell_type": "code",
      "metadata": {
        "colab": {
          "base_uri": "https://localhost:8080/",
          "height": 204
        },
        "id": "MUaJnwPbOpFx",
        "outputId": "5f443d16-d732-4991-e655-9365641fa0a8"
      },
      "source": [
        "cctv_df.iloc[[1, 3, 20, 22, 24], 0:4] "
      ],
      "execution_count": null,
      "outputs": [
        {
          "output_type": "execute_result",
          "data": {
            "text/html": [
              "<div>\n",
              "<style scoped>\n",
              "    .dataframe tbody tr th:only-of-type {\n",
              "        vertical-align: middle;\n",
              "    }\n",
              "\n",
              "    .dataframe tbody tr th {\n",
              "        vertical-align: top;\n",
              "    }\n",
              "\n",
              "    .dataframe thead th {\n",
              "        text-align: right;\n",
              "    }\n",
              "</style>\n",
              "<table border=\"1\" class=\"dataframe\">\n",
              "  <thead>\n",
              "    <tr style=\"text-align: right;\">\n",
              "      <th></th>\n",
              "      <th>기관명</th>\n",
              "      <th>소계</th>\n",
              "      <th>2011년 이전</th>\n",
              "      <th>2012년</th>\n",
              "    </tr>\n",
              "  </thead>\n",
              "  <tbody>\n",
              "    <tr>\n",
              "      <th>1</th>\n",
              "      <td>강 동 구</td>\n",
              "      <td>1879</td>\n",
              "      <td>303.0</td>\n",
              "      <td>387.0</td>\n",
              "    </tr>\n",
              "    <tr>\n",
              "      <th>3</th>\n",
              "      <td>강 서 구</td>\n",
              "      <td>1617</td>\n",
              "      <td>219.0</td>\n",
              "      <td>155.0</td>\n",
              "    </tr>\n",
              "    <tr>\n",
              "      <th>20</th>\n",
              "      <td>용 산 구</td>\n",
              "      <td>2063</td>\n",
              "      <td>1279.0</td>\n",
              "      <td>152.0</td>\n",
              "    </tr>\n",
              "    <tr>\n",
              "      <th>22</th>\n",
              "      <td>종 로 구</td>\n",
              "      <td>1471</td>\n",
              "      <td>8.0</td>\n",
              "      <td>7.0</td>\n",
              "    </tr>\n",
              "    <tr>\n",
              "      <th>24</th>\n",
              "      <td>중 랑 구</td>\n",
              "      <td>1068</td>\n",
              "      <td>0.0</td>\n",
              "      <td>0.0</td>\n",
              "    </tr>\n",
              "  </tbody>\n",
              "</table>\n",
              "</div>"
            ],
            "text/plain": [
              "      기관명    소계  2011년 이전  2012년\n",
              "1   강 동 구  1879     303.0  387.0\n",
              "3   강 서 구  1617     219.0  155.0\n",
              "20  용 산 구  2063    1279.0  152.0\n",
              "22  종 로 구  1471       8.0    7.0\n",
              "24  중 랑 구  1068       0.0    0.0"
            ]
          },
          "metadata": {
            "tags": []
          },
          "execution_count": 65
        }
      ]
    },
    {
      "cell_type": "code",
      "metadata": {
        "colab": {
          "base_uri": "https://localhost:8080/",
          "height": 297
        },
        "id": "jSffalmrRY8N",
        "outputId": "172cf42f-7ee5-486e-8ad0-473f07edfc31"
      },
      "source": [
        "cctv_df[cctv_df['2018년'] < 200]"
      ],
      "execution_count": null,
      "outputs": [
        {
          "output_type": "execute_result",
          "data": {
            "text/html": [
              "<div>\n",
              "<style scoped>\n",
              "    .dataframe tbody tr th:only-of-type {\n",
              "        vertical-align: middle;\n",
              "    }\n",
              "\n",
              "    .dataframe tbody tr th {\n",
              "        vertical-align: top;\n",
              "    }\n",
              "\n",
              "    .dataframe thead th {\n",
              "        text-align: right;\n",
              "    }\n",
              "</style>\n",
              "<table border=\"1\" class=\"dataframe\">\n",
              "  <thead>\n",
              "    <tr style=\"text-align: right;\">\n",
              "      <th></th>\n",
              "      <th>기관명</th>\n",
              "      <th>소계</th>\n",
              "      <th>2011년 이전</th>\n",
              "      <th>2012년</th>\n",
              "      <th>2013년</th>\n",
              "      <th>2014년</th>\n",
              "      <th>2015년</th>\n",
              "      <th>2016년</th>\n",
              "      <th>2017년</th>\n",
              "      <th>2018년</th>\n",
              "    </tr>\n",
              "  </thead>\n",
              "  <tbody>\n",
              "    <tr>\n",
              "      <th>8</th>\n",
              "      <td>노 원 구</td>\n",
              "      <td>1906</td>\n",
              "      <td>481.0</td>\n",
              "      <td>117.0</td>\n",
              "      <td>203.0</td>\n",
              "      <td>80</td>\n",
              "      <td>461</td>\n",
              "      <td>298</td>\n",
              "      <td>110</td>\n",
              "      <td>156</td>\n",
              "    </tr>\n",
              "    <tr>\n",
              "      <th>9</th>\n",
              "      <td>도 봉 구</td>\n",
              "      <td>858</td>\n",
              "      <td>197.0</td>\n",
              "      <td>66.0</td>\n",
              "      <td>8.0</td>\n",
              "      <td>185</td>\n",
              "      <td>59</td>\n",
              "      <td>155</td>\n",
              "      <td>117</td>\n",
              "      <td>71</td>\n",
              "    </tr>\n",
              "    <tr>\n",
              "      <th>10</th>\n",
              "      <td>동대문구</td>\n",
              "      <td>2003</td>\n",
              "      <td>0.0</td>\n",
              "      <td>0.0</td>\n",
              "      <td>0.0</td>\n",
              "      <td>1326</td>\n",
              "      <td>111</td>\n",
              "      <td>233</td>\n",
              "      <td>136</td>\n",
              "      <td>197</td>\n",
              "    </tr>\n",
              "    <tr>\n",
              "      <th>12</th>\n",
              "      <td>마 포 구</td>\n",
              "      <td>1935</td>\n",
              "      <td>585.0</td>\n",
              "      <td>108.0</td>\n",
              "      <td>69.0</td>\n",
              "      <td>70</td>\n",
              "      <td>177</td>\n",
              "      <td>359</td>\n",
              "      <td>372</td>\n",
              "      <td>195</td>\n",
              "    </tr>\n",
              "    <tr>\n",
              "      <th>13</th>\n",
              "      <td>서대문구</td>\n",
              "      <td>2121</td>\n",
              "      <td>565.0</td>\n",
              "      <td>233.0</td>\n",
              "      <td>214.0</td>\n",
              "      <td>114</td>\n",
              "      <td>109</td>\n",
              "      <td>277</td>\n",
              "      <td>415</td>\n",
              "      <td>194</td>\n",
              "    </tr>\n",
              "    <tr>\n",
              "      <th>20</th>\n",
              "      <td>용 산 구</td>\n",
              "      <td>2063</td>\n",
              "      <td>1279.0</td>\n",
              "      <td>152.0</td>\n",
              "      <td>201.0</td>\n",
              "      <td>107</td>\n",
              "      <td>102</td>\n",
              "      <td>89</td>\n",
              "      <td>60</td>\n",
              "      <td>73</td>\n",
              "    </tr>\n",
              "    <tr>\n",
              "      <th>22</th>\n",
              "      <td>종 로 구</td>\n",
              "      <td>1471</td>\n",
              "      <td>8.0</td>\n",
              "      <td>7.0</td>\n",
              "      <td>599.0</td>\n",
              "      <td>132</td>\n",
              "      <td>195</td>\n",
              "      <td>148</td>\n",
              "      <td>281</td>\n",
              "      <td>101</td>\n",
              "    </tr>\n",
              "    <tr>\n",
              "      <th>24</th>\n",
              "      <td>중 랑 구</td>\n",
              "      <td>1068</td>\n",
              "      <td>0.0</td>\n",
              "      <td>0.0</td>\n",
              "      <td>0.0</td>\n",
              "      <td>770</td>\n",
              "      <td>102</td>\n",
              "      <td>121</td>\n",
              "      <td>66</td>\n",
              "      <td>9</td>\n",
              "    </tr>\n",
              "  </tbody>\n",
              "</table>\n",
              "</div>"
            ],
            "text/plain": [
              "      기관명    소계  2011년 이전  2012년  2013년  2014년  2015년  2016년  2017년  2018년\n",
              "8   노 원 구  1906     481.0  117.0  203.0     80    461    298    110    156\n",
              "9   도 봉 구   858     197.0   66.0    8.0    185     59    155    117     71\n",
              "10   동대문구  2003       0.0    0.0    0.0   1326    111    233    136    197\n",
              "12  마 포 구  1935     585.0  108.0   69.0     70    177    359    372    195\n",
              "13   서대문구  2121     565.0  233.0  214.0    114    109    277    415    194\n",
              "20  용 산 구  2063    1279.0  152.0  201.0    107    102     89     60     73\n",
              "22  종 로 구  1471       8.0    7.0  599.0    132    195    148    281    101\n",
              "24  중 랑 구  1068       0.0    0.0    0.0    770    102    121     66      9"
            ]
          },
          "metadata": {
            "tags": []
          },
          "execution_count": 71
        }
      ]
    },
    {
      "cell_type": "code",
      "metadata": {
        "id": "ZfW21B85RpgQ"
      },
      "source": [
        ""
      ],
      "execution_count": null,
      "outputs": []
    }
  ]
}